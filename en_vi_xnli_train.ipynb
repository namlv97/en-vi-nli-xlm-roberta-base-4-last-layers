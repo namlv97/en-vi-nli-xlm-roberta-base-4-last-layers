{
  "nbformat": 4,
  "nbformat_minor": 0,
  "metadata": {
    "colab": {
      "name": "en-vi-xnli-train",
      "provenance": [],
      "collapsed_sections": [],
      "toc_visible": true
    },
    "kernelspec": {
      "name": "python3",
      "display_name": "Python 3"
    },
    "language_info": {
      "name": "python"
    },
    "accelerator": "GPU",
    "widgets": {
      "application/vnd.jupyter.widget-state+json": {
        "cd06bfb4b6a4452ca7f37e8c2fb290a8": {
          "model_module": "@jupyter-widgets/controls",
          "model_name": "HBoxModel",
          "model_module_version": "1.5.0",
          "state": {
            "_dom_classes": [],
            "_model_module": "@jupyter-widgets/controls",
            "_model_module_version": "1.5.0",
            "_model_name": "HBoxModel",
            "_view_count": null,
            "_view_module": "@jupyter-widgets/controls",
            "_view_module_version": "1.5.0",
            "_view_name": "HBoxView",
            "box_style": "",
            "children": [
              "IPY_MODEL_070c232681d84e148742b79566fc4f02",
              "IPY_MODEL_61b37a61bc6c494b9658de09d6f6f251",
              "IPY_MODEL_997f4c41fa3648df85ff5be529d78ed0"
            ],
            "layout": "IPY_MODEL_9f1f2f3f0e514f568883d1b080e5b975"
          }
        },
        "070c232681d84e148742b79566fc4f02": {
          "model_module": "@jupyter-widgets/controls",
          "model_name": "HTMLModel",
          "model_module_version": "1.5.0",
          "state": {
            "_dom_classes": [],
            "_model_module": "@jupyter-widgets/controls",
            "_model_module_version": "1.5.0",
            "_model_name": "HTMLModel",
            "_view_count": null,
            "_view_module": "@jupyter-widgets/controls",
            "_view_module_version": "1.5.0",
            "_view_name": "HTMLView",
            "description": "",
            "description_tooltip": null,
            "layout": "IPY_MODEL_9b4d9ced759a45149230c0f0daf7d62e",
            "placeholder": "​",
            "style": "IPY_MODEL_d6a25bb14fdb454c855fcb31f98b7412",
            "value": "100%"
          }
        },
        "61b37a61bc6c494b9658de09d6f6f251": {
          "model_module": "@jupyter-widgets/controls",
          "model_name": "FloatProgressModel",
          "model_module_version": "1.5.0",
          "state": {
            "_dom_classes": [],
            "_model_module": "@jupyter-widgets/controls",
            "_model_module_version": "1.5.0",
            "_model_name": "FloatProgressModel",
            "_view_count": null,
            "_view_module": "@jupyter-widgets/controls",
            "_view_module_version": "1.5.0",
            "_view_name": "ProgressView",
            "bar_style": "success",
            "description": "",
            "description_tooltip": null,
            "layout": "IPY_MODEL_ba4a1025838047759ea1c43370a052b6",
            "max": 100000,
            "min": 0,
            "orientation": "horizontal",
            "style": "IPY_MODEL_6cf4cefd1d6a430fb2a38082d6870d75",
            "value": 100000
          }
        },
        "997f4c41fa3648df85ff5be529d78ed0": {
          "model_module": "@jupyter-widgets/controls",
          "model_name": "HTMLModel",
          "model_module_version": "1.5.0",
          "state": {
            "_dom_classes": [],
            "_model_module": "@jupyter-widgets/controls",
            "_model_module_version": "1.5.0",
            "_model_name": "HTMLModel",
            "_view_count": null,
            "_view_module": "@jupyter-widgets/controls",
            "_view_module_version": "1.5.0",
            "_view_name": "HTMLView",
            "description": "",
            "description_tooltip": null,
            "layout": "IPY_MODEL_61648412220d46d4bf7c52f6c3e762d4",
            "placeholder": "​",
            "style": "IPY_MODEL_c8279e0e38bc4cefa51f400e85c0cd84",
            "value": " 100000/100000 [24:11&lt;00:00, 4560.76it/s]"
          }
        },
        "9f1f2f3f0e514f568883d1b080e5b975": {
          "model_module": "@jupyter-widgets/base",
          "model_name": "LayoutModel",
          "model_module_version": "1.2.0",
          "state": {
            "_model_module": "@jupyter-widgets/base",
            "_model_module_version": "1.2.0",
            "_model_name": "LayoutModel",
            "_view_count": null,
            "_view_module": "@jupyter-widgets/base",
            "_view_module_version": "1.2.0",
            "_view_name": "LayoutView",
            "align_content": null,
            "align_items": null,
            "align_self": null,
            "border": null,
            "bottom": null,
            "display": null,
            "flex": null,
            "flex_flow": null,
            "grid_area": null,
            "grid_auto_columns": null,
            "grid_auto_flow": null,
            "grid_auto_rows": null,
            "grid_column": null,
            "grid_gap": null,
            "grid_row": null,
            "grid_template_areas": null,
            "grid_template_columns": null,
            "grid_template_rows": null,
            "height": null,
            "justify_content": null,
            "justify_items": null,
            "left": null,
            "margin": null,
            "max_height": null,
            "max_width": null,
            "min_height": null,
            "min_width": null,
            "object_fit": null,
            "object_position": null,
            "order": null,
            "overflow": null,
            "overflow_x": null,
            "overflow_y": null,
            "padding": null,
            "right": null,
            "top": null,
            "visibility": null,
            "width": null
          }
        },
        "9b4d9ced759a45149230c0f0daf7d62e": {
          "model_module": "@jupyter-widgets/base",
          "model_name": "LayoutModel",
          "model_module_version": "1.2.0",
          "state": {
            "_model_module": "@jupyter-widgets/base",
            "_model_module_version": "1.2.0",
            "_model_name": "LayoutModel",
            "_view_count": null,
            "_view_module": "@jupyter-widgets/base",
            "_view_module_version": "1.2.0",
            "_view_name": "LayoutView",
            "align_content": null,
            "align_items": null,
            "align_self": null,
            "border": null,
            "bottom": null,
            "display": null,
            "flex": null,
            "flex_flow": null,
            "grid_area": null,
            "grid_auto_columns": null,
            "grid_auto_flow": null,
            "grid_auto_rows": null,
            "grid_column": null,
            "grid_gap": null,
            "grid_row": null,
            "grid_template_areas": null,
            "grid_template_columns": null,
            "grid_template_rows": null,
            "height": null,
            "justify_content": null,
            "justify_items": null,
            "left": null,
            "margin": null,
            "max_height": null,
            "max_width": null,
            "min_height": null,
            "min_width": null,
            "object_fit": null,
            "object_position": null,
            "order": null,
            "overflow": null,
            "overflow_x": null,
            "overflow_y": null,
            "padding": null,
            "right": null,
            "top": null,
            "visibility": null,
            "width": null
          }
        },
        "d6a25bb14fdb454c855fcb31f98b7412": {
          "model_module": "@jupyter-widgets/controls",
          "model_name": "DescriptionStyleModel",
          "model_module_version": "1.5.0",
          "state": {
            "_model_module": "@jupyter-widgets/controls",
            "_model_module_version": "1.5.0",
            "_model_name": "DescriptionStyleModel",
            "_view_count": null,
            "_view_module": "@jupyter-widgets/base",
            "_view_module_version": "1.2.0",
            "_view_name": "StyleView",
            "description_width": ""
          }
        },
        "ba4a1025838047759ea1c43370a052b6": {
          "model_module": "@jupyter-widgets/base",
          "model_name": "LayoutModel",
          "model_module_version": "1.2.0",
          "state": {
            "_model_module": "@jupyter-widgets/base",
            "_model_module_version": "1.2.0",
            "_model_name": "LayoutModel",
            "_view_count": null,
            "_view_module": "@jupyter-widgets/base",
            "_view_module_version": "1.2.0",
            "_view_name": "LayoutView",
            "align_content": null,
            "align_items": null,
            "align_self": null,
            "border": null,
            "bottom": null,
            "display": null,
            "flex": null,
            "flex_flow": null,
            "grid_area": null,
            "grid_auto_columns": null,
            "grid_auto_flow": null,
            "grid_auto_rows": null,
            "grid_column": null,
            "grid_gap": null,
            "grid_row": null,
            "grid_template_areas": null,
            "grid_template_columns": null,
            "grid_template_rows": null,
            "height": null,
            "justify_content": null,
            "justify_items": null,
            "left": null,
            "margin": null,
            "max_height": null,
            "max_width": null,
            "min_height": null,
            "min_width": null,
            "object_fit": null,
            "object_position": null,
            "order": null,
            "overflow": null,
            "overflow_x": null,
            "overflow_y": null,
            "padding": null,
            "right": null,
            "top": null,
            "visibility": null,
            "width": null
          }
        },
        "6cf4cefd1d6a430fb2a38082d6870d75": {
          "model_module": "@jupyter-widgets/controls",
          "model_name": "ProgressStyleModel",
          "model_module_version": "1.5.0",
          "state": {
            "_model_module": "@jupyter-widgets/controls",
            "_model_module_version": "1.5.0",
            "_model_name": "ProgressStyleModel",
            "_view_count": null,
            "_view_module": "@jupyter-widgets/base",
            "_view_module_version": "1.2.0",
            "_view_name": "StyleView",
            "bar_color": null,
            "description_width": ""
          }
        },
        "61648412220d46d4bf7c52f6c3e762d4": {
          "model_module": "@jupyter-widgets/base",
          "model_name": "LayoutModel",
          "model_module_version": "1.2.0",
          "state": {
            "_model_module": "@jupyter-widgets/base",
            "_model_module_version": "1.2.0",
            "_model_name": "LayoutModel",
            "_view_count": null,
            "_view_module": "@jupyter-widgets/base",
            "_view_module_version": "1.2.0",
            "_view_name": "LayoutView",
            "align_content": null,
            "align_items": null,
            "align_self": null,
            "border": null,
            "bottom": null,
            "display": null,
            "flex": null,
            "flex_flow": null,
            "grid_area": null,
            "grid_auto_columns": null,
            "grid_auto_flow": null,
            "grid_auto_rows": null,
            "grid_column": null,
            "grid_gap": null,
            "grid_row": null,
            "grid_template_areas": null,
            "grid_template_columns": null,
            "grid_template_rows": null,
            "height": null,
            "justify_content": null,
            "justify_items": null,
            "left": null,
            "margin": null,
            "max_height": null,
            "max_width": null,
            "min_height": null,
            "min_width": null,
            "object_fit": null,
            "object_position": null,
            "order": null,
            "overflow": null,
            "overflow_x": null,
            "overflow_y": null,
            "padding": null,
            "right": null,
            "top": null,
            "visibility": null,
            "width": null
          }
        },
        "c8279e0e38bc4cefa51f400e85c0cd84": {
          "model_module": "@jupyter-widgets/controls",
          "model_name": "DescriptionStyleModel",
          "model_module_version": "1.5.0",
          "state": {
            "_model_module": "@jupyter-widgets/controls",
            "_model_module_version": "1.5.0",
            "_model_name": "DescriptionStyleModel",
            "_view_count": null,
            "_view_module": "@jupyter-widgets/base",
            "_view_module_version": "1.2.0",
            "_view_name": "StyleView",
            "description_width": ""
          }
        },
        "7832b6930d3f4f28a16cc7c0e2bddc16": {
          "model_module": "@jupyter-widgets/controls",
          "model_name": "HBoxModel",
          "model_module_version": "1.5.0",
          "state": {
            "_dom_classes": [],
            "_model_module": "@jupyter-widgets/controls",
            "_model_module_version": "1.5.0",
            "_model_name": "HBoxModel",
            "_view_count": null,
            "_view_module": "@jupyter-widgets/controls",
            "_view_module_version": "1.5.0",
            "_view_name": "HBoxView",
            "box_style": "",
            "children": [
              "IPY_MODEL_3d451e2e8c384225b2a59860405187be",
              "IPY_MODEL_75b6e7e09d144a348423ef01392cb87d",
              "IPY_MODEL_24c05130afb6407ebcb737ed0e0794c9"
            ],
            "layout": "IPY_MODEL_d6f046402c0845f9b35612b7afe76027"
          }
        },
        "3d451e2e8c384225b2a59860405187be": {
          "model_module": "@jupyter-widgets/controls",
          "model_name": "HTMLModel",
          "model_module_version": "1.5.0",
          "state": {
            "_dom_classes": [],
            "_model_module": "@jupyter-widgets/controls",
            "_model_module_version": "1.5.0",
            "_model_name": "HTMLModel",
            "_view_count": null,
            "_view_module": "@jupyter-widgets/controls",
            "_view_module_version": "1.5.0",
            "_view_name": "HTMLView",
            "description": "",
            "description_tooltip": null,
            "layout": "IPY_MODEL_cf3b9885e23d4ffbaaa7d57d2f2389f4",
            "placeholder": "​",
            "style": "IPY_MODEL_384f74eb971e44fdb6081e2e6f5a73ef",
            "value": "100%"
          }
        },
        "75b6e7e09d144a348423ef01392cb87d": {
          "model_module": "@jupyter-widgets/controls",
          "model_name": "FloatProgressModel",
          "model_module_version": "1.5.0",
          "state": {
            "_dom_classes": [],
            "_model_module": "@jupyter-widgets/controls",
            "_model_module_version": "1.5.0",
            "_model_name": "FloatProgressModel",
            "_view_count": null,
            "_view_module": "@jupyter-widgets/controls",
            "_view_module_version": "1.5.0",
            "_view_name": "ProgressView",
            "bar_style": "success",
            "description": "",
            "description_tooltip": null,
            "layout": "IPY_MODEL_21610a4386634bdaaee36c01c293f863",
            "max": 4980,
            "min": 0,
            "orientation": "horizontal",
            "style": "IPY_MODEL_6c8491b6eb3f455884c564bc0c74d49e",
            "value": 4980
          }
        },
        "24c05130afb6407ebcb737ed0e0794c9": {
          "model_module": "@jupyter-widgets/controls",
          "model_name": "HTMLModel",
          "model_module_version": "1.5.0",
          "state": {
            "_dom_classes": [],
            "_model_module": "@jupyter-widgets/controls",
            "_model_module_version": "1.5.0",
            "_model_name": "HTMLModel",
            "_view_count": null,
            "_view_module": "@jupyter-widgets/controls",
            "_view_module_version": "1.5.0",
            "_view_name": "HTMLView",
            "description": "",
            "description_tooltip": null,
            "layout": "IPY_MODEL_6fa23cb5beb941529f0d421e3f01d449",
            "placeholder": "​",
            "style": "IPY_MODEL_263b1b798c9847d989ed5275b4f3f555",
            "value": " 4980/4980 [23:45&lt;00:00, 4207.04it/s]"
          }
        },
        "d6f046402c0845f9b35612b7afe76027": {
          "model_module": "@jupyter-widgets/base",
          "model_name": "LayoutModel",
          "model_module_version": "1.2.0",
          "state": {
            "_model_module": "@jupyter-widgets/base",
            "_model_module_version": "1.2.0",
            "_model_name": "LayoutModel",
            "_view_count": null,
            "_view_module": "@jupyter-widgets/base",
            "_view_module_version": "1.2.0",
            "_view_name": "LayoutView",
            "align_content": null,
            "align_items": null,
            "align_self": null,
            "border": null,
            "bottom": null,
            "display": null,
            "flex": null,
            "flex_flow": null,
            "grid_area": null,
            "grid_auto_columns": null,
            "grid_auto_flow": null,
            "grid_auto_rows": null,
            "grid_column": null,
            "grid_gap": null,
            "grid_row": null,
            "grid_template_areas": null,
            "grid_template_columns": null,
            "grid_template_rows": null,
            "height": null,
            "justify_content": null,
            "justify_items": null,
            "left": null,
            "margin": null,
            "max_height": null,
            "max_width": null,
            "min_height": null,
            "min_width": null,
            "object_fit": null,
            "object_position": null,
            "order": null,
            "overflow": null,
            "overflow_x": null,
            "overflow_y": null,
            "padding": null,
            "right": null,
            "top": null,
            "visibility": null,
            "width": null
          }
        },
        "cf3b9885e23d4ffbaaa7d57d2f2389f4": {
          "model_module": "@jupyter-widgets/base",
          "model_name": "LayoutModel",
          "model_module_version": "1.2.0",
          "state": {
            "_model_module": "@jupyter-widgets/base",
            "_model_module_version": "1.2.0",
            "_model_name": "LayoutModel",
            "_view_count": null,
            "_view_module": "@jupyter-widgets/base",
            "_view_module_version": "1.2.0",
            "_view_name": "LayoutView",
            "align_content": null,
            "align_items": null,
            "align_self": null,
            "border": null,
            "bottom": null,
            "display": null,
            "flex": null,
            "flex_flow": null,
            "grid_area": null,
            "grid_auto_columns": null,
            "grid_auto_flow": null,
            "grid_auto_rows": null,
            "grid_column": null,
            "grid_gap": null,
            "grid_row": null,
            "grid_template_areas": null,
            "grid_template_columns": null,
            "grid_template_rows": null,
            "height": null,
            "justify_content": null,
            "justify_items": null,
            "left": null,
            "margin": null,
            "max_height": null,
            "max_width": null,
            "min_height": null,
            "min_width": null,
            "object_fit": null,
            "object_position": null,
            "order": null,
            "overflow": null,
            "overflow_x": null,
            "overflow_y": null,
            "padding": null,
            "right": null,
            "top": null,
            "visibility": null,
            "width": null
          }
        },
        "384f74eb971e44fdb6081e2e6f5a73ef": {
          "model_module": "@jupyter-widgets/controls",
          "model_name": "DescriptionStyleModel",
          "model_module_version": "1.5.0",
          "state": {
            "_model_module": "@jupyter-widgets/controls",
            "_model_module_version": "1.5.0",
            "_model_name": "DescriptionStyleModel",
            "_view_count": null,
            "_view_module": "@jupyter-widgets/base",
            "_view_module_version": "1.2.0",
            "_view_name": "StyleView",
            "description_width": ""
          }
        },
        "21610a4386634bdaaee36c01c293f863": {
          "model_module": "@jupyter-widgets/base",
          "model_name": "LayoutModel",
          "model_module_version": "1.2.0",
          "state": {
            "_model_module": "@jupyter-widgets/base",
            "_model_module_version": "1.2.0",
            "_model_name": "LayoutModel",
            "_view_count": null,
            "_view_module": "@jupyter-widgets/base",
            "_view_module_version": "1.2.0",
            "_view_name": "LayoutView",
            "align_content": null,
            "align_items": null,
            "align_self": null,
            "border": null,
            "bottom": null,
            "display": null,
            "flex": null,
            "flex_flow": null,
            "grid_area": null,
            "grid_auto_columns": null,
            "grid_auto_flow": null,
            "grid_auto_rows": null,
            "grid_column": null,
            "grid_gap": null,
            "grid_row": null,
            "grid_template_areas": null,
            "grid_template_columns": null,
            "grid_template_rows": null,
            "height": null,
            "justify_content": null,
            "justify_items": null,
            "left": null,
            "margin": null,
            "max_height": null,
            "max_width": null,
            "min_height": null,
            "min_width": null,
            "object_fit": null,
            "object_position": null,
            "order": null,
            "overflow": null,
            "overflow_x": null,
            "overflow_y": null,
            "padding": null,
            "right": null,
            "top": null,
            "visibility": null,
            "width": null
          }
        },
        "6c8491b6eb3f455884c564bc0c74d49e": {
          "model_module": "@jupyter-widgets/controls",
          "model_name": "ProgressStyleModel",
          "model_module_version": "1.5.0",
          "state": {
            "_model_module": "@jupyter-widgets/controls",
            "_model_module_version": "1.5.0",
            "_model_name": "ProgressStyleModel",
            "_view_count": null,
            "_view_module": "@jupyter-widgets/base",
            "_view_module_version": "1.2.0",
            "_view_name": "StyleView",
            "bar_color": null,
            "description_width": ""
          }
        },
        "6fa23cb5beb941529f0d421e3f01d449": {
          "model_module": "@jupyter-widgets/base",
          "model_name": "LayoutModel",
          "model_module_version": "1.2.0",
          "state": {
            "_model_module": "@jupyter-widgets/base",
            "_model_module_version": "1.2.0",
            "_model_name": "LayoutModel",
            "_view_count": null,
            "_view_module": "@jupyter-widgets/base",
            "_view_module_version": "1.2.0",
            "_view_name": "LayoutView",
            "align_content": null,
            "align_items": null,
            "align_self": null,
            "border": null,
            "bottom": null,
            "display": null,
            "flex": null,
            "flex_flow": null,
            "grid_area": null,
            "grid_auto_columns": null,
            "grid_auto_flow": null,
            "grid_auto_rows": null,
            "grid_column": null,
            "grid_gap": null,
            "grid_row": null,
            "grid_template_areas": null,
            "grid_template_columns": null,
            "grid_template_rows": null,
            "height": null,
            "justify_content": null,
            "justify_items": null,
            "left": null,
            "margin": null,
            "max_height": null,
            "max_width": null,
            "min_height": null,
            "min_width": null,
            "object_fit": null,
            "object_position": null,
            "order": null,
            "overflow": null,
            "overflow_x": null,
            "overflow_y": null,
            "padding": null,
            "right": null,
            "top": null,
            "visibility": null,
            "width": null
          }
        },
        "263b1b798c9847d989ed5275b4f3f555": {
          "model_module": "@jupyter-widgets/controls",
          "model_name": "DescriptionStyleModel",
          "model_module_version": "1.5.0",
          "state": {
            "_model_module": "@jupyter-widgets/controls",
            "_model_module_version": "1.5.0",
            "_model_name": "DescriptionStyleModel",
            "_view_count": null,
            "_view_module": "@jupyter-widgets/base",
            "_view_module_version": "1.2.0",
            "_view_name": "StyleView",
            "description_width": ""
          }
        },
        "76b3c22c38de4c339e3cafc3fcedbce5": {
          "model_module": "@jupyter-widgets/controls",
          "model_name": "HBoxModel",
          "model_module_version": "1.5.0",
          "state": {
            "_dom_classes": [],
            "_model_module": "@jupyter-widgets/controls",
            "_model_module_version": "1.5.0",
            "_model_name": "HBoxModel",
            "_view_count": null,
            "_view_module": "@jupyter-widgets/controls",
            "_view_module_version": "1.5.0",
            "_view_name": "HBoxView",
            "box_style": "",
            "children": [
              "IPY_MODEL_859ec84ec1a64de4804025111963245e",
              "IPY_MODEL_5ef2bf94efb746519c632ef4895cd14d",
              "IPY_MODEL_9468d69041214259a0300450368d60c4"
            ],
            "layout": "IPY_MODEL_4d44e9a62bcb468d9f574b8b294701ff"
          }
        },
        "859ec84ec1a64de4804025111963245e": {
          "model_module": "@jupyter-widgets/controls",
          "model_name": "HTMLModel",
          "model_module_version": "1.5.0",
          "state": {
            "_dom_classes": [],
            "_model_module": "@jupyter-widgets/controls",
            "_model_module_version": "1.5.0",
            "_model_name": "HTMLModel",
            "_view_count": null,
            "_view_module": "@jupyter-widgets/controls",
            "_view_module_version": "1.5.0",
            "_view_name": "HTMLView",
            "description": "",
            "description_tooltip": null,
            "layout": "IPY_MODEL_631361482c00457cae10c68b254f792e",
            "placeholder": "​",
            "style": "IPY_MODEL_2e849b4dbedd4a13bb1b36fab5e57cfa",
            "value": "100%"
          }
        },
        "5ef2bf94efb746519c632ef4895cd14d": {
          "model_module": "@jupyter-widgets/controls",
          "model_name": "FloatProgressModel",
          "model_module_version": "1.5.0",
          "state": {
            "_dom_classes": [],
            "_model_module": "@jupyter-widgets/controls",
            "_model_module_version": "1.5.0",
            "_model_name": "FloatProgressModel",
            "_view_count": null,
            "_view_module": "@jupyter-widgets/controls",
            "_view_module_version": "1.5.0",
            "_view_name": "ProgressView",
            "bar_style": "",
            "description": "",
            "description_tooltip": null,
            "layout": "IPY_MODEL_d87d0dd6d2c04eb780dd0b18900bd61e",
            "max": 3446,
            "min": 0,
            "orientation": "horizontal",
            "style": "IPY_MODEL_48b3f1b01eb34ceea6dc730e4d86480f",
            "value": 3446
          }
        },
        "9468d69041214259a0300450368d60c4": {
          "model_module": "@jupyter-widgets/controls",
          "model_name": "HTMLModel",
          "model_module_version": "1.5.0",
          "state": {
            "_dom_classes": [],
            "_model_module": "@jupyter-widgets/controls",
            "_model_module_version": "1.5.0",
            "_model_name": "HTMLModel",
            "_view_count": null,
            "_view_module": "@jupyter-widgets/controls",
            "_view_module_version": "1.5.0",
            "_view_name": "HTMLView",
            "description": "",
            "description_tooltip": null,
            "layout": "IPY_MODEL_4ca22bcaab0c468f8edfe326d1c28277",
            "placeholder": "​",
            "style": "IPY_MODEL_1c9146c5760a40d5b76ec7c692e8af08",
            "value": " 3446/3446 [24:18&lt;00:00,  2.40it/s, train_loss_per_batch=0.643]"
          }
        },
        "4d44e9a62bcb468d9f574b8b294701ff": {
          "model_module": "@jupyter-widgets/base",
          "model_name": "LayoutModel",
          "model_module_version": "1.2.0",
          "state": {
            "_model_module": "@jupyter-widgets/base",
            "_model_module_version": "1.2.0",
            "_model_name": "LayoutModel",
            "_view_count": null,
            "_view_module": "@jupyter-widgets/base",
            "_view_module_version": "1.2.0",
            "_view_name": "LayoutView",
            "align_content": null,
            "align_items": null,
            "align_self": null,
            "border": null,
            "bottom": null,
            "display": null,
            "flex": null,
            "flex_flow": null,
            "grid_area": null,
            "grid_auto_columns": null,
            "grid_auto_flow": null,
            "grid_auto_rows": null,
            "grid_column": null,
            "grid_gap": null,
            "grid_row": null,
            "grid_template_areas": null,
            "grid_template_columns": null,
            "grid_template_rows": null,
            "height": null,
            "justify_content": null,
            "justify_items": null,
            "left": null,
            "margin": null,
            "max_height": null,
            "max_width": null,
            "min_height": null,
            "min_width": null,
            "object_fit": null,
            "object_position": null,
            "order": null,
            "overflow": null,
            "overflow_x": null,
            "overflow_y": null,
            "padding": null,
            "right": null,
            "top": null,
            "visibility": null,
            "width": null
          }
        },
        "631361482c00457cae10c68b254f792e": {
          "model_module": "@jupyter-widgets/base",
          "model_name": "LayoutModel",
          "model_module_version": "1.2.0",
          "state": {
            "_model_module": "@jupyter-widgets/base",
            "_model_module_version": "1.2.0",
            "_model_name": "LayoutModel",
            "_view_count": null,
            "_view_module": "@jupyter-widgets/base",
            "_view_module_version": "1.2.0",
            "_view_name": "LayoutView",
            "align_content": null,
            "align_items": null,
            "align_self": null,
            "border": null,
            "bottom": null,
            "display": null,
            "flex": null,
            "flex_flow": null,
            "grid_area": null,
            "grid_auto_columns": null,
            "grid_auto_flow": null,
            "grid_auto_rows": null,
            "grid_column": null,
            "grid_gap": null,
            "grid_row": null,
            "grid_template_areas": null,
            "grid_template_columns": null,
            "grid_template_rows": null,
            "height": null,
            "justify_content": null,
            "justify_items": null,
            "left": null,
            "margin": null,
            "max_height": null,
            "max_width": null,
            "min_height": null,
            "min_width": null,
            "object_fit": null,
            "object_position": null,
            "order": null,
            "overflow": null,
            "overflow_x": null,
            "overflow_y": null,
            "padding": null,
            "right": null,
            "top": null,
            "visibility": null,
            "width": null
          }
        },
        "2e849b4dbedd4a13bb1b36fab5e57cfa": {
          "model_module": "@jupyter-widgets/controls",
          "model_name": "DescriptionStyleModel",
          "model_module_version": "1.5.0",
          "state": {
            "_model_module": "@jupyter-widgets/controls",
            "_model_module_version": "1.5.0",
            "_model_name": "DescriptionStyleModel",
            "_view_count": null,
            "_view_module": "@jupyter-widgets/base",
            "_view_module_version": "1.2.0",
            "_view_name": "StyleView",
            "description_width": ""
          }
        },
        "d87d0dd6d2c04eb780dd0b18900bd61e": {
          "model_module": "@jupyter-widgets/base",
          "model_name": "LayoutModel",
          "model_module_version": "1.2.0",
          "state": {
            "_model_module": "@jupyter-widgets/base",
            "_model_module_version": "1.2.0",
            "_model_name": "LayoutModel",
            "_view_count": null,
            "_view_module": "@jupyter-widgets/base",
            "_view_module_version": "1.2.0",
            "_view_name": "LayoutView",
            "align_content": null,
            "align_items": null,
            "align_self": null,
            "border": null,
            "bottom": null,
            "display": null,
            "flex": null,
            "flex_flow": null,
            "grid_area": null,
            "grid_auto_columns": null,
            "grid_auto_flow": null,
            "grid_auto_rows": null,
            "grid_column": null,
            "grid_gap": null,
            "grid_row": null,
            "grid_template_areas": null,
            "grid_template_columns": null,
            "grid_template_rows": null,
            "height": null,
            "justify_content": null,
            "justify_items": null,
            "left": null,
            "margin": null,
            "max_height": null,
            "max_width": null,
            "min_height": null,
            "min_width": null,
            "object_fit": null,
            "object_position": null,
            "order": null,
            "overflow": null,
            "overflow_x": null,
            "overflow_y": null,
            "padding": null,
            "right": null,
            "top": null,
            "visibility": null,
            "width": null
          }
        },
        "48b3f1b01eb34ceea6dc730e4d86480f": {
          "model_module": "@jupyter-widgets/controls",
          "model_name": "ProgressStyleModel",
          "model_module_version": "1.5.0",
          "state": {
            "_model_module": "@jupyter-widgets/controls",
            "_model_module_version": "1.5.0",
            "_model_name": "ProgressStyleModel",
            "_view_count": null,
            "_view_module": "@jupyter-widgets/base",
            "_view_module_version": "1.2.0",
            "_view_name": "StyleView",
            "bar_color": null,
            "description_width": ""
          }
        },
        "4ca22bcaab0c468f8edfe326d1c28277": {
          "model_module": "@jupyter-widgets/base",
          "model_name": "LayoutModel",
          "model_module_version": "1.2.0",
          "state": {
            "_model_module": "@jupyter-widgets/base",
            "_model_module_version": "1.2.0",
            "_model_name": "LayoutModel",
            "_view_count": null,
            "_view_module": "@jupyter-widgets/base",
            "_view_module_version": "1.2.0",
            "_view_name": "LayoutView",
            "align_content": null,
            "align_items": null,
            "align_self": null,
            "border": null,
            "bottom": null,
            "display": null,
            "flex": null,
            "flex_flow": null,
            "grid_area": null,
            "grid_auto_columns": null,
            "grid_auto_flow": null,
            "grid_auto_rows": null,
            "grid_column": null,
            "grid_gap": null,
            "grid_row": null,
            "grid_template_areas": null,
            "grid_template_columns": null,
            "grid_template_rows": null,
            "height": null,
            "justify_content": null,
            "justify_items": null,
            "left": null,
            "margin": null,
            "max_height": null,
            "max_width": null,
            "min_height": null,
            "min_width": null,
            "object_fit": null,
            "object_position": null,
            "order": null,
            "overflow": null,
            "overflow_x": null,
            "overflow_y": null,
            "padding": null,
            "right": null,
            "top": null,
            "visibility": null,
            "width": null
          }
        },
        "1c9146c5760a40d5b76ec7c692e8af08": {
          "model_module": "@jupyter-widgets/controls",
          "model_name": "DescriptionStyleModel",
          "model_module_version": "1.5.0",
          "state": {
            "_model_module": "@jupyter-widgets/controls",
            "_model_module_version": "1.5.0",
            "_model_name": "DescriptionStyleModel",
            "_view_count": null,
            "_view_module": "@jupyter-widgets/base",
            "_view_module_version": "1.2.0",
            "_view_name": "StyleView",
            "description_width": ""
          }
        },
        "289b2bd499c1488f96dcb84627ca2b9f": {
          "model_module": "@jupyter-widgets/controls",
          "model_name": "HBoxModel",
          "model_module_version": "1.5.0",
          "state": {
            "_dom_classes": [],
            "_model_module": "@jupyter-widgets/controls",
            "_model_module_version": "1.5.0",
            "_model_name": "HBoxModel",
            "_view_count": null,
            "_view_module": "@jupyter-widgets/controls",
            "_view_module_version": "1.5.0",
            "_view_name": "HBoxView",
            "box_style": "",
            "children": [
              "IPY_MODEL_be100bbead694ac2a4b37b9b90a78344",
              "IPY_MODEL_213eb648dfb84ed2941df112aa306799",
              "IPY_MODEL_918539e8ba2f4a1a849c9f920dd8ef23"
            ],
            "layout": "IPY_MODEL_f73427f4e12b458ab3f0c4108db8f01d"
          }
        },
        "be100bbead694ac2a4b37b9b90a78344": {
          "model_module": "@jupyter-widgets/controls",
          "model_name": "HTMLModel",
          "model_module_version": "1.5.0",
          "state": {
            "_dom_classes": [],
            "_model_module": "@jupyter-widgets/controls",
            "_model_module_version": "1.5.0",
            "_model_name": "HTMLModel",
            "_view_count": null,
            "_view_module": "@jupyter-widgets/controls",
            "_view_module_version": "1.5.0",
            "_view_name": "HTMLView",
            "description": "",
            "description_tooltip": null,
            "layout": "IPY_MODEL_984f74a321c2434b919881d2a90d9f07",
            "placeholder": "​",
            "style": "IPY_MODEL_3ce77d344db548008314d4ea791043bb",
            "value": " 99%"
          }
        },
        "213eb648dfb84ed2941df112aa306799": {
          "model_module": "@jupyter-widgets/controls",
          "model_name": "FloatProgressModel",
          "model_module_version": "1.5.0",
          "state": {
            "_dom_classes": [],
            "_model_module": "@jupyter-widgets/controls",
            "_model_module_version": "1.5.0",
            "_model_name": "FloatProgressModel",
            "_view_count": null,
            "_view_module": "@jupyter-widgets/controls",
            "_view_module_version": "1.5.0",
            "_view_name": "ProgressView",
            "bar_style": "",
            "description": "",
            "description_tooltip": null,
            "layout": "IPY_MODEL_879991e06c7e4bed917bd4c117eb42ac",
            "max": 3446,
            "min": 0,
            "orientation": "horizontal",
            "style": "IPY_MODEL_1b398774e8e14415b51a90901809428c",
            "value": 3408
          }
        },
        "918539e8ba2f4a1a849c9f920dd8ef23": {
          "model_module": "@jupyter-widgets/controls",
          "model_name": "HTMLModel",
          "model_module_version": "1.5.0",
          "state": {
            "_dom_classes": [],
            "_model_module": "@jupyter-widgets/controls",
            "_model_module_version": "1.5.0",
            "_model_name": "HTMLModel",
            "_view_count": null,
            "_view_module": "@jupyter-widgets/controls",
            "_view_module_version": "1.5.0",
            "_view_name": "HTMLView",
            "description": "",
            "description_tooltip": null,
            "layout": "IPY_MODEL_450d7da24d59465b824587075f17ad7b",
            "placeholder": "​",
            "style": "IPY_MODEL_b35f1f20895c43f280e2b9c49c6fdeec",
            "value": " 3408/3446 [23:58&lt;00:16,  2.37it/s, train_loss_per_batch=0.748]"
          }
        },
        "f73427f4e12b458ab3f0c4108db8f01d": {
          "model_module": "@jupyter-widgets/base",
          "model_name": "LayoutModel",
          "model_module_version": "1.2.0",
          "state": {
            "_model_module": "@jupyter-widgets/base",
            "_model_module_version": "1.2.0",
            "_model_name": "LayoutModel",
            "_view_count": null,
            "_view_module": "@jupyter-widgets/base",
            "_view_module_version": "1.2.0",
            "_view_name": "LayoutView",
            "align_content": null,
            "align_items": null,
            "align_self": null,
            "border": null,
            "bottom": null,
            "display": null,
            "flex": null,
            "flex_flow": null,
            "grid_area": null,
            "grid_auto_columns": null,
            "grid_auto_flow": null,
            "grid_auto_rows": null,
            "grid_column": null,
            "grid_gap": null,
            "grid_row": null,
            "grid_template_areas": null,
            "grid_template_columns": null,
            "grid_template_rows": null,
            "height": null,
            "justify_content": null,
            "justify_items": null,
            "left": null,
            "margin": null,
            "max_height": null,
            "max_width": null,
            "min_height": null,
            "min_width": null,
            "object_fit": null,
            "object_position": null,
            "order": null,
            "overflow": null,
            "overflow_x": null,
            "overflow_y": null,
            "padding": null,
            "right": null,
            "top": null,
            "visibility": null,
            "width": null
          }
        },
        "984f74a321c2434b919881d2a90d9f07": {
          "model_module": "@jupyter-widgets/base",
          "model_name": "LayoutModel",
          "model_module_version": "1.2.0",
          "state": {
            "_model_module": "@jupyter-widgets/base",
            "_model_module_version": "1.2.0",
            "_model_name": "LayoutModel",
            "_view_count": null,
            "_view_module": "@jupyter-widgets/base",
            "_view_module_version": "1.2.0",
            "_view_name": "LayoutView",
            "align_content": null,
            "align_items": null,
            "align_self": null,
            "border": null,
            "bottom": null,
            "display": null,
            "flex": null,
            "flex_flow": null,
            "grid_area": null,
            "grid_auto_columns": null,
            "grid_auto_flow": null,
            "grid_auto_rows": null,
            "grid_column": null,
            "grid_gap": null,
            "grid_row": null,
            "grid_template_areas": null,
            "grid_template_columns": null,
            "grid_template_rows": null,
            "height": null,
            "justify_content": null,
            "justify_items": null,
            "left": null,
            "margin": null,
            "max_height": null,
            "max_width": null,
            "min_height": null,
            "min_width": null,
            "object_fit": null,
            "object_position": null,
            "order": null,
            "overflow": null,
            "overflow_x": null,
            "overflow_y": null,
            "padding": null,
            "right": null,
            "top": null,
            "visibility": null,
            "width": null
          }
        },
        "3ce77d344db548008314d4ea791043bb": {
          "model_module": "@jupyter-widgets/controls",
          "model_name": "DescriptionStyleModel",
          "model_module_version": "1.5.0",
          "state": {
            "_model_module": "@jupyter-widgets/controls",
            "_model_module_version": "1.5.0",
            "_model_name": "DescriptionStyleModel",
            "_view_count": null,
            "_view_module": "@jupyter-widgets/base",
            "_view_module_version": "1.2.0",
            "_view_name": "StyleView",
            "description_width": ""
          }
        },
        "879991e06c7e4bed917bd4c117eb42ac": {
          "model_module": "@jupyter-widgets/base",
          "model_name": "LayoutModel",
          "model_module_version": "1.2.0",
          "state": {
            "_model_module": "@jupyter-widgets/base",
            "_model_module_version": "1.2.0",
            "_model_name": "LayoutModel",
            "_view_count": null,
            "_view_module": "@jupyter-widgets/base",
            "_view_module_version": "1.2.0",
            "_view_name": "LayoutView",
            "align_content": null,
            "align_items": null,
            "align_self": null,
            "border": null,
            "bottom": null,
            "display": null,
            "flex": null,
            "flex_flow": null,
            "grid_area": null,
            "grid_auto_columns": null,
            "grid_auto_flow": null,
            "grid_auto_rows": null,
            "grid_column": null,
            "grid_gap": null,
            "grid_row": null,
            "grid_template_areas": null,
            "grid_template_columns": null,
            "grid_template_rows": null,
            "height": null,
            "justify_content": null,
            "justify_items": null,
            "left": null,
            "margin": null,
            "max_height": null,
            "max_width": null,
            "min_height": null,
            "min_width": null,
            "object_fit": null,
            "object_position": null,
            "order": null,
            "overflow": null,
            "overflow_x": null,
            "overflow_y": null,
            "padding": null,
            "right": null,
            "top": null,
            "visibility": null,
            "width": null
          }
        },
        "1b398774e8e14415b51a90901809428c": {
          "model_module": "@jupyter-widgets/controls",
          "model_name": "ProgressStyleModel",
          "model_module_version": "1.5.0",
          "state": {
            "_model_module": "@jupyter-widgets/controls",
            "_model_module_version": "1.5.0",
            "_model_name": "ProgressStyleModel",
            "_view_count": null,
            "_view_module": "@jupyter-widgets/base",
            "_view_module_version": "1.2.0",
            "_view_name": "StyleView",
            "bar_color": null,
            "description_width": ""
          }
        },
        "450d7da24d59465b824587075f17ad7b": {
          "model_module": "@jupyter-widgets/base",
          "model_name": "LayoutModel",
          "model_module_version": "1.2.0",
          "state": {
            "_model_module": "@jupyter-widgets/base",
            "_model_module_version": "1.2.0",
            "_model_name": "LayoutModel",
            "_view_count": null,
            "_view_module": "@jupyter-widgets/base",
            "_view_module_version": "1.2.0",
            "_view_name": "LayoutView",
            "align_content": null,
            "align_items": null,
            "align_self": null,
            "border": null,
            "bottom": null,
            "display": null,
            "flex": null,
            "flex_flow": null,
            "grid_area": null,
            "grid_auto_columns": null,
            "grid_auto_flow": null,
            "grid_auto_rows": null,
            "grid_column": null,
            "grid_gap": null,
            "grid_row": null,
            "grid_template_areas": null,
            "grid_template_columns": null,
            "grid_template_rows": null,
            "height": null,
            "justify_content": null,
            "justify_items": null,
            "left": null,
            "margin": null,
            "max_height": null,
            "max_width": null,
            "min_height": null,
            "min_width": null,
            "object_fit": null,
            "object_position": null,
            "order": null,
            "overflow": null,
            "overflow_x": null,
            "overflow_y": null,
            "padding": null,
            "right": null,
            "top": null,
            "visibility": null,
            "width": null
          }
        },
        "b35f1f20895c43f280e2b9c49c6fdeec": {
          "model_module": "@jupyter-widgets/controls",
          "model_name": "DescriptionStyleModel",
          "model_module_version": "1.5.0",
          "state": {
            "_model_module": "@jupyter-widgets/controls",
            "_model_module_version": "1.5.0",
            "_model_name": "DescriptionStyleModel",
            "_view_count": null,
            "_view_module": "@jupyter-widgets/base",
            "_view_module_version": "1.2.0",
            "_view_name": "StyleView",
            "description_width": ""
          }
        }
      }
    }
  },
  "cells": [
    {
      "cell_type": "code",
      "execution_count": 1,
      "metadata": {
        "colab": {
          "base_uri": "https://localhost:8080/"
        },
        "id": "LqLlAuIWTJC9",
        "outputId": "02b0ce6a-b774-4326-8b44-eb4baa2ec387"
      },
      "outputs": [
        {
          "output_type": "stream",
          "name": "stdout",
          "text": [
            "Thu Jun  2 16:46:44 2022       \n",
            "+-----------------------------------------------------------------------------+\n",
            "| NVIDIA-SMI 460.32.03    Driver Version: 460.32.03    CUDA Version: 11.2     |\n",
            "|-------------------------------+----------------------+----------------------+\n",
            "| GPU  Name        Persistence-M| Bus-Id        Disp.A | Volatile Uncorr. ECC |\n",
            "| Fan  Temp  Perf  Pwr:Usage/Cap|         Memory-Usage | GPU-Util  Compute M. |\n",
            "|                               |                      |               MIG M. |\n",
            "|===============================+======================+======================|\n",
            "|   0  Tesla T4            Off  | 00000000:00:04.0 Off |                    0 |\n",
            "| N/A   49C    P8    10W /  70W |      0MiB / 15109MiB |      0%      Default |\n",
            "|                               |                      |                  N/A |\n",
            "+-------------------------------+----------------------+----------------------+\n",
            "                                                                               \n",
            "+-----------------------------------------------------------------------------+\n",
            "| Processes:                                                                  |\n",
            "|  GPU   GI   CI        PID   Type   Process name                  GPU Memory |\n",
            "|        ID   ID                                                   Usage      |\n",
            "|=============================================================================|\n",
            "|  No running processes found                                                 |\n",
            "+-----------------------------------------------------------------------------+\n"
          ]
        }
      ],
      "source": [
        "!nvidia-smi"
      ]
    },
    {
      "cell_type": "code",
      "source": [
        "from google.colab import drive\n",
        "drive.mount('/content/drive')"
      ],
      "metadata": {
        "colab": {
          "base_uri": "https://localhost:8080/"
        },
        "id": "KE6RPtU8T-t3",
        "outputId": "0cccfd35-87cb-4632-f267-ebf1e595a4bc"
      },
      "execution_count": 2,
      "outputs": [
        {
          "output_type": "stream",
          "name": "stdout",
          "text": [
            "Mounted at /content/drive\n"
          ]
        }
      ]
    },
    {
      "cell_type": "markdown",
      "source": [
        "#Install libraries"
      ],
      "metadata": {
        "id": "UtIW_vWbULNm"
      }
    },
    {
      "cell_type": "code",
      "source": [
        "pip install transformers sentencepiece"
      ],
      "metadata": {
        "colab": {
          "base_uri": "https://localhost:8080/"
        },
        "id": "tDz8jR_SUG3B",
        "outputId": "b3552652-8a9f-497a-8880-509271c53266"
      },
      "execution_count": 4,
      "outputs": [
        {
          "output_type": "stream",
          "name": "stdout",
          "text": [
            "Looking in indexes: https://pypi.org/simple, https://us-python.pkg.dev/colab-wheels/public/simple/\n",
            "Collecting transformers\n",
            "  Downloading transformers-4.19.2-py3-none-any.whl (4.2 MB)\n",
            "\u001b[K     |████████████████████████████████| 4.2 MB 5.1 MB/s \n",
            "\u001b[?25hCollecting sentencepiece\n",
            "  Downloading sentencepiece-0.1.96-cp37-cp37m-manylinux_2_17_x86_64.manylinux2014_x86_64.whl (1.2 MB)\n",
            "\u001b[K     |████████████████████████████████| 1.2 MB 58.0 MB/s \n",
            "\u001b[?25hRequirement already satisfied: numpy>=1.17 in /usr/local/lib/python3.7/dist-packages (from transformers) (1.21.6)\n",
            "Requirement already satisfied: filelock in /usr/local/lib/python3.7/dist-packages (from transformers) (3.7.0)\n",
            "Collecting tokenizers!=0.11.3,<0.13,>=0.11.1\n",
            "  Downloading tokenizers-0.12.1-cp37-cp37m-manylinux_2_12_x86_64.manylinux2010_x86_64.whl (6.6 MB)\n",
            "\u001b[K     |████████████████████████████████| 6.6 MB 46.7 MB/s \n",
            "\u001b[?25hRequirement already satisfied: regex!=2019.12.17 in /usr/local/lib/python3.7/dist-packages (from transformers) (2019.12.20)\n",
            "Requirement already satisfied: importlib-metadata in /usr/local/lib/python3.7/dist-packages (from transformers) (4.11.4)\n",
            "Collecting huggingface-hub<1.0,>=0.1.0\n",
            "  Downloading huggingface_hub-0.7.0-py3-none-any.whl (86 kB)\n",
            "\u001b[K     |████████████████████████████████| 86 kB 6.8 MB/s \n",
            "\u001b[?25hRequirement already satisfied: requests in /usr/local/lib/python3.7/dist-packages (from transformers) (2.23.0)\n",
            "Requirement already satisfied: tqdm>=4.27 in /usr/local/lib/python3.7/dist-packages (from transformers) (4.64.0)\n",
            "Collecting pyyaml>=5.1\n",
            "  Downloading PyYAML-6.0-cp37-cp37m-manylinux_2_5_x86_64.manylinux1_x86_64.manylinux_2_12_x86_64.manylinux2010_x86_64.whl (596 kB)\n",
            "\u001b[K     |████████████████████████████████| 596 kB 56.8 MB/s \n",
            "\u001b[?25hRequirement already satisfied: packaging>=20.0 in /usr/local/lib/python3.7/dist-packages (from transformers) (21.3)\n",
            "Requirement already satisfied: typing-extensions>=3.7.4.3 in /usr/local/lib/python3.7/dist-packages (from huggingface-hub<1.0,>=0.1.0->transformers) (4.2.0)\n",
            "Requirement already satisfied: pyparsing!=3.0.5,>=2.0.2 in /usr/local/lib/python3.7/dist-packages (from packaging>=20.0->transformers) (3.0.9)\n",
            "Requirement already satisfied: zipp>=0.5 in /usr/local/lib/python3.7/dist-packages (from importlib-metadata->transformers) (3.8.0)\n",
            "Requirement already satisfied: certifi>=2017.4.17 in /usr/local/lib/python3.7/dist-packages (from requests->transformers) (2022.5.18.1)\n",
            "Requirement already satisfied: chardet<4,>=3.0.2 in /usr/local/lib/python3.7/dist-packages (from requests->transformers) (3.0.4)\n",
            "Requirement already satisfied: idna<3,>=2.5 in /usr/local/lib/python3.7/dist-packages (from requests->transformers) (2.10)\n",
            "Requirement already satisfied: urllib3!=1.25.0,!=1.25.1,<1.26,>=1.21.1 in /usr/local/lib/python3.7/dist-packages (from requests->transformers) (1.24.3)\n",
            "Installing collected packages: pyyaml, tokenizers, huggingface-hub, transformers, sentencepiece\n",
            "  Attempting uninstall: pyyaml\n",
            "    Found existing installation: PyYAML 3.13\n",
            "    Uninstalling PyYAML-3.13:\n",
            "      Successfully uninstalled PyYAML-3.13\n",
            "Successfully installed huggingface-hub-0.7.0 pyyaml-6.0 sentencepiece-0.1.96 tokenizers-0.12.1 transformers-4.19.2\n"
          ]
        }
      ]
    },
    {
      "cell_type": "markdown",
      "source": [
        "#Approaches"
      ],
      "metadata": {
        "id": "ikIzW6nWUafP"
      }
    },
    {
      "cell_type": "code",
      "source": [
        "import pandas as pd\n",
        "from transformers import AutoTokenizer, AutoConfig,get_linear_schedule_with_warmup,RobertaModel,RobertaPreTrainedModel\n",
        "from torch.utils.data import DataLoader\n",
        "import torch\n",
        "from create_dataloaders import create_dataloader\n",
        "import numpy as np\n",
        "from os.path import join\n",
        "from tqdm.auto import tqdm\n",
        "import os\n",
        "from os.path import join\n",
        "from torch import nn\n",
        "from sklearn.metrics import *\n",
        "from torch.nn import CrossEntropyLoss\n",
        "from transformers.modeling_outputs import SequenceClassifierOutput"
      ],
      "metadata": {
        "id": "ykc7tK0ZURID"
      },
      "execution_count": 82,
      "outputs": []
    },
    {
      "cell_type": "code",
      "source": [
        "pre_dataset_directory=\"/content/drive/MyDrive/en-vi-nli/pre_dataset\""
      ],
      "metadata": {
        "id": "OuRuo-pbUfEX"
      },
      "execution_count": 21,
      "outputs": []
    },
    {
      "cell_type": "code",
      "source": [
        "train=pd.read_csv(f'{pre_dataset_directory}/train/train_60_100k.csv')\n",
        "valid=pd.read_csv(f'{pre_dataset_directory}/valid/valid.csv')"
      ],
      "metadata": {
        "id": "qfFvbdftUgl2"
      },
      "execution_count": 22,
      "outputs": []
    },
    {
      "cell_type": "code",
      "source": [
        "device = torch.device(\"cuda\" if torch.cuda.is_available() else \"cpu\")\n",
        "device\n"
      ],
      "metadata": {
        "colab": {
          "base_uri": "https://localhost:8080/"
        },
        "id": "52yeBgclUjkN",
        "outputId": "0287d41d-0bc9-46ef-db64-f5451d81833b"
      },
      "execution_count": 23,
      "outputs": [
        {
          "output_type": "execute_result",
          "data": {
            "text/plain": [
              "device(type='cuda')"
            ]
          },
          "metadata": {},
          "execution_count": 23
        }
      ]
    },
    {
      "cell_type": "code",
      "source": [
        "len(train),len(valid)\n"
      ],
      "metadata": {
        "colab": {
          "base_uri": "https://localhost:8080/"
        },
        "id": "WEbe90wLUm4B",
        "outputId": "4cb9a57d-3fda-47e3-9700-731d9a8bc4a9"
      },
      "execution_count": 24,
      "outputs": [
        {
          "output_type": "execute_result",
          "data": {
            "text/plain": [
              "(100000, 4980)"
            ]
          },
          "metadata": {},
          "execution_count": 24
        }
      ]
    },
    {
      "cell_type": "code",
      "source": [
        "max_length=60"
      ],
      "metadata": {
        "id": "1g-csc-QY_EW"
      },
      "execution_count": 25,
      "outputs": []
    },
    {
      "cell_type": "code",
      "source": [
        "train_batch_size=32\n",
        "train_premises=train['norm_premise'].tolist()\n",
        "train_hypothesises=train['norm_hypothesis'].tolist()\n",
        "train_labels=train['label'].tolist()\n",
        "\n",
        "valid_batch_size=32\n",
        "valid_premises=valid['norm_premise'].tolist()\n",
        "valid_hypothesises=valid['norm_hypothesis'].tolist()\n",
        "valid_labels=valid['label'].tolist()"
      ],
      "metadata": {
        "id": "4c9VTeg0ZALM"
      },
      "execution_count": 40,
      "outputs": []
    },
    {
      "cell_type": "code",
      "source": [
        "class Classifier(nn.Module):\n",
        "  def __init__(self, dense_dim_in,dense_dim_out,num_labels,drop_rate):\n",
        "    super(Classifier,self).__init__()\n",
        "\n",
        "    self.dense_dim_in=dense_dim_in\n",
        "    self.dense_dim_out=dense_dim_out\n",
        "    self.drop_rate=drop_rate\n",
        "    self.num_labels=num_labels\n",
        "\n",
        "    self.dense = nn.Linear(self.dense_dim_in, self.dense_dim_out)\n",
        "    \n",
        "    self.dropout = nn.Dropout(self.drop_rate)\n",
        "    self.out_proj = nn.Linear(self.dense_dim_out, self.num_labels)\n",
        "  \n",
        "  def forward(self,inputs):\n",
        "    #inputs: (batch_size,dense_dim_in)\n",
        "    inputs=self.dense(inputs)\n",
        "    inputs = self.dense(inputs)\n",
        "    inputs = torch.tanh(inputs)\n",
        "    inputs = self.dropout(inputs)\n",
        "    logits = self.out_proj(inputs)\n",
        "\n",
        "    return logits"
      ],
      "metadata": {
        "id": "9jsR1pIhbUx2"
      },
      "execution_count": 58,
      "outputs": []
    },
    {
      "cell_type": "markdown",
      "source": [
        "##Aproach 1: Fine-tuning last layer XLM-ROBERTA-BASE"
      ],
      "metadata": {
        "id": "g-qT6Ze3ap3z"
      }
    },
    {
      "cell_type": "code",
      "source": [
        "name='xlm-roberta-base'"
      ],
      "metadata": {
        "id": "RIBrOoujZaIb"
      },
      "execution_count": 41,
      "outputs": []
    },
    {
      "cell_type": "code",
      "source": [
        "tokenizer = AutoTokenizer.from_pretrained(name)"
      ],
      "metadata": {
        "id": "l6yL5XD2ZYf_"
      },
      "execution_count": 42,
      "outputs": []
    },
    {
      "cell_type": "code",
      "source": [
        "train_dataloader=create_dataloader(tokenizer,train_premises,train_hypothesises,train_labels,max_length,train_batch_size,device=device,shuffle=False)"
      ],
      "metadata": {
        "colab": {
          "base_uri": "https://localhost:8080/",
          "height": 49,
          "referenced_widgets": [
            "cd06bfb4b6a4452ca7f37e8c2fb290a8",
            "070c232681d84e148742b79566fc4f02",
            "61b37a61bc6c494b9658de09d6f6f251",
            "997f4c41fa3648df85ff5be529d78ed0",
            "9f1f2f3f0e514f568883d1b080e5b975",
            "9b4d9ced759a45149230c0f0daf7d62e",
            "d6a25bb14fdb454c855fcb31f98b7412",
            "ba4a1025838047759ea1c43370a052b6",
            "6cf4cefd1d6a430fb2a38082d6870d75",
            "61648412220d46d4bf7c52f6c3e762d4",
            "c8279e0e38bc4cefa51f400e85c0cd84"
          ]
        },
        "id": "JCl-fc9XZRb3",
        "outputId": "5049e770-b925-485f-9a9e-92ccb3e6b6cd"
      },
      "execution_count": 43,
      "outputs": [
        {
          "output_type": "display_data",
          "data": {
            "text/plain": [
              "  0%|          | 0/100000 [00:00<?, ?it/s]"
            ],
            "application/vnd.jupyter.widget-view+json": {
              "version_major": 2,
              "version_minor": 0,
              "model_id": "cd06bfb4b6a4452ca7f37e8c2fb290a8"
            }
          },
          "metadata": {}
        }
      ]
    },
    {
      "cell_type": "code",
      "source": [
        "valid_dataloader=create_dataloader(tokenizer,valid_premises,valid_hypothesises,valid_labels,max_length,valid_batch_size,device=device,shuffle=False)"
      ],
      "metadata": {
        "colab": {
          "base_uri": "https://localhost:8080/",
          "height": 49,
          "referenced_widgets": [
            "7832b6930d3f4f28a16cc7c0e2bddc16",
            "3d451e2e8c384225b2a59860405187be",
            "75b6e7e09d144a348423ef01392cb87d",
            "24c05130afb6407ebcb737ed0e0794c9",
            "d6f046402c0845f9b35612b7afe76027",
            "cf3b9885e23d4ffbaaa7d57d2f2389f4",
            "384f74eb971e44fdb6081e2e6f5a73ef",
            "21610a4386634bdaaee36c01c293f863",
            "6c8491b6eb3f455884c564bc0c74d49e",
            "6fa23cb5beb941529f0d421e3f01d449",
            "263b1b798c9847d989ed5275b4f3f555"
          ]
        },
        "id": "GIvTlAViZkAy",
        "outputId": "5a07f0c1-4ad3-4a9b-c722-18a921b01873"
      },
      "execution_count": 44,
      "outputs": [
        {
          "output_type": "display_data",
          "data": {
            "text/plain": [
              "  0%|          | 0/4980 [00:00<?, ?it/s]"
            ],
            "application/vnd.jupyter.widget-view+json": {
              "version_major": 2,
              "version_minor": 0,
              "model_id": "7832b6930d3f4f28a16cc7c0e2bddc16"
            }
          },
          "metadata": {}
        }
      ]
    },
    {
      "cell_type": "code",
      "source": [
        "for i in valid_dataloader:\n",
        "  print(i['inputs'].keys())\n",
        "  break"
      ],
      "metadata": {
        "colab": {
          "base_uri": "https://localhost:8080/"
        },
        "id": "j7UgRM1hZoSp",
        "outputId": "0b139409-6731-47d3-ed8d-6e659ff55924"
      },
      "execution_count": 45,
      "outputs": [
        {
          "output_type": "stream",
          "name": "stdout",
          "text": [
            "dict_keys(['input_ids', 'attention_mask'])\n"
          ]
        }
      ]
    },
    {
      "cell_type": "code",
      "source": [
        "labels=[0,1,2]\n",
        "labels"
      ],
      "metadata": {
        "colab": {
          "base_uri": "https://localhost:8080/"
        },
        "id": "pnfpYox_Z4eg",
        "outputId": "9f36ce02-8439-4ee6-e0dd-f6fbd4ca679a"
      },
      "execution_count": 46,
      "outputs": [
        {
          "output_type": "execute_result",
          "data": {
            "text/plain": [
              "[0, 1, 2]"
            ]
          },
          "metadata": {},
          "execution_count": 46
        }
      ]
    },
    {
      "cell_type": "code",
      "source": [
        "num_labels=len(labels)\n",
        "num_labels"
      ],
      "metadata": {
        "colab": {
          "base_uri": "https://localhost:8080/"
        },
        "id": "ABNvMAT0aRIn",
        "outputId": "4bd146f9-92b1-4d9d-a055-0f47060fa0e1"
      },
      "execution_count": 48,
      "outputs": [
        {
          "output_type": "execute_result",
          "data": {
            "text/plain": [
              "3"
            ]
          },
          "metadata": {},
          "execution_count": 48
        }
      ]
    },
    {
      "cell_type": "code",
      "source": [
        "classifier_dropout=0.1"
      ],
      "metadata": {
        "id": "qUWJcV2-aSTe"
      },
      "execution_count": 49,
      "outputs": []
    },
    {
      "cell_type": "code",
      "source": [
        "config=AutoConfig.from_pretrained(name)\n",
        "config.classifier_dropout=classifier_dropout\n",
        "config.num_labels=num_labels"
      ],
      "metadata": {
        "id": "EpfV9WciaUhw"
      },
      "execution_count": null,
      "outputs": []
    },
    {
      "cell_type": "code",
      "source": [
        "model_directory='/content/drive/MyDrive/en-vi-nli/models/xlm-roberta-base'\n",
        "os.makedirs(model_directory,exist_ok=True)"
      ],
      "metadata": {
        "id": "0usxiQL3aZI6"
      },
      "execution_count": 52,
      "outputs": []
    },
    {
      "cell_type": "markdown",
      "source": [
        "Note: Init fixed weights for classifier layer for the first time"
      ],
      "metadata": {
        "id": "uLJqvtxFgaBj"
      }
    },
    {
      "cell_type": "code",
      "source": [
        "# last_layer_classifier=Classifier(config.hidden_size,config.hidden_size,num_labels,config.classifier_dropout)\n",
        "# torch.save({'last_layer_classifier':last_layer_classifier.state_dict()},\n",
        "#            join(model_directory,'last_layer_classifier.pt'))"
      ],
      "metadata": {
        "id": "JuTm_0tXct7J"
      },
      "execution_count": 60,
      "outputs": []
    },
    {
      "cell_type": "code",
      "source": [
        "model_directory='/content/drive/MyDrive/en-vi-nli/models/last_layer_classifier'\n",
        "os.makedirs(model_directory,exist_ok=True)"
      ],
      "metadata": {
        "id": "bYu2VyVsdLbG"
      },
      "execution_count": 61,
      "outputs": []
    },
    {
      "cell_type": "markdown",
      "source": [
        "Define last layer xlm-robert-base"
      ],
      "metadata": {
        "id": "rVD5cB8Phi9w"
      }
    },
    {
      "cell_type": "code",
      "source": [
        "class XLMRoBERTa4LastLayersForClassification(RobertaPreTrainedModel):\n",
        "    _keys_to_ignore_on_load_missing = [r\"position_ids\"]\n",
        "\n",
        "    def __init__(self, config):\n",
        "        super().__init__(config)\n",
        "        self.config = config\n",
        "        \n",
        "        self.roberta = RobertaModel(config, add_pooling_layer=False)\n",
        "        \n",
        "        self.classifier=self.load_weight_classifier()\n",
        "\n",
        "        self.init_weights()\n",
        "\n",
        "    def load_weight_classifier(self):\n",
        "        classifier_ckpt=torch.load('/content/drive/MyDrive/en-vi-nli/models/last_layer_classifier/last_layer_classifier.pt')\n",
        "        classifier=Classifier(self.config.hidden_size,self.config.hidden_size,self.config.num_labels,self.config.classifier_dropout)\n",
        "        classifier.load_state_dict(classifier_ckpt['last_layer_classifier'])\n",
        "        return classifier\n",
        "    \n",
        "    def forward(self,input_ids,attention_mask,labels=None):\n",
        "\n",
        "        outputs = self.roberta(input_ids=input_ids,attention_mask=attention_mask,output_hidden_states=False)\n",
        "        \n",
        "        cls_embedding=outputs[0][:,0,:]\n",
        "        \n",
        "        logits=self.classifier(cls_embedding)\n",
        "\n",
        "        loss=0\n",
        "        if labels!=None:\n",
        "          loss_fct = CrossEntropyLoss()\n",
        "          loss = loss_fct(logits.view(-1, self.config.num_labels), labels.view(-1))\n",
        "\n",
        "        return SequenceClassifierOutput(\n",
        "                loss=loss,\n",
        "                logits=logits)"
      ],
      "metadata": {
        "id": "WYcItoUqalKd"
      },
      "execution_count": 88,
      "outputs": []
    },
    {
      "cell_type": "markdown",
      "source": [
        "##Init weights for four last layers approaches"
      ],
      "metadata": {
        "id": "aCQG2cM6jMFr"
      }
    },
    {
      "cell_type": "markdown",
      "source": [
        "Note: Init fixed weights for classifier layer for the first time. Remember to multiply hidden size to 4"
      ],
      "metadata": {
        "id": "v--cuE6iiJHE"
      }
    },
    {
      "cell_type": "code",
      "source": [
        "# four_last_layer_classifier=Classifier(config.hidden_size*4,config.hidden_size*4,num_labels,config.classifier_dropout)\n",
        "# torch.save({'four_last_layer_classifier':four_last_layer_classifier.state_dict()},\n",
        "#            join(model_directory,'four_last_layer_classifier.pt'))"
      ],
      "metadata": {
        "id": "u8Eo6FihiDzv"
      },
      "execution_count": null,
      "outputs": []
    },
    {
      "cell_type": "code",
      "source": [
        "model_directory='/content/drive/MyDrive/en-vi-nli/models/four_last_layer_classifier'\n",
        "os.makedirs(model_directory,exist_ok=True)"
      ],
      "metadata": {
        "id": "z-ULkB8lidFu"
      },
      "execution_count": null,
      "outputs": []
    },
    {
      "cell_type": "markdown",
      "source": [
        "##Approach 2: Fine-tuning 4 last concatenating layers of XLM-ROBERTA-BASE"
      ],
      "metadata": {
        "id": "k72Zk1KTh4-R"
      }
    },
    {
      "cell_type": "code",
      "source": [
        "class XLMRoBERTa4LastLayersForClassification(RobertaPreTrainedModel):\n",
        "    _keys_to_ignore_on_load_missing = [r\"position_ids\"]\n",
        "\n",
        "    def __init__(self, config):\n",
        "        super().__init__(config)\n",
        "        self.config = config\n",
        "        \n",
        "        self.roberta = RobertaModel(config, add_pooling_layer=False)\n",
        "        \n",
        "        self.classifier=self.load_weight_classifier()\n",
        "\n",
        "        self.init_weights()\n",
        "\n",
        "    def load_weight_classifier(self):\n",
        "        classifier_ckpt=torch.load('/content/drive/MyDrive/en-vi-nli/models/four_last_layer_classifier/four_last_layer_classifier.pt')\n",
        "        classifier=Classifier(self.config.hidden_size*4,self.config.hidden_size*4,self.config.num_labels,self.config.classifier_dropout)\n",
        "        classifier.load_state_dict(classifier_ckpt['four_last_layer_classifier'])\n",
        "        return classifier\n",
        "    \n",
        "    def forward(self,input_ids,attention_mask,labels=None):\n",
        "\n",
        "        outputs = self.roberta(input_ids=input_ids,attention_mask=attention_mask,output_hidden_states=True)\n",
        "        last_layers=torch.stack(outputs.hidden_states[-4:])\n",
        "        last_layers=last_layers.permute(1,2,0,3)\n",
        "        features=torch.flatten(last_layers,start_dim=2)\n",
        "        cls_embedding=features[:,0,:]\n",
        "        \n",
        "        logits=self.classifier(cls_embedding)\n",
        "\n",
        "        loss=0\n",
        "        if labels!=None:\n",
        "          loss_fct = CrossEntropyLoss()\n",
        "          loss = loss_fct(logits.view(-1, self.config.num_labels), labels.view(-1))\n",
        "\n",
        "        return SequenceClassifierOutput(\n",
        "                loss=loss,\n",
        "                logits=logits)"
      ],
      "metadata": {
        "id": "vhOUn7kViAon"
      },
      "execution_count": null,
      "outputs": []
    },
    {
      "cell_type": "markdown",
      "source": [
        "##Approach 3: Fine-tuning 4 last concatenating layers of XLM-ROBERTA-BASE + MEAN-MAX-Pooling"
      ],
      "metadata": {
        "id": "Jr6OwtMSjiCn"
      }
    },
    {
      "cell_type": "code",
      "source": [
        "class XLMRoBERTa4LastLayersForClassification(RobertaPreTrainedModel):\n",
        "    _keys_to_ignore_on_load_missing = [r\"position_ids\"]\n",
        "\n",
        "    def __init__(self, config):\n",
        "        super().__init__(config)\n",
        "        self.config = config\n",
        "        \n",
        "        self.roberta = RobertaModel(config, add_pooling_layer=False)\n",
        "        \n",
        "        self.classifier=self.load_weight_classifier()\n",
        "\n",
        "        self.init_weights()\n",
        "\n",
        "    def load_weight_classifier(self):\n",
        "        classifier_ckpt=torch.load('/content/drive/MyDrive/en-vi-nli/models/four_last_layer_classifier/four_last_layer_classifier.pt')\n",
        "        classifier=Classifier(self.config.hidden_size*4,self.config.hidden_size*4,self.config.num_labels,self.config.classifier_dropout)\n",
        "        classifier.load_state_dict(classifier_ckpt['four_last_layer_classifier'])\n",
        "        return classifier\n",
        "    \n",
        "    def mean_pooling(self,token_embeddings, attention_mask):\n",
        "      input_mask_expanded = attention_mask.unsqueeze(-1).expand(token_embeddings.size()).float()\n",
        "      return torch.sum(token_embeddings * input_mask_expanded, 1) / torch.clamp(input_mask_expanded.sum(1), min=1e-9)\n",
        "\n",
        "    def max_pooling(self,token_embeddings, attention_mask):\n",
        "      input_mask_expanded = attention_mask.unsqueeze(-1).expand(token_embeddings.size()).float()\n",
        "      token_embeddings[input_mask_expanded == 0] = -1e9  # Set padding tokens to large negative value\n",
        "      return torch.max(token_embeddings, 1)[0]\n",
        "\n",
        "    def forward(self,input_ids,attention_mask,labels=None):\n",
        "\n",
        "        outputs = self.roberta(input_ids=input_ids,attention_mask=attention_mask,output_hidden_states=True)\n",
        "        last_layers=torch.stack(outputs.hidden_states[-4:])\n",
        "        last_layers=last_layers.permute(1,2,0,3)\n",
        "        features=torch.flatten(last_layers,start_dim=2)\n",
        "        \n",
        "        avg_pool=self.mean_pooling(features,attention_mask)\n",
        "        max_pool=self.max_pooling(features,attention_mask)\n",
        "        pool=avg_pool+max_pool\n",
        "        \n",
        "        logits=self.classifier(pool)\n",
        "\n",
        "        loss=0\n",
        "        if labels!=None:\n",
        "          loss_fct = CrossEntropyLoss()\n",
        "          loss = loss_fct(logits.view(-1, self.config.num_labels), labels.view(-1))\n",
        "\n",
        "        return SequenceClassifierOutput(\n",
        "                loss=loss,\n",
        "                logits=logits)"
      ],
      "metadata": {
        "id": "P7dsqKGIjvbI"
      },
      "execution_count": null,
      "outputs": []
    },
    {
      "cell_type": "markdown",
      "source": [
        "##Approach 4: Fine-tuning 4 last concatenating layers of XLM-ROBERTA-BASE + BiLSTM + MEAN-MAX-Pooling"
      ],
      "metadata": {
        "id": "vN2DTT-VkEOe"
      }
    },
    {
      "cell_type": "code",
      "source": [
        "bilstm_layer=torch.nn.LSTM(input_size=config.hidden_size*4,hidden_size=config.hidden_size,bidirectional=True,batch_first=True)        \n",
        "torch.save({'bilstm_layer':bilstm_layer.state_dict()},\n",
        "           join(model_directory,'bilstm_layer.pt'))"
      ],
      "metadata": {
        "id": "eUAewGVQkUpK"
      },
      "execution_count": null,
      "outputs": []
    },
    {
      "cell_type": "code",
      "source": [
        "model_directory='/content/drive/MyDrive/en-vi-nli/models/bilstm_layer'\n",
        "os.makedirs(model_directory,exist_ok=True)"
      ],
      "metadata": {
        "id": "-RXU8PhTlC_U"
      },
      "execution_count": null,
      "outputs": []
    },
    {
      "cell_type": "code",
      "source": [
        "class XLMRoBERTa4LastLayersForClassification(RobertaPreTrainedModel):\n",
        "    _keys_to_ignore_on_load_missing = [r\"position_ids\"]\n",
        "\n",
        "    def __init__(self, config):\n",
        "      super().__init__(config)\n",
        "      self.config = config\n",
        "      \n",
        "      self.roberta = RobertaModel(config, add_pooling_layer=False)\n",
        "      \n",
        "      self.bilstm_layer=self.load_weights_bilstm()\n",
        "\n",
        "      self.classifier=self.load_weight_classifier()\n",
        "\n",
        "      self.init_weights()\n",
        "\n",
        "    def load_weight_classifier(self):\n",
        "        classifier_ckpt=torch.load('/content/drive/MyDrive/en-vi-nli/models/four_last_layer_classifier/four_last_layer_classifier.pt')\n",
        "        classifier=Classifier(self.config.hidden_size*4,self.config.hidden_size*4,self.config.num_labels,self.config.classifier_dropout)\n",
        "        classifier.load_state_dict(classifier_ckpt['four_last_layer_classifier'])\n",
        "        return classifier\n",
        "\n",
        "    def load_weights_bilstm(self):\n",
        "      bilstm_layer_ckpt=torch.load('/content/drive/MyDrive/en-vi-nli/models/bilstm_layer/bilstm_layer.pt')\n",
        "      bilstm_layer=torch.nn.LSTM(input_size=self.config.hidden_size*4,hidden_size=self.config.hidden_size,bidirectional=True,batch_first=True)        \n",
        "      bilstm_layer.load_state_dict(bilstm_layer_ckpt['bilstm_layer'])\n",
        "      return bilstm_layer\n",
        "\n",
        "    \n",
        "    def mean_pooling(self,token_embeddings, attention_mask):\n",
        "      input_mask_expanded = attention_mask.unsqueeze(-1).expand(token_embeddings.size()).float()\n",
        "      return torch.sum(token_embeddings * input_mask_expanded, 1) / torch.clamp(input_mask_expanded.sum(1), min=1e-9)\n",
        "\n",
        "    def max_pooling(self,token_embeddings, attention_mask):\n",
        "      input_mask_expanded = attention_mask.unsqueeze(-1).expand(token_embeddings.size()).float()\n",
        "      token_embeddings[input_mask_expanded == 0] = -1e9  # Set padding tokens to large negative value\n",
        "      return torch.max(token_embeddings, 1)[0]\n",
        "    \n",
        "    def init_hidden(self,batch_size):\n",
        "      return (torch.randn(2, batch_size, self.config.hidden_size ).to(device),\n",
        "              torch.randn(2, batch_size, self.config.hidden_size ).to(device))\n",
        "        \n",
        "    def forward(self,input_ids,attention_mask,labels=None):\n",
        "      bs=input_ids.shape[0]\n",
        "      outputs = self.roberta(input_ids=input_ids,attention_mask=attention_mask,output_hidden_states=True)\n",
        "      last_layers=torch.stack(outputs.hidden_states[-4:])\n",
        "      last_layers=last_layers.permute(1,2,0,3)\n",
        "      features=torch.flatten(last_layers,start_dim=2)\n",
        "      \n",
        "      hidden = self.init_hidden(bs)\n",
        "    \n",
        "      _features,hidden=self.bilstm_layer(features,hidden)\n",
        "\n",
        "      _avg_pool = torch.mean(_features, 1)\n",
        "      _max_pool, _ = torch.max(_features, 1)\n",
        "      concat = torch.cat(( _avg_pool, _max_pool), 1)\n",
        "      \n",
        "      logits=self.classifier(concat)\n",
        "\n",
        "      loss=0\n",
        "      if labels!=None:\n",
        "        loss_fct = CrossEntropyLoss()\n",
        "        loss = loss_fct(logits.view(-1, self.config.num_labels), labels.view(-1))\n",
        "\n",
        "      return SequenceClassifierOutput(\n",
        "              loss=loss,\n",
        "              logits=logits)"
      ],
      "metadata": {
        "id": "YMyqujuUkJHs"
      },
      "execution_count": null,
      "outputs": []
    },
    {
      "cell_type": "markdown",
      "source": [
        "##Approach 5: Fine-tuning 4 last concatenating layers of XLM-ROBERTA-BASE + Siamese stratagy"
      ],
      "metadata": {
        "id": "GsS3mWUvmDYF"
      }
    },
    {
      "cell_type": "code",
      "source": [
        "class XLMRoBERTa4LastLayersForClassification(RobertaPreTrainedModel):\n",
        "    _keys_to_ignore_on_load_missing = [r\"position_ids\"]\n",
        "\n",
        "    def __init__(self, config):\n",
        "        super().__init__(config)\n",
        "        self.config = config\n",
        "        \n",
        "        self.roberta = RobertaModel(config, add_pooling_layer=False)\n",
        "        self.classifier=self.load_weight_classifier()\n",
        "\n",
        "        self.init_weights()\n",
        "\n",
        "    def load_weight_classifier(self):\n",
        "        classifier_ckpt=torch.load('/content/drive/MyDrive/en-vi-nli/models/four_last_layer_classifier/four_last_layer_classifier.pt')\n",
        "        classifier=Classifier(self.config.hidden_size*4,self.config.hidden_size*4,self.config.num_labels,self.config.classifier_dropout)\n",
        "        classifier.load_state_dict(classifier_ckpt['four_last_layer_classifier'])\n",
        "        return classifier\n",
        "    \n",
        "    def forward(self,input_ids_1,attention_mask_1,input_ids_2,attention_mask_2,labels=None):\n",
        "\n",
        "        outputs_1 = self.roberta(input_ids=input_ids_1,attention_mask=attention_mask_1,output_hidden_states=True)\n",
        "        last_layers_1=torch.stack(outputs_1.hidden_states[-4:])\n",
        "        last_layers_1=last_layers_1.permute(1,2,0,3)\n",
        "        features_1=torch.flatten(last_layers_1,start_dim=2)\n",
        "        cls_embedding_1=features_1[:,0,:]\n",
        "\n",
        "        outputs_2 = self.roberta(input_ids=input_ids_2,attention_mask=attention_mask_2,output_hidden_states=True)\n",
        "        last_layers_2=torch.stack(outputs_2.hidden_states[-4:])\n",
        "        last_layers_2=last_layers_2.permute(1,2,0,3)\n",
        "        features_2=torch.flatten(last_layers_2,start_dim=2)\n",
        "        cls_embedding_2=features_2[:,0,:]\n",
        "        \n",
        "        concat=torch.concat([cls_embedding_1,cls_embedding_2,torch.abs(cls_embedding_1-cls_embedding_2)],dim=-1)\n",
        "        # add dense layer with size hidden_size*12,hidden_size*12 ?????\n",
        "        logits=self.classifier(concat)\n",
        "\n",
        "        loss=0\n",
        "        if labels!=None:\n",
        "          loss_fct = CrossEntropyLoss()\n",
        "          loss = loss_fct(logits.view(-1, self.config.num_labels), labels.view(-1))\n",
        "\n",
        "        return SequenceClassifierOutput(\n",
        "                loss=loss,\n",
        "                logits=logits)"
      ],
      "metadata": {
        "id": "rhpgZ3JymdmK"
      },
      "execution_count": null,
      "outputs": []
    },
    {
      "cell_type": "markdown",
      "source": [
        "##Train"
      ],
      "metadata": {
        "id": "NtdscBSyfsEb"
      }
    },
    {
      "cell_type": "code",
      "source": [
        "model=XLMRoBERTa4LastLayersForClassification.from_pretrained(name,config=config).to(device)"
      ],
      "metadata": {
        "colab": {
          "base_uri": "https://localhost:8080/"
        },
        "id": "0YJBC0vpe10W",
        "outputId": "f76d215c-599f-47a7-b3c3-8fb1e18f7ccf"
      },
      "execution_count": 89,
      "outputs": [
        {
          "output_type": "stream",
          "name": "stderr",
          "text": [
            "Some weights of the model checkpoint at xlm-roberta-base were not used when initializing XLMRoBERTa4LastLayersForClassification: ['roberta.pooler.dense.weight', 'lm_head.dense.weight', 'lm_head.dense.bias', 'lm_head.bias', 'lm_head.decoder.weight', 'lm_head.layer_norm.weight', 'lm_head.layer_norm.bias', 'roberta.pooler.dense.bias']\n",
            "- This IS expected if you are initializing XLMRoBERTa4LastLayersForClassification from the checkpoint of a model trained on another task or with another architecture (e.g. initializing a BertForSequenceClassification model from a BertForPreTraining model).\n",
            "- This IS NOT expected if you are initializing XLMRoBERTa4LastLayersForClassification from the checkpoint of a model that you expect to be exactly identical (initializing a BertForSequenceClassification model from a BertForSequenceClassification model).\n",
            "Some weights of XLMRoBERTa4LastLayersForClassification were not initialized from the model checkpoint at xlm-roberta-base and are newly initialized: ['last_layer_classifier.out_proj.bias', 'last_layer_classifier.dense.weight', 'last_layer_classifier.out_proj.weight', 'last_layer_classifier.dense.bias']\n",
            "You should probably TRAIN this model on a down-stream task to be able to use it for predictions and inference.\n"
          ]
        }
      ]
    },
    {
      "cell_type": "code",
      "source": [
        "import gc\n",
        "gc.collect()"
      ],
      "metadata": {
        "colab": {
          "base_uri": "https://localhost:8080/"
        },
        "id": "5R1f3hfmfAJS",
        "outputId": "d7b89f09-191f-4746-8dd3-e1dd5dc63ade"
      },
      "execution_count": 90,
      "outputs": [
        {
          "output_type": "execute_result",
          "data": {
            "text/plain": [
              "3708"
            ]
          },
          "metadata": {},
          "execution_count": 90
        }
      ]
    },
    {
      "cell_type": "markdown",
      "source": [
        "Note: Currently, I'm not using schedulers "
      ],
      "metadata": {
        "id": "B1sKvDYxaCom"
      }
    },
    {
      "cell_type": "code",
      "source": [
        "epochs=30\n",
        "init_lr=1e-5\n",
        "eps =1e-8"
      ],
      "metadata": {
        "id": "-G9rgxLzhI5y"
      },
      "execution_count": null,
      "outputs": []
    },
    {
      "cell_type": "code",
      "source": [
        "optimizer=torch.optim.AdamW(model.parameters(),lr=init_lr,weight_decay =0.01,eps=eps)"
      ],
      "metadata": {
        "id": "TzN_4ii6frGt"
      },
      "execution_count": 91,
      "outputs": []
    },
    {
      "cell_type": "code",
      "source": [
        "def save_model(epoch,model,optimizer,scheduler,training_loss,valid_loss,train_acc,valid_acc,path,step=None):\n",
        "  torch.save({\n",
        "          'epoch': epoch,\n",
        "          'model_state_dict': model,\n",
        "          'optimizer_state_dict': optimizer,\n",
        "          'scheduler_state_dict': scheduler,\n",
        "          'training_loss': training_loss,\n",
        "          'valid_loss': valid_loss,\n",
        "          'train_acc': train_acc,\n",
        "          'valid_acc': valid_acc,\n",
        "          'step':step\n",
        "          }, join(path,f'ckpt{epoch}.pt'))"
      ],
      "metadata": {
        "id": "9s1VS5wFfv3M"
      },
      "execution_count": 92,
      "outputs": []
    },
    {
      "cell_type": "code",
      "source": [
        "def run_train(optimizer,dataloader,lr_scheduler=None):\n",
        "  model.train(True)\n",
        "  loop = tqdm(dataloader)\n",
        "  loss=0\n",
        "  true=[]\n",
        "  pred=[]\n",
        "  for batch in dataloader:\n",
        "    optimizer.zero_grad()\n",
        "    inputs=batch['inputs']\n",
        "    inputs.update({\"labels\":batch['labels']})\n",
        "    true+=batch['labels'].tolist()\n",
        "    outputs=model(**inputs)\n",
        "    outputs.loss.backward()\n",
        "\n",
        "    loss+=outputs.loss.item()\n",
        "    probs=torch.nn.functional.softmax(outputs.logits,dim=-1)\n",
        "    _pred=torch.argmax(probs,dim=-1).tolist()\n",
        "    pred+=_pred\n",
        "    optimizer.step()\n",
        "    if lr_scheduler!=None:\n",
        "      lr_scheduler.step()\n",
        "    loop.set_postfix({f'train_loss_per_batch':outputs.loss.item()})\n",
        "    loop.update()      \n",
        "  acc=accuracy_score(true,pred)\n",
        "  return loss/len(dataloader),acc"
      ],
      "metadata": {
        "id": "5aQmU-XWfxiI"
      },
      "execution_count": 93,
      "outputs": []
    },
    {
      "cell_type": "code",
      "source": [
        "def run_valid(dataloader):\n",
        "  model.eval()\n",
        "  loss=0\n",
        "  pred=[]\n",
        "  true=[]\n",
        "  with torch.no_grad():\n",
        "    for batch in dataloader:\n",
        "      inputs=batch['inputs']\n",
        "      inputs.update({\"labels\":batch['labels']})\n",
        "      true+=batch['labels'].tolist()\n",
        "      \n",
        "      outputs=model(**inputs)\n",
        "      probs=torch.nn.functional.softmax(outputs.logits,dim=-1)\n",
        "      _pred=torch.argmax(probs,dim=-1).tolist()\n",
        "      pred+=_pred\n",
        "      loss+=outputs.loss.item()\n",
        "\n",
        "  acc=accuracy_score(true,pred)\n",
        "\n",
        "  return loss/len(dataloader),acc"
      ],
      "metadata": {
        "id": "fEnW4nN-fzLE"
      },
      "execution_count": 94,
      "outputs": []
    },
    {
      "cell_type": "code",
      "source": [
        "import gc\n",
        "gc.collect()"
      ],
      "metadata": {
        "colab": {
          "base_uri": "https://localhost:8080/"
        },
        "id": "-_H_3T_Of8kw",
        "outputId": "e3eacb1d-35cb-4b29-c4c4-7346ca731461"
      },
      "execution_count": 95,
      "outputs": [
        {
          "output_type": "execute_result",
          "data": {
            "text/plain": [
              "132"
            ]
          },
          "metadata": {},
          "execution_count": 95
        }
      ]
    },
    {
      "cell_type": "code",
      "source": [
        "lr_scheduler=None"
      ],
      "metadata": {
        "id": "uxAzVQAef-Aa"
      },
      "execution_count": 96,
      "outputs": []
    },
    {
      "cell_type": "code",
      "source": [
        "model_directory='/content/drive/MyDrive/en-vi-nli/models/last-layer'\n",
        "os.makedirs(model_directory,exist_ok=True)\n",
        "model_directory"
      ],
      "metadata": {
        "colab": {
          "base_uri": "https://localhost:8080/",
          "height": 37
        },
        "id": "Fz0TrGH_f_S2",
        "outputId": "4a72be03-3705-4b9a-e9d2-0df42045df69"
      },
      "execution_count": 97,
      "outputs": [
        {
          "output_type": "execute_result",
          "data": {
            "text/plain": [
              "'/content/drive/MyDrive/en-vi-nli/models/last-layer'"
            ],
            "application/vnd.google.colaboratory.intrinsic+json": {
              "type": "string"
            }
          },
          "metadata": {},
          "execution_count": 97
        }
      ]
    },
    {
      "cell_type": "code",
      "source": [
        "train_loss_per_step=[]\n",
        "valid_loss_per_step=[]\n",
        "train_acc_per_step=[]\n",
        "valid_acc_per_step=[]\n",
        "# min_loss=np.inf\n",
        "best_acc=0\n",
        "count_stopping=0\n",
        "for epoch in range(epochs):\n",
        "\n",
        "  train_loss,train_acc=run_train(optimizer,train_dataloader,lr_scheduler)\n",
        "  \n",
        "  valid_loss,valid_acc=run_valid(valid_dataloader)\n",
        "\n",
        "  train_loss_per_step.append(train_loss)\n",
        "  valid_loss_per_step.append(valid_loss)\n",
        "\n",
        "  train_acc_per_step.append(train_acc)\n",
        "  valid_acc_per_step.append(valid_acc)\n",
        "  \n",
        "  print(f'epoch: {epoch} train_loss: {train_loss} valid_loss: {valid_loss} train_acc: {train_acc} valid_acc: {valid_acc}')\n",
        "  # if valid_loss<min_loss:\n",
        "  if best_acc<valid_acc:\n",
        "    # min_loss=valid_loss\n",
        "    best_acc=valid_acc\n",
        "    save_model(epoch,model.state_dict(),optimizer.state_dict(),lr_scheduler,train_loss,valid_loss,train_acc,valid_acc,model_directory)\n",
        "    count_stopping=0\n",
        "  else:\n",
        "    count_stopping+=1\n",
        "  \n",
        "  if count_stopping>5:\n",
        "    break\n"
      ],
      "metadata": {
        "colab": {
          "base_uri": "https://localhost:8080/",
          "height": 118,
          "referenced_widgets": [
            "76b3c22c38de4c339e3cafc3fcedbce5",
            "859ec84ec1a64de4804025111963245e",
            "5ef2bf94efb746519c632ef4895cd14d",
            "9468d69041214259a0300450368d60c4",
            "4d44e9a62bcb468d9f574b8b294701ff",
            "631361482c00457cae10c68b254f792e",
            "2e849b4dbedd4a13bb1b36fab5e57cfa",
            "d87d0dd6d2c04eb780dd0b18900bd61e",
            "48b3f1b01eb34ceea6dc730e4d86480f",
            "4ca22bcaab0c468f8edfe326d1c28277",
            "1c9146c5760a40d5b76ec7c692e8af08",
            "289b2bd499c1488f96dcb84627ca2b9f",
            "be100bbead694ac2a4b37b9b90a78344",
            "213eb648dfb84ed2941df112aa306799",
            "918539e8ba2f4a1a849c9f920dd8ef23",
            "f73427f4e12b458ab3f0c4108db8f01d",
            "984f74a321c2434b919881d2a90d9f07",
            "3ce77d344db548008314d4ea791043bb",
            "879991e06c7e4bed917bd4c117eb42ac",
            "1b398774e8e14415b51a90901809428c",
            "450d7da24d59465b824587075f17ad7b",
            "b35f1f20895c43f280e2b9c49c6fdeec"
          ]
        },
        "id": "EKgFlwg-gDXY",
        "outputId": "7590c8c0-2878-45e7-fd80-60e8be5f0959"
      },
      "execution_count": null,
      "outputs": [
        {
          "output_type": "display_data",
          "data": {
            "text/plain": [
              "  0%|          | 0/3446 [00:00<?, ?it/s]"
            ],
            "application/vnd.jupyter.widget-view+json": {
              "version_major": 2,
              "version_minor": 0,
              "model_id": "76b3c22c38de4c339e3cafc3fcedbce5"
            }
          },
          "metadata": {}
        },
        {
          "output_type": "stream",
          "name": "stdout",
          "text": [
            "epoch: 0 train_loss: 0.8295521215858394 valid_loss: 0.7025113529280612 train_acc: 0.6161840589830324 valid_acc: 0.7075851960425064\n"
          ]
        },
        {
          "output_type": "display_data",
          "data": {
            "text/plain": [
              "  0%|          | 0/3446 [00:00<?, ?it/s]"
            ],
            "application/vnd.jupyter.widget-view+json": {
              "version_major": 2,
              "version_minor": 0,
              "model_id": "289b2bd499c1488f96dcb84627ca2b9f"
            }
          },
          "metadata": {}
        }
      ]
    },
    {
      "cell_type": "code",
      "source": [
        ""
      ],
      "metadata": {
        "id": "0iVIT99igFfz"
      },
      "execution_count": null,
      "outputs": []
    }
  ]
}