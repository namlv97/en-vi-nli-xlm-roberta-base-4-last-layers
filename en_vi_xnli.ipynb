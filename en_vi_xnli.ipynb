{
  "cells": [
    {
      "cell_type": "code",
      "execution_count": null,
      "metadata": {
        "colab": {
          "base_uri": "https://localhost:8080/"
        },
        "id": "vBmMrzCGVptj",
        "outputId": "511bdc42-1897-43b7-8b2a-da9aaeb73777"
      },
      "outputs": [
        {
          "output_type": "stream",
          "name": "stdout",
          "text": [
            "Wed Jun  1 23:13:17 2022       \n",
            "+-----------------------------------------------------------------------------+\n",
            "| NVIDIA-SMI 460.32.03    Driver Version: 460.32.03    CUDA Version: 11.2     |\n",
            "|-------------------------------+----------------------+----------------------+\n",
            "| GPU  Name        Persistence-M| Bus-Id        Disp.A | Volatile Uncorr. ECC |\n",
            "| Fan  Temp  Perf  Pwr:Usage/Cap|         Memory-Usage | GPU-Util  Compute M. |\n",
            "|                               |                      |               MIG M. |\n",
            "|===============================+======================+======================|\n",
            "|   0  Tesla T4            Off  | 00000000:00:04.0 Off |                    0 |\n",
            "| N/A   58C    P8    11W /  70W |      0MiB / 15109MiB |      0%      Default |\n",
            "|                               |                      |                  N/A |\n",
            "+-------------------------------+----------------------+----------------------+\n",
            "                                                                               \n",
            "+-----------------------------------------------------------------------------+\n",
            "| Processes:                                                                  |\n",
            "|  GPU   GI   CI        PID   Type   Process name                  GPU Memory |\n",
            "|        ID   ID                                                   Usage      |\n",
            "|=============================================================================|\n",
            "|  No running processes found                                                 |\n",
            "+-----------------------------------------------------------------------------+\n"
          ]
        }
      ],
      "source": [
        "!nvidia-smi"
      ]
    },
    {
      "cell_type": "code",
      "execution_count": null,
      "metadata": {
        "colab": {
          "base_uri": "https://localhost:8080/"
        },
        "id": "WFZa96bMVq2c",
        "outputId": "0366670d-9643-43e3-80f0-2014123fece0"
      },
      "outputs": [
        {
          "output_type": "stream",
          "name": "stdout",
          "text": [
            "Mounted at /content/drive\n"
          ]
        }
      ],
      "source": [
        "from google.colab import drive\n",
        "drive.mount('/content/drive')"
      ]
    },
    {
      "cell_type": "markdown",
      "metadata": {
        "id": "jZptCwL17SDu"
      },
      "source": [
        "#Install libraries"
      ]
    },
    {
      "cell_type": "code",
      "execution_count": null,
      "metadata": {
        "colab": {
          "base_uri": "https://localhost:8080/"
        },
        "id": "McBwjspQ7UQ0",
        "outputId": "9e44c7c2-a985-440c-ac64-47a6873bbecc"
      },
      "outputs": [
        {
          "output_type": "stream",
          "name": "stdout",
          "text": [
            "Looking in indexes: https://pypi.org/simple, https://us-python.pkg.dev/colab-wheels/public/simple/\n",
            "Collecting transformers\n",
            "  Downloading transformers-4.19.2-py3-none-any.whl (4.2 MB)\n",
            "\u001b[K     |████████████████████████████████| 4.2 MB 28.4 MB/s \n",
            "\u001b[?25hRequirement already satisfied: importlib-metadata in /usr/local/lib/python3.7/dist-packages (from transformers) (4.11.4)\n",
            "Requirement already satisfied: tqdm>=4.27 in /usr/local/lib/python3.7/dist-packages (from transformers) (4.64.0)\n",
            "Collecting tokenizers!=0.11.3,<0.13,>=0.11.1\n",
            "  Downloading tokenizers-0.12.1-cp37-cp37m-manylinux_2_12_x86_64.manylinux2010_x86_64.whl (6.6 MB)\n",
            "\u001b[K     |████████████████████████████████| 6.6 MB 47.4 MB/s \n",
            "\u001b[?25hCollecting pyyaml>=5.1\n",
            "  Downloading PyYAML-6.0-cp37-cp37m-manylinux_2_5_x86_64.manylinux1_x86_64.manylinux_2_12_x86_64.manylinux2010_x86_64.whl (596 kB)\n",
            "\u001b[K     |████████████████████████████████| 596 kB 70.8 MB/s \n",
            "\u001b[?25hCollecting huggingface-hub<1.0,>=0.1.0\n",
            "  Downloading huggingface_hub-0.7.0-py3-none-any.whl (86 kB)\n",
            "\u001b[K     |████████████████████████████████| 86 kB 8.2 MB/s \n",
            "\u001b[?25hRequirement already satisfied: packaging>=20.0 in /usr/local/lib/python3.7/dist-packages (from transformers) (21.3)\n",
            "Requirement already satisfied: numpy>=1.17 in /usr/local/lib/python3.7/dist-packages (from transformers) (1.21.6)\n",
            "Requirement already satisfied: requests in /usr/local/lib/python3.7/dist-packages (from transformers) (2.23.0)\n",
            "Requirement already satisfied: regex!=2019.12.17 in /usr/local/lib/python3.7/dist-packages (from transformers) (2019.12.20)\n",
            "Requirement already satisfied: filelock in /usr/local/lib/python3.7/dist-packages (from transformers) (3.7.0)\n",
            "Requirement already satisfied: typing-extensions>=3.7.4.3 in /usr/local/lib/python3.7/dist-packages (from huggingface-hub<1.0,>=0.1.0->transformers) (4.2.0)\n",
            "Requirement already satisfied: pyparsing!=3.0.5,>=2.0.2 in /usr/local/lib/python3.7/dist-packages (from packaging>=20.0->transformers) (3.0.9)\n",
            "Requirement already satisfied: zipp>=0.5 in /usr/local/lib/python3.7/dist-packages (from importlib-metadata->transformers) (3.8.0)\n",
            "Requirement already satisfied: certifi>=2017.4.17 in /usr/local/lib/python3.7/dist-packages (from requests->transformers) (2022.5.18.1)\n",
            "Requirement already satisfied: chardet<4,>=3.0.2 in /usr/local/lib/python3.7/dist-packages (from requests->transformers) (3.0.4)\n",
            "Requirement already satisfied: urllib3!=1.25.0,!=1.25.1,<1.26,>=1.21.1 in /usr/local/lib/python3.7/dist-packages (from requests->transformers) (1.24.3)\n",
            "Requirement already satisfied: idna<3,>=2.5 in /usr/local/lib/python3.7/dist-packages (from requests->transformers) (2.10)\n",
            "Installing collected packages: pyyaml, tokenizers, huggingface-hub, transformers\n",
            "  Attempting uninstall: pyyaml\n",
            "    Found existing installation: PyYAML 3.13\n",
            "    Uninstalling PyYAML-3.13:\n",
            "      Successfully uninstalled PyYAML-3.13\n",
            "Successfully installed huggingface-hub-0.7.0 pyyaml-6.0 tokenizers-0.12.1 transformers-4.19.2\n"
          ]
        }
      ],
      "source": [
        "pip install transformers"
      ]
    },
    {
      "cell_type": "code",
      "execution_count": null,
      "metadata": {
        "id": "86B6QVBnq9_O"
      },
      "outputs": [],
      "source": [
        "!pip install datasets"
      ]
    },
    {
      "cell_type": "markdown",
      "metadata": {
        "id": "yqDxwi7PScCJ"
      },
      "source": [
        "#Download XNLI dataset"
      ]
    },
    {
      "cell_type": "code",
      "execution_count": null,
      "metadata": {
        "id": "GtAFtyW8R4XC"
      },
      "outputs": [],
      "source": [
        "from datasets import load_dataset\n",
        "import pandas as pd\n",
        "from tqdm.auto import tqdm\n",
        "import os"
      ]
    },
    {
      "cell_type": "code",
      "execution_count": null,
      "metadata": {
        "id": "R7mA0jcmSiuV"
      },
      "outputs": [],
      "source": [
        "vi_dataset = load_dataset(\"xnli\",language='vi')\n",
        "en_dataset = load_dataset(\"xnli\",language='en')"
      ]
    },
    {
      "cell_type": "code",
      "execution_count": null,
      "metadata": {
        "colab": {
          "base_uri": "https://localhost:8080/"
        },
        "id": "3LcPSQ7aTPSI",
        "outputId": "0e8a81f4-20a5-4a48-ef44-c9efd8161372"
      },
      "outputs": [
        {
          "data": {
            "text/plain": [
              "DatasetDict({\n",
              "    train: Dataset({\n",
              "        features: ['premise', 'hypothesis', 'label'],\n",
              "        num_rows: 392702\n",
              "    })\n",
              "    test: Dataset({\n",
              "        features: ['premise', 'hypothesis', 'label'],\n",
              "        num_rows: 5010\n",
              "    })\n",
              "    validation: Dataset({\n",
              "        features: ['premise', 'hypothesis', 'label'],\n",
              "        num_rows: 2490\n",
              "    })\n",
              "})"
            ]
          },
          "execution_count": 5,
          "metadata": {},
          "output_type": "execute_result"
        }
      ],
      "source": [
        "vi_dataset"
      ]
    },
    {
      "cell_type": "code",
      "execution_count": null,
      "metadata": {
        "colab": {
          "base_uri": "https://localhost:8080/"
        },
        "id": "mhG9RQWITR1Z",
        "outputId": "a210e687-ff0d-488d-ff9a-fd38bf5c7a81"
      },
      "outputs": [
        {
          "data": {
            "text/plain": [
              "DatasetDict({\n",
              "    train: Dataset({\n",
              "        features: ['premise', 'hypothesis', 'label'],\n",
              "        num_rows: 392702\n",
              "    })\n",
              "    test: Dataset({\n",
              "        features: ['premise', 'hypothesis', 'label'],\n",
              "        num_rows: 5010\n",
              "    })\n",
              "    validation: Dataset({\n",
              "        features: ['premise', 'hypothesis', 'label'],\n",
              "        num_rows: 2490\n",
              "    })\n",
              "})"
            ]
          },
          "execution_count": 6,
          "metadata": {},
          "output_type": "execute_result"
        }
      ],
      "source": [
        "en_dataset"
      ]
    },
    {
      "cell_type": "code",
      "execution_count": null,
      "metadata": {
        "id": "YsYimPgdTQpV"
      },
      "outputs": [],
      "source": [
        "vi_train=pd.DataFrame(vi_dataset['train'])\n",
        "vi_valid=pd.DataFrame(vi_dataset['validation'])\n",
        "vi_test=pd.DataFrame(vi_dataset['test'])"
      ]
    },
    {
      "cell_type": "code",
      "execution_count": null,
      "metadata": {
        "id": "uY4Zs0NsUsxv"
      },
      "outputs": [],
      "source": [
        "en_train=pd.DataFrame(en_dataset['train'])\n",
        "en_valid=pd.DataFrame(en_dataset['validation'])\n",
        "en_test=pd.DataFrame(en_dataset['test'])"
      ]
    },
    {
      "cell_type": "markdown",
      "metadata": {
        "id": "8nkCHxZ17cQC"
      },
      "source": [
        "Concatenate two datasets\n",
        "\n"
      ]
    },
    {
      "cell_type": "code",
      "execution_count": null,
      "metadata": {
        "id": "v_SecMmdUvLe"
      },
      "outputs": [],
      "source": [
        "def merge_en_vi_pairs(en,vi):\n",
        "  # en set, vi set set must have the same size\n",
        "\n",
        "  en_premises=en['premise']\n",
        "  en_hypothesises=en['hypothesis']\n",
        "  en_labels=en['label']\n",
        "\n",
        "  vi_premises=vi['premise']\n",
        "  vi_hypothesises=vi['hypothesis']\n",
        "  vi_labels=vi['label']\n",
        "\n",
        "  pairs=[]\n",
        "  num_samples=len(en)\n",
        "  bar=tqdm(range(num_samples))\n",
        "\n",
        "  for i in range(num_samples):\n",
        "    if en_labels[i]==vi_labels[i]:\n",
        "      pairs.append({\n",
        "          'en_premise':en_premises[i],\n",
        "          'vi_premise':vi_premises[i],\n",
        "          'en_hypothesis':en_hypothesises[i],\n",
        "          'vi_hypothesis':vi_hypothesises[i],\n",
        "          'label':en_labels[i],\n",
        "      })\n",
        "    bar.update()\n",
        "  \n",
        "  return pd.DataFrame(pairs)"
      ]
    },
    {
      "cell_type": "code",
      "execution_count": null,
      "metadata": {
        "colab": {
          "base_uri": "https://localhost:8080/",
          "height": 49,
          "referenced_widgets": [
            "7ac12514fd804acf8f4e1b444c96b938",
            "8eb2f4fe26664cb094ccba92b0b215af",
            "8ee62c1b4c524faf8e3394a4597b79b1",
            "4021ae345b28494284a172814663e88b",
            "a282cbe42c324211b45f3c3e0b1eca7b",
            "71b242a446164ae0ad9745f89bc605aa",
            "147aac500766481987373461eaac946e",
            "fc8ea273438f420f881af41bf79a349c",
            "5b2efb450b654d368ee3e94dc77d4a83",
            "b22040e53a4c4a49a207581a5ec27972",
            "d1e7cab96a4b46d99ce2ad4ac1226b16"
          ]
        },
        "id": "EkXg-2KEVP2M",
        "outputId": "cc488165-1331-4402-ffd1-fcfc9f217936"
      },
      "outputs": [
        {
          "data": {
            "application/vnd.jupyter.widget-view+json": {
              "model_id": "7ac12514fd804acf8f4e1b444c96b938",
              "version_major": 2,
              "version_minor": 0
            },
            "text/plain": [
              "  0%|          | 0/392702 [00:00<?, ?it/s]"
            ]
          },
          "metadata": {},
          "output_type": "display_data"
        }
      ],
      "source": [
        "train=merge_en_vi_pairs(en_train,vi_train)\n"
      ]
    },
    {
      "cell_type": "code",
      "execution_count": null,
      "metadata": {
        "colab": {
          "base_uri": "https://localhost:8080/",
          "height": 633
        },
        "id": "rET1J8aBVUxq",
        "outputId": "64549ac8-88c7-40fb-82a1-166b877bf037"
      },
      "outputs": [
        {
          "data": {
            "text/html": [
              "\n",
              "  <div id=\"df-e091a875-8679-4f1f-8576-f8b5a050cebc\">\n",
              "    <div class=\"colab-df-container\">\n",
              "      <div>\n",
              "<style scoped>\n",
              "    .dataframe tbody tr th:only-of-type {\n",
              "        vertical-align: middle;\n",
              "    }\n",
              "\n",
              "    .dataframe tbody tr th {\n",
              "        vertical-align: top;\n",
              "    }\n",
              "\n",
              "    .dataframe thead th {\n",
              "        text-align: right;\n",
              "    }\n",
              "</style>\n",
              "<table border=\"1\" class=\"dataframe\">\n",
              "  <thead>\n",
              "    <tr style=\"text-align: right;\">\n",
              "      <th></th>\n",
              "      <th>en_premise</th>\n",
              "      <th>vi_premise</th>\n",
              "      <th>en_hypothesis</th>\n",
              "      <th>vi_hypothesis</th>\n",
              "      <th>label</th>\n",
              "    </tr>\n",
              "  </thead>\n",
              "  <tbody>\n",
              "    <tr>\n",
              "      <th>0</th>\n",
              "      <td>Conceptually cream skimming has two basic dime...</td>\n",
              "      <td>Conceptually kem skimming có hai kích thước cơ...</td>\n",
              "      <td>Product and geography are what make cream skim...</td>\n",
              "      <td>Sản phẩm và địa lý là những gì làm cho kem ski...</td>\n",
              "      <td>1</td>\n",
              "    </tr>\n",
              "    <tr>\n",
              "      <th>1</th>\n",
              "      <td>you know during the season and i guess at at y...</td>\n",
              "      <td>Bạn biết trong mùa giải và tôi đoán ở mức độ c...</td>\n",
              "      <td>You lose the things to the following level if ...</td>\n",
              "      <td>Anh sẽ mất mọi thứ ở mức độ sau nếu người dân ...</td>\n",
              "      <td>0</td>\n",
              "    </tr>\n",
              "    <tr>\n",
              "      <th>2</th>\n",
              "      <td>One of our number will carry out your instruct...</td>\n",
              "      <td>Một trong số chúng tôi sẽ thực hiện các hướng ...</td>\n",
              "      <td>A member of my team will execute your orders w...</td>\n",
              "      <td>Một thành viên trong đội của tôi sẽ thực hiện ...</td>\n",
              "      <td>0</td>\n",
              "    </tr>\n",
              "    <tr>\n",
              "      <th>3</th>\n",
              "      <td>How do you know ? All this is their informatio...</td>\n",
              "      <td>Làm sao anh biết ? Tất cả đây là thông tin của...</td>\n",
              "      <td>This information belongs to them .</td>\n",
              "      <td>Thông tin này thuộc về họ .</td>\n",
              "      <td>0</td>\n",
              "    </tr>\n",
              "    <tr>\n",
              "      <th>4</th>\n",
              "      <td>yeah i tell you what though if you go price so...</td>\n",
              "      <td>Tôi nói cho anh biết nếu anh đi giá một số đôi...</td>\n",
              "      <td>The tennis shoes have a range of prices .</td>\n",
              "      <td>Đôi giày tennis có một tầm giá .</td>\n",
              "      <td>1</td>\n",
              "    </tr>\n",
              "    <tr>\n",
              "      <th>...</th>\n",
              "      <td>...</td>\n",
              "      <td>...</td>\n",
              "      <td>...</td>\n",
              "      <td>...</td>\n",
              "      <td>...</td>\n",
              "    </tr>\n",
              "    <tr>\n",
              "      <th>392697</th>\n",
              "      <td>Clearly , California can - and must - do better .</td>\n",
              "      <td>Rõ ràng , California có thể - và phải - làm tố...</td>\n",
              "      <td>California cannot do any better .</td>\n",
              "      <td>California không thể làm được gì tốt hơn .</td>\n",
              "      <td>2</td>\n",
              "    </tr>\n",
              "    <tr>\n",
              "      <th>392698</th>\n",
              "      <td>It was once regarded as the most beautiful str...</td>\n",
              "      <td>Đó là một lần được đánh dấu là con đường đẹp n...</td>\n",
              "      <td>So many of the original buildings had been rep...</td>\n",
              "      <td>Rất nhiều các tòa nhà gốc đã được thay thế bởi...</td>\n",
              "      <td>1</td>\n",
              "    </tr>\n",
              "    <tr>\n",
              "      <th>392699</th>\n",
              "      <td>Houseboats are a beautifully preserved traditi...</td>\n",
              "      <td>Houseboats là một truyền thống được bảo tồn tu...</td>\n",
              "      <td>The tradition of houseboats originated while t...</td>\n",
              "      <td>Truyền thống của houseboats có nguồn gốc trong...</td>\n",
              "      <td>0</td>\n",
              "    </tr>\n",
              "    <tr>\n",
              "      <th>392700</th>\n",
              "      <td>Obituaries fondly recalled his on-air debates ...</td>\n",
              "      <td>Cáo phó thú vị đã ghi lại cuộc tranh luận trên...</td>\n",
              "      <td>The obituaries were beautiful and written in k...</td>\n",
              "      <td>Các cáo phó rất đẹp và được viết về những thàn...</td>\n",
              "      <td>1</td>\n",
              "    </tr>\n",
              "    <tr>\n",
              "      <th>392701</th>\n",
              "      <td>in that other you know uh that i should do it ...</td>\n",
              "      <td>Trong những người khác bạn biết rằng tôi nên l...</td>\n",
              "      <td>My husband has been so overworked lately that ...</td>\n",
              "      <td>Chồng tôi đã rất khó khăn gần đây mà tôi không...</td>\n",
              "      <td>1</td>\n",
              "    </tr>\n",
              "  </tbody>\n",
              "</table>\n",
              "<p>392702 rows × 5 columns</p>\n",
              "</div>\n",
              "      <button class=\"colab-df-convert\" onclick=\"convertToInteractive('df-e091a875-8679-4f1f-8576-f8b5a050cebc')\"\n",
              "              title=\"Convert this dataframe to an interactive table.\"\n",
              "              style=\"display:none;\">\n",
              "        \n",
              "  <svg xmlns=\"http://www.w3.org/2000/svg\" height=\"24px\"viewBox=\"0 0 24 24\"\n",
              "       width=\"24px\">\n",
              "    <path d=\"M0 0h24v24H0V0z\" fill=\"none\"/>\n",
              "    <path d=\"M18.56 5.44l.94 2.06.94-2.06 2.06-.94-2.06-.94-.94-2.06-.94 2.06-2.06.94zm-11 1L8.5 8.5l.94-2.06 2.06-.94-2.06-.94L8.5 2.5l-.94 2.06-2.06.94zm10 10l.94 2.06.94-2.06 2.06-.94-2.06-.94-.94-2.06-.94 2.06-2.06.94z\"/><path d=\"M17.41 7.96l-1.37-1.37c-.4-.4-.92-.59-1.43-.59-.52 0-1.04.2-1.43.59L10.3 9.45l-7.72 7.72c-.78.78-.78 2.05 0 2.83L4 21.41c.39.39.9.59 1.41.59.51 0 1.02-.2 1.41-.59l7.78-7.78 2.81-2.81c.8-.78.8-2.07 0-2.86zM5.41 20L4 18.59l7.72-7.72 1.47 1.35L5.41 20z\"/>\n",
              "  </svg>\n",
              "      </button>\n",
              "      \n",
              "  <style>\n",
              "    .colab-df-container {\n",
              "      display:flex;\n",
              "      flex-wrap:wrap;\n",
              "      gap: 12px;\n",
              "    }\n",
              "\n",
              "    .colab-df-convert {\n",
              "      background-color: #E8F0FE;\n",
              "      border: none;\n",
              "      border-radius: 50%;\n",
              "      cursor: pointer;\n",
              "      display: none;\n",
              "      fill: #1967D2;\n",
              "      height: 32px;\n",
              "      padding: 0 0 0 0;\n",
              "      width: 32px;\n",
              "    }\n",
              "\n",
              "    .colab-df-convert:hover {\n",
              "      background-color: #E2EBFA;\n",
              "      box-shadow: 0px 1px 2px rgba(60, 64, 67, 0.3), 0px 1px 3px 1px rgba(60, 64, 67, 0.15);\n",
              "      fill: #174EA6;\n",
              "    }\n",
              "\n",
              "    [theme=dark] .colab-df-convert {\n",
              "      background-color: #3B4455;\n",
              "      fill: #D2E3FC;\n",
              "    }\n",
              "\n",
              "    [theme=dark] .colab-df-convert:hover {\n",
              "      background-color: #434B5C;\n",
              "      box-shadow: 0px 1px 3px 1px rgba(0, 0, 0, 0.15);\n",
              "      filter: drop-shadow(0px 1px 2px rgba(0, 0, 0, 0.3));\n",
              "      fill: #FFFFFF;\n",
              "    }\n",
              "  </style>\n",
              "\n",
              "      <script>\n",
              "        const buttonEl =\n",
              "          document.querySelector('#df-e091a875-8679-4f1f-8576-f8b5a050cebc button.colab-df-convert');\n",
              "        buttonEl.style.display =\n",
              "          google.colab.kernel.accessAllowed ? 'block' : 'none';\n",
              "\n",
              "        async function convertToInteractive(key) {\n",
              "          const element = document.querySelector('#df-e091a875-8679-4f1f-8576-f8b5a050cebc');\n",
              "          const dataTable =\n",
              "            await google.colab.kernel.invokeFunction('convertToInteractive',\n",
              "                                                     [key], {});\n",
              "          if (!dataTable) return;\n",
              "\n",
              "          const docLinkHtml = 'Like what you see? Visit the ' +\n",
              "            '<a target=\"_blank\" href=https://colab.research.google.com/notebooks/data_table.ipynb>data table notebook</a>'\n",
              "            + ' to learn more about interactive tables.';\n",
              "          element.innerHTML = '';\n",
              "          dataTable['output_type'] = 'display_data';\n",
              "          await google.colab.output.renderOutput(dataTable, element);\n",
              "          const docLink = document.createElement('div');\n",
              "          docLink.innerHTML = docLinkHtml;\n",
              "          element.appendChild(docLink);\n",
              "        }\n",
              "      </script>\n",
              "    </div>\n",
              "  </div>\n",
              "  "
            ],
            "text/plain": [
              "                                               en_premise  \\\n",
              "0       Conceptually cream skimming has two basic dime...   \n",
              "1       you know during the season and i guess at at y...   \n",
              "2       One of our number will carry out your instruct...   \n",
              "3       How do you know ? All this is their informatio...   \n",
              "4       yeah i tell you what though if you go price so...   \n",
              "...                                                   ...   \n",
              "392697  Clearly , California can - and must - do better .   \n",
              "392698  It was once regarded as the most beautiful str...   \n",
              "392699  Houseboats are a beautifully preserved traditi...   \n",
              "392700  Obituaries fondly recalled his on-air debates ...   \n",
              "392701  in that other you know uh that i should do it ...   \n",
              "\n",
              "                                               vi_premise  \\\n",
              "0       Conceptually kem skimming có hai kích thước cơ...   \n",
              "1       Bạn biết trong mùa giải và tôi đoán ở mức độ c...   \n",
              "2       Một trong số chúng tôi sẽ thực hiện các hướng ...   \n",
              "3       Làm sao anh biết ? Tất cả đây là thông tin của...   \n",
              "4       Tôi nói cho anh biết nếu anh đi giá một số đôi...   \n",
              "...                                                   ...   \n",
              "392697  Rõ ràng , California có thể - và phải - làm tố...   \n",
              "392698  Đó là một lần được đánh dấu là con đường đẹp n...   \n",
              "392699  Houseboats là một truyền thống được bảo tồn tu...   \n",
              "392700  Cáo phó thú vị đã ghi lại cuộc tranh luận trên...   \n",
              "392701  Trong những người khác bạn biết rằng tôi nên l...   \n",
              "\n",
              "                                            en_hypothesis  \\\n",
              "0       Product and geography are what make cream skim...   \n",
              "1       You lose the things to the following level if ...   \n",
              "2       A member of my team will execute your orders w...   \n",
              "3                      This information belongs to them .   \n",
              "4               The tennis shoes have a range of prices .   \n",
              "...                                                   ...   \n",
              "392697                  California cannot do any better .   \n",
              "392698  So many of the original buildings had been rep...   \n",
              "392699  The tradition of houseboats originated while t...   \n",
              "392700  The obituaries were beautiful and written in k...   \n",
              "392701  My husband has been so overworked lately that ...   \n",
              "\n",
              "                                            vi_hypothesis  label  \n",
              "0       Sản phẩm và địa lý là những gì làm cho kem ski...      1  \n",
              "1       Anh sẽ mất mọi thứ ở mức độ sau nếu người dân ...      0  \n",
              "2       Một thành viên trong đội của tôi sẽ thực hiện ...      0  \n",
              "3                             Thông tin này thuộc về họ .      0  \n",
              "4                        Đôi giày tennis có một tầm giá .      1  \n",
              "...                                                   ...    ...  \n",
              "392697         California không thể làm được gì tốt hơn .      2  \n",
              "392698  Rất nhiều các tòa nhà gốc đã được thay thế bởi...      1  \n",
              "392699  Truyền thống của houseboats có nguồn gốc trong...      0  \n",
              "392700  Các cáo phó rất đẹp và được viết về những thàn...      1  \n",
              "392701  Chồng tôi đã rất khó khăn gần đây mà tôi không...      1  \n",
              "\n",
              "[392702 rows x 5 columns]"
            ]
          },
          "execution_count": 13,
          "metadata": {},
          "output_type": "execute_result"
        }
      ],
      "source": [
        "train"
      ]
    },
    {
      "cell_type": "code",
      "execution_count": null,
      "metadata": {
        "colab": {
          "base_uri": "https://localhost:8080/",
          "height": 81,
          "referenced_widgets": [
            "7c3cd9a4732a432ab906227fdd9fe6cc",
            "5956a21421e64c4883ba75c63a496979",
            "24df29114b0d458eb83a8df1fb64c452",
            "f02d64518dd94d03999c56a1d96e44ad",
            "9d54bd4753d4414881325d97ad6f7fd8",
            "187baee128594fcfb2f29d364fc13f8d",
            "aefad9bf0be54eacac78db01b86535d5",
            "add35cd1eb0240459a10bf226d7cbf71",
            "70976b58458f4376b2e61ccedcfd63ce",
            "0b8e13b73d67473cb8d8587e33efb29b",
            "85169ed2dc3049a19642579cd26b95de",
            "4029282391a74cc4aff4784549a20616",
            "3168fa0c67694469a686597709396620",
            "1ac25f32a5dc4ef592ca4d2482c76cfe",
            "296765bfdc8d4984a25b8ced2622885c",
            "913eb437ec1841b4886c59be4e28127d",
            "9762bdc8fdbf4209a19ff6d4bbe673a6",
            "2d7178528697431fb7d3b0852a730505",
            "08d0ebc8ad1c4d1a80138dbd502c25a4",
            "49eb131386d542018d4eb406568691c9",
            "651ca79bdd7c4627a6759d1eb57166a8",
            "b56cebb630424d8fab43c04b4a834cd5"
          ]
        },
        "id": "sUfy-9lIVYao",
        "outputId": "7364d27e-6dcf-4ace-d7f8-b7a3be9fc65c"
      },
      "outputs": [
        {
          "data": {
            "application/vnd.jupyter.widget-view+json": {
              "model_id": "7c3cd9a4732a432ab906227fdd9fe6cc",
              "version_major": 2,
              "version_minor": 0
            },
            "text/plain": [
              "  0%|          | 0/2490 [00:00<?, ?it/s]"
            ]
          },
          "metadata": {},
          "output_type": "display_data"
        },
        {
          "data": {
            "application/vnd.jupyter.widget-view+json": {
              "model_id": "4029282391a74cc4aff4784549a20616",
              "version_major": 2,
              "version_minor": 0
            },
            "text/plain": [
              "  0%|          | 0/5010 [00:00<?, ?it/s]"
            ]
          },
          "metadata": {},
          "output_type": "display_data"
        }
      ],
      "source": [
        "valid=merge_en_vi_pairs(en_valid,vi_valid)\n",
        "test=merge_en_vi_pairs(en_test,vi_test)"
      ]
    },
    {
      "cell_type": "code",
      "execution_count": null,
      "metadata": {
        "id": "7ZatUiVCVoJb"
      },
      "outputs": [],
      "source": [
        "raw_dataset_directory='/content/drive/MyDrive/en-vi-nli/raw_dataset'\n",
        "os.makedirs(raw_dataset_directory,exist_ok=True)"
      ]
    },
    {
      "cell_type": "code",
      "execution_count": null,
      "metadata": {
        "id": "-dfJDIpTV897"
      },
      "outputs": [],
      "source": [
        "train.to_csv(f'{raw_dataset_directory}/train.csv',index=False)\n",
        "valid.to_csv(f'{raw_dataset_directory}/valid.csv',index=False)\n",
        "test.to_csv(f'{raw_dataset_directory}/test.csv',index=False)"
      ]
    },
    {
      "cell_type": "markdown",
      "metadata": {
        "id": "1_GNF0L0WGyz"
      },
      "source": [
        "#Create cross linguistic sentences pairs dataset"
      ]
    },
    {
      "cell_type": "code",
      "execution_count": null,
      "metadata": {
        "id": "rprv7cwzWE3P"
      },
      "outputs": [],
      "source": [
        "import pandas as pd"
      ]
    },
    {
      "cell_type": "code",
      "execution_count": null,
      "metadata": {
        "id": "gNunYdH1WV95"
      },
      "outputs": [],
      "source": [
        "raw_dataset_directory='/content/drive/MyDrive/en-vi-nli/raw_dataset'"
      ]
    },
    {
      "cell_type": "code",
      "execution_count": null,
      "metadata": {
        "id": "emnZ_HEcWYgB"
      },
      "outputs": [],
      "source": [
        "train=pd.read_csv(f'{raw_dataset_directory}/train.csv')\n",
        "valid=pd.read_csv(f'{raw_dataset_directory}/valid.csv')\n",
        "test=pd.read_csv(f'{raw_dataset_directory}/test.csv')"
      ]
    },
    {
      "cell_type": "code",
      "execution_count": null,
      "metadata": {
        "colab": {
          "base_uri": "https://localhost:8080/"
        },
        "id": "LopRaFIJWs7k",
        "outputId": "a3754efd-586f-4256-cf7d-6a7c2f056051"
      },
      "outputs": [
        {
          "data": {
            "text/plain": [
              "label\n",
              "2        130903\n",
              "1        130900\n",
              "0        130899\n",
              "dtype: int64"
            ]
          },
          "execution_count": 24,
          "metadata": {},
          "output_type": "execute_result"
        }
      ],
      "source": [
        "train.value_counts(['label'])"
      ]
    },
    {
      "cell_type": "code",
      "execution_count": null,
      "metadata": {
        "colab": {
          "base_uri": "https://localhost:8080/"
        },
        "id": "iO-nCN2rWwT9",
        "outputId": "9b7fb4c1-b0bd-4b64-9b2e-b9777350f703"
      },
      "outputs": [
        {
          "data": {
            "text/plain": [
              "label\n",
              "0        830\n",
              "1        830\n",
              "2        830\n",
              "dtype: int64"
            ]
          },
          "execution_count": 25,
          "metadata": {},
          "output_type": "execute_result"
        }
      ],
      "source": [
        "valid.value_counts(['label'])"
      ]
    },
    {
      "cell_type": "code",
      "execution_count": null,
      "metadata": {
        "colab": {
          "base_uri": "https://localhost:8080/"
        },
        "id": "x6V_FjsxWyZe",
        "outputId": "a610014f-dd50-435e-fd3f-1aeec5be5f70"
      },
      "outputs": [
        {
          "data": {
            "text/plain": [
              "label\n",
              "0        1670\n",
              "1        1670\n",
              "2        1670\n",
              "dtype: int64"
            ]
          },
          "execution_count": 26,
          "metadata": {},
          "output_type": "execute_result"
        }
      ],
      "source": [
        "test.value_counts(['label'])"
      ]
    },
    {
      "cell_type": "markdown",
      "metadata": {
        "id": "oVAqIvlI7hfR"
      },
      "source": [
        "suppose to generate dataset with the following column\n",
        "\n",
        "- premise_language\n",
        "- hypothesis_language\n",
        "- premise_sentence\n",
        "- hypothesis_sentence\n",
        "- label\n",
        "\n",
        "So, the final dataset will contains\n",
        "- en-vi pairs\n",
        "- vi-en pairs (not yet)\n",
        "- en-en pairs (not yet)\n",
        "- vi-vi pairs "
      ]
    },
    {
      "cell_type": "code",
      "execution_count": null,
      "metadata": {
        "id": "HV0Mx-VhWy_k"
      },
      "outputs": [],
      "source": [
        "pairs_type=[\n",
        "  ['en','vi'],['vi','vi']\n",
        "]"
      ]
    },
    {
      "cell_type": "code",
      "execution_count": null,
      "metadata": {
        "id": "32PIFP6WXDq_"
      },
      "outputs": [],
      "source": [
        "def create_sentences_pairs_dataset(df):\n",
        "  pairs=[]\n",
        "  for idx,i in enumerate(pairs_type):\n",
        "    \n",
        "    premise_language=f'{i[0]}_premise'\n",
        "    hypothesis_language=f'{i[1]}_hypothesis'\n",
        "    print(premise_language,hypothesis_language)\n",
        "\n",
        "    pair=df[[premise_language,hypothesis_language,'label']]\n",
        "    pair['premise_language']=[i[0]]*len(df)\n",
        "    pair['hypothesis_language']=[i[1]]*len(df)\n",
        "    pair.rename(columns={premise_language:'premise',hypothesis_language:'hypothesis'},inplace=True)  \n",
        "    pairs.append(pair)\n",
        "  return pairs"
      ]
    },
    {
      "cell_type": "code",
      "execution_count": null,
      "metadata": {
        "colab": {
          "base_uri": "https://localhost:8080/"
        },
        "id": "1nzzqno7W-PU",
        "outputId": "78b831f3-1bf6-480a-b7ca-947bef98ffda"
      },
      "outputs": [
        {
          "name": "stdout",
          "output_type": "stream",
          "text": [
            "en_premise vi_hypothesis\n",
            "vi_premise vi_hypothesis\n"
          ]
        },
        {
          "name": "stderr",
          "output_type": "stream",
          "text": [
            "/usr/local/lib/python3.7/dist-packages/ipykernel_launcher.py:10: SettingWithCopyWarning: \n",
            "A value is trying to be set on a copy of a slice from a DataFrame.\n",
            "Try using .loc[row_indexer,col_indexer] = value instead\n",
            "\n",
            "See the caveats in the documentation: https://pandas.pydata.org/pandas-docs/stable/user_guide/indexing.html#returning-a-view-versus-a-copy\n",
            "  # Remove the CWD from sys.path while we load stuff.\n"
          ]
        }
      ],
      "source": [
        "pairs=create_sentences_pairs_dataset(train)"
      ]
    },
    {
      "cell_type": "code",
      "execution_count": null,
      "metadata": {
        "id": "y8TZY-Z_YGM1"
      },
      "outputs": [],
      "source": [
        "pairs_dataset_directory='/content/drive/MyDrive/en-vi-nli/pairs_dataset'\n",
        "os.makedirs(pairs_dataset_directory,exist_ok=True)"
      ]
    },
    {
      "cell_type": "code",
      "execution_count": null,
      "metadata": {
        "id": "kdBN08V_YPFo"
      },
      "outputs": [],
      "source": [
        "def save_pairs_dataset(pairs,pairs_dataset_directory,data_type='train'):\n",
        "  data_type_directory=f'/content/drive/MyDrive/en-vi-nli/pairs_dataset/{data_type}'\n",
        "  os.makedirs(data_type_directory,exist_ok=True)\n",
        "  for idx,pair in enumerate(pairs):\n",
        "    pair.to_csv(f'{data_type_directory}/{pairs_type[idx][0]}_{pairs_type[idx][1]}.csv',index=False)"
      ]
    },
    {
      "cell_type": "code",
      "execution_count": null,
      "metadata": {
        "id": "rzGF0xMwY7P7"
      },
      "outputs": [],
      "source": [
        "save_pairs_dataset(pairs,pairs_dataset_directory,data_type='train')"
      ]
    },
    {
      "cell_type": "code",
      "execution_count": null,
      "metadata": {
        "colab": {
          "base_uri": "https://localhost:8080/"
        },
        "id": "p-c-j4ASXT2A",
        "outputId": "0a3deea9-d075-4c20-be1b-9232e93a02c8"
      },
      "outputs": [
        {
          "name": "stdout",
          "output_type": "stream",
          "text": [
            "en_premise vi_hypothesis\n",
            "vi_premise vi_hypothesis\n",
            "en_premise vi_hypothesis\n",
            "vi_premise vi_hypothesis\n"
          ]
        },
        {
          "name": "stderr",
          "output_type": "stream",
          "text": [
            "/usr/local/lib/python3.7/dist-packages/ipykernel_launcher.py:10: SettingWithCopyWarning: \n",
            "A value is trying to be set on a copy of a slice from a DataFrame.\n",
            "Try using .loc[row_indexer,col_indexer] = value instead\n",
            "\n",
            "See the caveats in the documentation: https://pandas.pydata.org/pandas-docs/stable/user_guide/indexing.html#returning-a-view-versus-a-copy\n",
            "  # Remove the CWD from sys.path while we load stuff.\n"
          ]
        }
      ],
      "source": [
        "valid_pairs=create_sentences_pairs_dataset(valid)\n",
        "test_pairs=create_sentences_pairs_dataset(test)"
      ]
    },
    {
      "cell_type": "code",
      "execution_count": null,
      "metadata": {
        "id": "L5_nk9qPXfjA"
      },
      "outputs": [],
      "source": [
        "save_pairs_dataset(valid_pairs,pairs_dataset_directory,data_type='valid')\n",
        "save_pairs_dataset(test_pairs,pairs_dataset_directory,data_type='test')"
      ]
    },
    {
      "cell_type": "markdown",
      "metadata": {
        "id": "E5VFoj1HZgD8"
      },
      "source": [
        "# Preprocessing"
      ]
    },
    {
      "cell_type": "code",
      "execution_count": null,
      "metadata": {
        "id": "UOp5wEKKXn3N"
      },
      "outputs": [],
      "source": [
        "import pandas as pd\n",
        "import string\n",
        "import re\n",
        "from transformers import AutoTokenizer\n",
        "import matplotlib.pyplot as plt"
      ]
    },
    {
      "cell_type": "code",
      "execution_count": null,
      "metadata": {
        "id": "HDawLMRPZuaB"
      },
      "outputs": [],
      "source": [
        "pairs_dataset_directory='/content/drive/MyDrive/en-vi-nli/pairs_dataset'"
      ]
    },
    {
      "cell_type": "code",
      "execution_count": null,
      "metadata": {
        "id": "LGs_vdbNZw4b"
      },
      "outputs": [],
      "source": [
        "en_vi_train=pd.read_csv(f'{pairs_dataset_directory}/train/en_vi.csv')\n",
        "vi_vi_train=pd.read_csv(f'{pairs_dataset_directory}/train/vi_vi.csv')"
      ]
    },
    {
      "cell_type": "code",
      "execution_count": null,
      "metadata": {
        "id": "u6GsdVTpph9j"
      },
      "outputs": [],
      "source": [
        "en_vi_valid=pd.read_csv(f'{pairs_dataset_directory}/valid/en_vi.csv')\n",
        "vi_vi_valid=pd.read_csv(f'{pairs_dataset_directory}/valid/vi_vi.csv')"
      ]
    },
    {
      "cell_type": "code",
      "execution_count": null,
      "metadata": {
        "id": "MtlK1qhzarZ_"
      },
      "outputs": [],
      "source": [
        "punctuations=list(string.punctuation)"
      ]
    },
    {
      "cell_type": "code",
      "execution_count": null,
      "metadata": {
        "id": "JAhJDwqsbD8Q"
      },
      "outputs": [],
      "source": [
        "contraction_mapping = {\"ain't\": \"is not\", \"aren't\": \"are not\",\"can't\": \"cannot\", \"'cause\": \"because\", \"could've\": \"could have\", \"couldn't\": \"could not\",\n",
        "\n",
        "                           \"didn't\": \"did not\", \"doesn't\": \"does not\", \"don't\": \"do not\", \"hadn't\": \"had not\", \"hasn't\": \"has not\", \"haven't\": \"have not\",\n",
        "\n",
        "                           \"he'd\": \"he would\",\"he'll\": \"he will\", \"he's\": \"he is\", \"how'd\": \"how did\", \"how'd'y\": \"how do you\", \"how'll\": \"how will\", \"how's\": \"how is\",\n",
        "\n",
        "                           \"I'd\": \"I would\", \"I'd've\": \"I would have\", \"I'll\": \"I will\", \"I'll've\": \"I will have\",\"I'm\": \"I am\", \"I've\": \"I have\", \"i'd\": \"i would\",\n",
        "\n",
        "                           \"i'd've\": \"i would have\", \"i'll\": \"i will\",  \"i'll've\": \"i will have\",\"i'm\": \"i am\", \"i've\": \"i have\", \"isn't\": \"is not\", \"it'd\": \"it would\",\n",
        "\n",
        "                           \"it'd've\": \"it would have\", \"it'll\": \"it will\", \"it'll've\": \"it will have\",\"it's\": \"it is\", \"let's\": \"let us\", \"ma'am\": \"madam\",\n",
        "\n",
        "                           \"mayn't\": \"may not\", \"might've\": \"might have\",\"mightn't\": \"might not\",\"mightn't've\": \"might not have\", \"must've\": \"must have\",\n",
        "\n",
        "                           \"mustn't\": \"must not\", \"mustn't've\": \"must not have\", \"needn't\": \"need not\", \"needn't've\": \"need not have\",\"o'clock\": \"of the clock\",\n",
        "\n",
        "                           \"oughtn't\": \"ought not\", \"oughtn't've\": \"ought not have\", \"shan't\": \"shall not\", \"sha'n't\": \"shall not\", \"shan't've\": \"shall not have\",\n",
        "\n",
        "                           \"she'd\": \"she would\", \"she'd've\": \"she would have\", \"she'll\": \"she will\", \"she'll've\": \"she will have\", \"she's\": \"she is\",\n",
        "\n",
        "                           \"should've\": \"should have\", \"shouldn't\": \"should not\", \"shouldn't've\": \"should not have\", \"so've\": \"so have\",\"so's\": \"so as\",\n",
        "\n",
        "                           \"this's\": \"this is\",\"that'd\": \"that would\", \"that'd've\": \"that would have\", \"that's\": \"that is\", \"there'd\": \"there would\",\n",
        "\n",
        "                           \"there'd've\": \"there would have\", \"there's\": \"there is\", \"here's\": \"here is\",\"they'd\": \"they would\", \"they'd've\": \"they would have\",\n",
        "\n",
        "                           \"they'll\": \"they will\", \"they'll've\": \"they will have\", \"they're\": \"they are\", \"they've\": \"they have\", \"to've\": \"to have\",\n",
        "\n",
        "                           \"wasn't\": \"was not\", \"we'd\": \"we would\", \"we'd've\": \"we would have\", \"we'll\": \"we will\", \"we'll've\": \"we will have\", \"we're\": \"we are\",\n",
        "\n",
        "                           \"we've\": \"we have\", \"weren't\": \"were not\", \"what'll\": \"what will\", \"what'll've\": \"what will have\", \"what're\": \"what are\",\n",
        "\n",
        "                           \"what's\": \"what is\", \"what've\": \"what have\", \"when's\": \"when is\", \"when've\": \"when have\", \"where'd\": \"where did\", \"where's\": \"where is\",\n",
        "\n",
        "                           \"where've\": \"where have\", \"who'll\": \"who will\", \"who'll've\": \"who will have\", \"who's\": \"who is\", \"who've\": \"who have\",\n",
        "\n",
        "                           \"why's\": \"why is\", \"why've\": \"why have\", \"will've\": \"will have\", \"won't\": \"will not\", \"won't've\": \"will not have\",\n",
        "\n",
        "                           \"would've\": \"would have\", \"wouldn't\": \"would not\", \"wouldn't've\": \"would not have\", \"y'all\": \"you all\",\n",
        "\n",
        "                           \"y'all'd\": \"you all would\",\"y'all'd've\": \"you all would have\",\"y'all're\": \"you all are\",\"y'all've\": \"you all have\",\n",
        "\n",
        "                           \"you'd\": \"you would\", \"you'd've\": \"you would have\", \"you'll\": \"you will\", \"you'll've\": \"you will have\",\n",
        "\n",
        "                           \"you're\": \"you are\", \"you've\": \"you have\"}"
      ]
    },
    {
      "cell_type": "code",
      "execution_count": null,
      "metadata": {
        "id": "oTRqM9E-bGWd"
      },
      "outputs": [],
      "source": [
        "def normalizer(s,lang='en'):\n",
        "\n",
        "  def remove_meaningless_token(s):\n",
        "    return re.sub(r'\\b(jeez|yeah|hum|huh|oh)\\b',' ',s)\n",
        "\n",
        "  def remove_articles(text,language):\n",
        "    if language=='en':\n",
        "      regex = re.compile(r'\\b(a|an|the)\\b', re.UNICODE)\n",
        "      return re.sub(regex, ' ', text)\n",
        "    return text\n",
        "\n",
        "  def white_space_fix(text):\n",
        "    return ' '.join(text.split())\n",
        "\n",
        "  def remove_punc(text):\n",
        "    # exclude = set(string.punctuation)\n",
        "    # return ''.join(ch for ch in text if ch not in exclude)\n",
        "    chs=[]\n",
        "    for ch in text:\n",
        "      if ch not in punctuations:\n",
        "        chs.append(ch)\n",
        "      else:\n",
        "        chs.append(\" \")\n",
        "    return \"\".join(chs)\n",
        "\n",
        "  def lower(text):\n",
        "    return text.lower()\n",
        "\n",
        "  def remove_continuous_duplications(text):\n",
        "    # if language !='en':\n",
        "    #   return text\n",
        "\n",
        "    if text.strip()==\"\":\n",
        "      return text\n",
        "    \n",
        "    return re.sub(r'(.+\\s)\\1+',r'\\1',text.strip()+' ')\n",
        "\n",
        "  def replace_contractions(text,language='en'):\n",
        "    if language=='en':\n",
        "      for k,v in contraction_mapping.items():\n",
        "        k=re.sub(r'\\'',\" '\",k)\n",
        "        text=text.replace(k,v)\n",
        "      return text\n",
        "    return text\n",
        "  \n",
        "  _s=lower(s)\n",
        "  _s=replace_contractions(_s,lang)\n",
        "  _s=remove_continuous_duplications(_s)\n",
        "  _s=remove_punc(_s)\n",
        "  _s=remove_articles(_s,lang)\n",
        "  _s=remove_meaningless_token(_s)\n",
        "  return white_space_fix(_s).strip()"
      ]
    },
    {
      "cell_type": "code",
      "execution_count": null,
      "metadata": {
        "id": "Xxj28rRXbpuT"
      },
      "outputs": [],
      "source": [
        "def multiple_normalizer(df):\n",
        "  num_samples=len(df)\n",
        "  premises=[]\n",
        "  hypothesises=[]\n",
        "  bar=tqdm(range(num_samples))\n",
        "  for i in range(num_samples):\n",
        "    row=df.iloc[i]\n",
        "    norm_premise=normalizer(row['premise'],row['premise_language'])\n",
        "    norm_hypothesis=normalizer(row['hypothesis'],row['hypothesis_language'])\n",
        "    premises.append(norm_premise)\n",
        "    hypothesises.append(norm_hypothesis)\n",
        "    bar.update()\n",
        "  return premises,hypothesises"
      ]
    },
    {
      "cell_type": "code",
      "execution_count": null,
      "metadata": {
        "colab": {
          "base_uri": "https://localhost:8080/",
          "height": 49,
          "referenced_widgets": [
            "0f4c26379b0346448bdd112ff9e9c6fb",
            "52abea01d37c4392b1a9b0ca3ec8a64a",
            "8ae334adbf3f4e2580c1f72b021e25a5",
            "d1439d49b7734478ad70c83718614428",
            "4529338daf7a47f4a9a5d984736b5cf8",
            "058421c188d44bc482bb60c724382fb5",
            "f8265cf57d2949ee85f111e8303d5261",
            "6893e7db76684650838550b0ca253eea",
            "210c2e5cc04b4bba9d56634e7f0ade46",
            "ad0dc9c50f1b4ce28c9505ba905fda6d",
            "fe90ce0d3a8146d1980124b6b3102054"
          ]
        },
        "id": "QKqs0z7mcZSA",
        "outputId": "c7c107ae-e05f-4cda-fd19-980ab8abd208"
      },
      "outputs": [
        {
          "data": {
            "application/vnd.jupyter.widget-view+json": {
              "model_id": "0f4c26379b0346448bdd112ff9e9c6fb",
              "version_major": 2,
              "version_minor": 0
            },
            "text/plain": [
              "  0%|          | 0/392702 [00:00<?, ?it/s]"
            ]
          },
          "metadata": {},
          "output_type": "display_data"
        }
      ],
      "source": [
        "premsises,hypothesises=multiple_normalizer(en_vi_train)\n",
        "en_vi_train['norm_premise']=premsises\n",
        "en_vi_train['norm_hypothesis']=hypothesises"
      ]
    },
    {
      "cell_type": "code",
      "execution_count": null,
      "metadata": {
        "colab": {
          "base_uri": "https://localhost:8080/",
          "height": 49,
          "referenced_widgets": [
            "682d4e7c9528494d84e3271c754e8bc0",
            "e31c06fe9ef5474f912f5b9aa13559b0",
            "a196c42187ba4ce3ba442de077383295",
            "5d94074d63144abea66bc4ad696deb2c",
            "8d92ef4d3d82443ba0e15bccd918b528",
            "d1e4f4e9ae3649ca91490a1b6381e9b7",
            "13eb14a160da45cf871aa880a33f6e8c",
            "780ea796ba104da183b6d7f67b57b035",
            "76d8c468e52644e09330b21eb931d035",
            "6e50f8840454426f93b6bf102e73d889",
            "6c23823c2a984830ae75100077971a72"
          ]
        },
        "id": "gXEDX_O8wqAz",
        "outputId": "4c77dd64-30be-4793-ef1b-d420e0eecf45"
      },
      "outputs": [
        {
          "data": {
            "application/vnd.jupyter.widget-view+json": {
              "model_id": "682d4e7c9528494d84e3271c754e8bc0",
              "version_major": 2,
              "version_minor": 0
            },
            "text/plain": [
              "  0%|          | 0/2490 [00:00<?, ?it/s]"
            ]
          },
          "metadata": {},
          "output_type": "display_data"
        }
      ],
      "source": [
        "premsises,hypothesises=multiple_normalizer(en_vi_valid)\n",
        "en_vi_valid['norm_premise']=premsises\n",
        "en_vi_valid['norm_hypothesis']=hypothesises"
      ]
    },
    {
      "cell_type": "code",
      "execution_count": null,
      "metadata": {
        "colab": {
          "base_uri": "https://localhost:8080/",
          "height": 49,
          "referenced_widgets": [
            "4c650fb665f7434d8c07f11e5dc7630d",
            "559af1590b9a4b2da309ea664554af0b",
            "6d816f486c6548b9a411e34f07d32aff",
            "0926f66c11be4202a5f8faa06501ccc0",
            "53b1252bbb07411db0bdfef40475d8ff",
            "70541c8fcbd24b6a8f396be6b528caa4",
            "07324970981a494cbe8d50f1de412caf",
            "62c7083bb26641ddad9088b4b0bac1cf",
            "497396f8b90c49258a3e7f2265d73145",
            "0940291f5440408483763639db321adb",
            "a32b5854d7294f48b5dad4745f18bae3"
          ]
        },
        "id": "oJeZVOcSwt_D",
        "outputId": "7a3259cc-da2f-4cca-80db-742e1b1117c3"
      },
      "outputs": [
        {
          "data": {
            "application/vnd.jupyter.widget-view+json": {
              "model_id": "4c650fb665f7434d8c07f11e5dc7630d",
              "version_major": 2,
              "version_minor": 0
            },
            "text/plain": [
              "  0%|          | 0/2490 [00:00<?, ?it/s]"
            ]
          },
          "metadata": {},
          "output_type": "display_data"
        }
      ],
      "source": [
        "premsises,hypothesises=multiple_normalizer(vi_vi_valid)\n",
        "vi_vi_valid['norm_premise']=premsises\n",
        "vi_vi_valid['norm_hypothesis']=hypothesises"
      ]
    },
    {
      "cell_type": "code",
      "execution_count": null,
      "metadata": {
        "colab": {
          "base_uri": "https://localhost:8080/",
          "height": 49,
          "referenced_widgets": [
            "5eb303fe66b14584a96b26a4b45b2f44",
            "a32b5c624adc4acf9e9338b212bd12ae",
            "b01dace8974047658b90c78381605b26",
            "497c18ae41d04e82ad04e7bf153b6169",
            "88874ddb5d994a6c8d252cc5937dc81e",
            "39b94cc6a1314fe393bd960e248c3183",
            "e9f2e023608c42d78ee36a2dca379f68",
            "c8b1c9c9a9e649f796f0c7509c659d6c",
            "23254f669de348349976e77b3cd99e68",
            "3280f8a5d102433287bdf7528c3cc5a1",
            "1d4e62a7c6f843c3a6f06f7551b1ed5e"
          ]
        },
        "id": "M_bcC0jRchoY",
        "outputId": "9a8f7ded-7637-42d7-d42b-4708be11762a"
      },
      "outputs": [
        {
          "data": {
            "application/vnd.jupyter.widget-view+json": {
              "model_id": "5eb303fe66b14584a96b26a4b45b2f44",
              "version_major": 2,
              "version_minor": 0
            },
            "text/plain": [
              "  0%|          | 0/392702 [00:00<?, ?it/s]"
            ]
          },
          "metadata": {},
          "output_type": "display_data"
        }
      ],
      "source": [
        "premsises,hypothesises=multiple_normalizer(vi_vi_train)\n",
        "vi_vi_train['norm_premise']=premsises\n",
        "vi_vi_train['norm_hypothesis']=hypothesises"
      ]
    },
    {
      "cell_type": "code",
      "execution_count": null,
      "metadata": {
        "id": "P2aJa0FReR9x"
      },
      "outputs": [],
      "source": [
        "tokenizer=AutoTokenizer.from_pretrained('xlm-roberta-base')"
      ]
    },
    {
      "cell_type": "code",
      "execution_count": null,
      "metadata": {
        "id": "bPW9_V4jdxiu"
      },
      "outputs": [],
      "source": [
        "def get_seq_length(s):\n",
        "  toks=tokenizer.tokenize(s)\n",
        "  return len(toks)"
      ]
    },
    {
      "cell_type": "code",
      "execution_count": null,
      "metadata": {
        "id": "LDVDlyR-eO9f"
      },
      "outputs": [],
      "source": [
        "en_vi_train['norm_premise_length']=en_vi_train['norm_premise'].map(get_seq_length)\n",
        "en_vi_train['norm_hypothesis_length']=en_vi_train['norm_hypothesis'].map(get_seq_length)\n",
        "en_vi_train['total_length']=en_vi_train['norm_premise_length']+en_vi_train['norm_hypothesis_length']"
      ]
    },
    {
      "cell_type": "code",
      "execution_count": null,
      "metadata": {
        "id": "lrh1iFKGw6g6"
      },
      "outputs": [],
      "source": [
        "vi_vi_train['norm_premise_length']=vi_vi_train['norm_premise'].map(get_seq_length)\n",
        "vi_vi_train['norm_hypothesis_length']=vi_vi_train['norm_hypothesis'].map(get_seq_length)\n",
        "vi_vi_train['total_length']=vi_vi_train['norm_premise_length']+vi_vi_train['norm_hypothesis_length']"
      ]
    },
    {
      "cell_type": "code",
      "execution_count": null,
      "metadata": {
        "id": "Jayki-v3ezlF"
      },
      "outputs": [],
      "source": [
        "def seq_len_visualizer(x,y):\n",
        "  fig, ax = plt.subplots(1, 1, sharex=True, sharey=True,figsize=(20,20))\n",
        "  ax.bar(x,y)\n",
        "  fig.show()"
      ]
    },
    {
      "cell_type": "markdown",
      "metadata": {
        "id": "rEWNSyEf78yG"
      },
      "source": [
        "Visualize en-vi premise length distribution\n"
      ]
    },
    {
      "cell_type": "code",
      "execution_count": null,
      "metadata": {
        "colab": {
          "base_uri": "https://localhost:8080/",
          "height": 1000
        },
        "id": "_NyBeWKae2AO",
        "outputId": "e5a0adee-ee5e-4d57-cad7-6adaa0785ac1"
      },
      "outputs": [
        {
          "data": {
            "text/plain": [
              "(None, 382)"
            ]
          },
          "execution_count": 197,
          "metadata": {},
          "output_type": "execute_result"
        },
        {
          "data": {
            "image/png": "[encoded data removed]",
            "text/plain": [
              "<Figure size 1440x1440 with 1 Axes>"
            ]
          },
          "metadata": {},
          "output_type": "display_data"
        }
      ],
      "source": [
        "value_counts=en_vi_train['norm_premise_length'].value_counts()\n",
        "dict_occurs=value_counts.to_dict()\n",
        "x,y=list(dict_occurs.keys()),list(dict_occurs.values())\n",
        "seq_len_visualizer(x,y),max(x)"
      ]
    },
    {
      "cell_type": "markdown",
      "metadata": {
        "id": "CWsosBMn8GaP"
      },
      "source": [
        "max length -> 382"
      ]
    },
    {
      "cell_type": "markdown",
      "metadata": {
        "id": "A-pXlTWh8BIr"
      },
      "source": [
        "Visualize en-vi hypothesis length distribution\n"
      ]
    },
    {
      "cell_type": "code",
      "execution_count": null,
      "metadata": {
        "colab": {
          "base_uri": "https://localhost:8080/",
          "height": 1000
        },
        "id": "gib5R6OFwXAb",
        "outputId": "0e8238d2-4384-4084-f376-4fa69a83edc3"
      },
      "outputs": [
        {
          "data": {
            "text/plain": [
              "(None, 100)"
            ]
          },
          "execution_count": 200,
          "metadata": {},
          "output_type": "execute_result"
        },
        {
          "data": {
            "image/png": "[encoded data removed]",
            "text/plain": [
              "<Figure size 1440x1440 with 1 Axes>"
            ]
          },
          "metadata": {},
          "output_type": "display_data"
        }
      ],
      "source": [
        "value_counts=en_vi_train['norm_hypothesis_length'].value_counts()\n",
        "dict_occurs=value_counts.to_dict()\n",
        "x,y=list(dict_occurs.keys()),list(dict_occurs.values())\n",
        "seq_len_visualizer(x,y),max(x)"
      ]
    },
    {
      "cell_type": "markdown",
      "metadata": {
        "id": "-3YbG2lM8J34"
      },
      "source": [
        "max length -> 100"
      ]
    },
    {
      "cell_type": "markdown",
      "metadata": {
        "id": "v6OmD0_P8MN4"
      },
      "source": [
        "Visualize en-vi total length distribution"
      ]
    },
    {
      "cell_type": "code",
      "execution_count": null,
      "metadata": {
        "colab": {
          "base_uri": "https://localhost:8080/",
          "height": 1000
        },
        "id": "fZFqyKI2waqB",
        "outputId": "4e16e024-27ec-4137-c618-ce6a7857afcc"
      },
      "outputs": [
        {
          "data": {
            "text/plain": [
              "(None, 401)"
            ]
          },
          "execution_count": 202,
          "metadata": {},
          "output_type": "execute_result"
        },
        {
          "data": {
            "image/png": "[encoded data removed]",
            "text/plain": [
              "<Figure size 1440x1440 with 1 Axes>"
            ]
          },
          "metadata": {},
          "output_type": "display_data"
        }
      ],
      "source": [
        "value_counts=en_vi_train['total_length'].value_counts()\n",
        "dict_occurs=value_counts.to_dict()\n",
        "x,y=list(dict_occurs.keys()),list(dict_occurs.values())\n",
        "seq_len_visualizer(x,y),max(x)"
      ]
    },
    {
      "cell_type": "markdown",
      "metadata": {
        "id": "G427omFx8aTN"
      },
      "source": [
        "max length -> 401"
      ]
    },
    {
      "cell_type": "markdown",
      "metadata": {
        "id": "zpNoR0lo8c5C"
      },
      "source": [
        "Visualize vi-vi premise length distribution\n"
      ]
    },
    {
      "cell_type": "code",
      "execution_count": null,
      "metadata": {
        "colab": {
          "base_uri": "https://localhost:8080/",
          "height": 1000
        },
        "id": "36fhnQcIxNF9",
        "outputId": "421038f7-bedc-487f-ee76-abae4dae12b9"
      },
      "outputs": [
        {
          "data": {
            "text/plain": [
              "(None, 447)"
            ]
          },
          "execution_count": 208,
          "metadata": {},
          "output_type": "execute_result"
        },
        {
          "data": {
            "image/png": "[encoded data removed]",
            "text/plain": [
              "<Figure size 1440x1440 with 1 Axes>"
            ]
          },
          "metadata": {},
          "output_type": "display_data"
        }
      ],
      "source": [
        "value_counts=vi_vi_train['norm_premise_length'].value_counts()\n",
        "dict_occurs=value_counts.to_dict()\n",
        "x,y=list(dict_occurs.keys()),list(dict_occurs.values())\n",
        "seq_len_visualizer(x,y),max(x)"
      ]
    },
    {
      "cell_type": "markdown",
      "metadata": {
        "id": "udxglJXG8jfj"
      },
      "source": [
        "max length is 447"
      ]
    },
    {
      "cell_type": "markdown",
      "metadata": {
        "id": "8qonZIn-8lbN"
      },
      "source": [
        "Visualize vi-vi hypothesis length distribution"
      ]
    },
    {
      "cell_type": "code",
      "execution_count": null,
      "metadata": {
        "colab": {
          "base_uri": "https://localhost:8080/",
          "height": 1000
        },
        "id": "i6Cn0SkwxPEf",
        "outputId": "accf63c7-d7d0-4a10-d0e6-739560a5837e"
      },
      "outputs": [
        {
          "data": {
            "text/plain": [
              "(None, 100)"
            ]
          },
          "execution_count": 209,
          "metadata": {},
          "output_type": "execute_result"
        },
        {
          "data": {
            "image/png": "[encoded data removed]",
            "text/plain": [
              "<Figure size 1440x1440 with 1 Axes>"
            ]
          },
          "metadata": {},
          "output_type": "display_data"
        }
      ],
      "source": [
        "value_counts=vi_vi_train['norm_hypothesis_length'].value_counts()\n",
        "dict_occurs=value_counts.to_dict()\n",
        "x,y=list(dict_occurs.keys()),list(dict_occurs.values())\n",
        "seq_len_visualizer(x,y),max(x)"
      ]
    },
    {
      "cell_type": "markdown",
      "metadata": {
        "id": "otCBAG5a8rdK"
      },
      "source": [
        "max length -> 100"
      ]
    },
    {
      "cell_type": "markdown",
      "metadata": {
        "id": "JJ4rAUxO8t3U"
      },
      "source": [
        "Visualize vi-vi total length distribution"
      ]
    },
    {
      "cell_type": "code",
      "execution_count": null,
      "metadata": {
        "colab": {
          "base_uri": "https://localhost:8080/",
          "height": 1000
        },
        "id": "X1DNjxCww22k",
        "outputId": "701ee760-2ea6-42df-94cb-c3a994bc1ca5"
      },
      "outputs": [
        {
          "data": {
            "text/plain": [
              "(None, 472)"
            ]
          },
          "execution_count": 207,
          "metadata": {},
          "output_type": "execute_result"
        },
        {
          "data": {
            "image/png": "[encoded data removed]",
            "text/plain": [
              "<Figure size 1440x1440 with 1 Axes>"
            ]
          },
          "metadata": {},
          "output_type": "display_data"
        }
      ],
      "source": [
        "value_counts=vi_vi_train['total_length'].value_counts()\n",
        "dict_occurs=value_counts.to_dict()\n",
        "x,y=list(dict_occurs.keys()),list(dict_occurs.values())\n",
        "seq_len_visualizer(x,y),max(x)"
      ]
    },
    {
      "cell_type": "markdown",
      "metadata": {
        "id": "u2SdFhHU8wfA"
      },
      "source": [
        "max length is 472"
      ]
    },
    {
      "cell_type": "markdown",
      "metadata": {
        "id": "W3_1FUbq8yvQ"
      },
      "source": [
        "Note: if using all sentences en-vi and vi-vi -> max length is 256"
      ]
    },
    {
      "cell_type": "code",
      "execution_count": null,
      "metadata": {
        "id": "RllBELCkpLsq"
      },
      "outputs": [],
      "source": [
        "pre_dataset_directory=\"/content/drive/MyDrive/en-vi-nli/pre_dataset\"\n",
        "os.makedirs(pre_dataset_directory,exist_ok=True)"
      ]
    },
    {
      "cell_type": "code",
      "execution_count": null,
      "metadata": {
        "id": "8QVtzJpUxy_H"
      },
      "outputs": [],
      "source": [
        "os.makedirs(f'{pre_dataset_directory}/train',exist_ok=True)\n",
        "en_vi_train.to_csv(f'{pre_dataset_directory}/train/en_vi.csv',index=False)\n",
        "vi_vi_train.to_csv(f'{pre_dataset_directory}/train/vi_vi.csv',index=False)"
      ]
    },
    {
      "cell_type": "markdown",
      "metadata": {
        "id": "ooPelmHb9HBR"
      },
      "source": [
        "because of the limitation GPU Tesla T4, I only get the sentences which have max length 60 from each set"
      ]
    },
    {
      "cell_type": "code",
      "execution_count": null,
      "metadata": {
        "id": "7WLkE9xiyQbo"
      },
      "outputs": [],
      "source": [
        "en_vi_train=en_vi_train[en_vi_train['total_length']<=60]"
      ]
    },
    {
      "cell_type": "code",
      "execution_count": null,
      "metadata": {
        "id": "0pgR56XryXGr"
      },
      "outputs": [],
      "source": [
        "vi_vi_train=vi_vi_train[vi_vi_train['total_length']<=60]"
      ]
    },
    {
      "cell_type": "code",
      "execution_count": null,
      "metadata": {
        "id": "-qvSW3b0yNmN"
      },
      "outputs": [],
      "source": [
        "en_vi_train.to_csv(f'{pre_dataset_directory}/train/en_vi_60.csv',index=False)\n",
        "vi_vi_train.to_csv(f'{pre_dataset_directory}/train/vi_vi_60.csv',index=False)"
      ]
    },
    {
      "cell_type": "code",
      "execution_count": null,
      "metadata": {
        "id": "DJD-273VybYS"
      },
      "outputs": [],
      "source": [
        "os.makedirs(f'{pre_dataset_directory}/valid',exist_ok=True)\n",
        "en_vi_valid.to_csv(f'{pre_dataset_directory}/valid/en_vi.csv',index=False)\n",
        "vi_vi_valid.to_csv(f'{pre_dataset_directory}/valid/vi_vi.csv',index=False)"
      ]
    },
    {
      "cell_type": "code",
      "execution_count": null,
      "metadata": {
        "colab": {
          "base_uri": "https://localhost:8080/",
          "height": 1000
        },
        "id": "kz1YWL1GyoRY",
        "outputId": "0343a51f-2298-4377-a744-1c1d107802ba"
      },
      "outputs": [
        {
          "data": {
            "text/html": [
              "\n",
              "  <div id=\"df-956adc5f-61a5-411f-abca-7a9deb399a40\">\n",
              "    <div class=\"colab-df-container\">\n",
              "      <div>\n",
              "<style scoped>\n",
              "    .dataframe tbody tr th:only-of-type {\n",
              "        vertical-align: middle;\n",
              "    }\n",
              "\n",
              "    .dataframe tbody tr th {\n",
              "        vertical-align: top;\n",
              "    }\n",
              "\n",
              "    .dataframe thead th {\n",
              "        text-align: right;\n",
              "    }\n",
              "</style>\n",
              "<table border=\"1\" class=\"dataframe\">\n",
              "  <thead>\n",
              "    <tr style=\"text-align: right;\">\n",
              "      <th></th>\n",
              "      <th>Unnamed: 0</th>\n",
              "      <th>premise</th>\n",
              "      <th>hypothesis</th>\n",
              "      <th>label</th>\n",
              "      <th>premise_language</th>\n",
              "      <th>hypothesis_language</th>\n",
              "      <th>norm_premise</th>\n",
              "      <th>norm_hypothesis</th>\n",
              "      <th>norm_premise_length</th>\n",
              "      <th>norm_hypothesis_length</th>\n",
              "      <th>total_length</th>\n",
              "    </tr>\n",
              "  </thead>\n",
              "  <tbody>\n",
              "    <tr>\n",
              "      <th>0</th>\n",
              "      <td>0</td>\n",
              "      <td>Conceptually cream skimming has two basic dime...</td>\n",
              "      <td>Sản phẩm và địa lý là những gì làm cho kem ski...</td>\n",
              "      <td>1</td>\n",
              "      <td>en</td>\n",
              "      <td>vi</td>\n",
              "      <td>conceptually cream skimming has two basic dime...</td>\n",
              "      <td>sản phẩm và địa lý là những gì làm cho kem ski...</td>\n",
              "      <td>13</td>\n",
              "      <td>15</td>\n",
              "      <td>28</td>\n",
              "    </tr>\n",
              "    <tr>\n",
              "      <th>2</th>\n",
              "      <td>2</td>\n",
              "      <td>One of our number will carry out your instruct...</td>\n",
              "      <td>Một thành viên trong đội của tôi sẽ thực hiện ...</td>\n",
              "      <td>0</td>\n",
              "      <td>en</td>\n",
              "      <td>vi</td>\n",
              "      <td>one of our number will carry out your instruct...</td>\n",
              "      <td>một thành viên trong đội của tôi sẽ thực hiện ...</td>\n",
              "      <td>11</td>\n",
              "      <td>21</td>\n",
              "      <td>32</td>\n",
              "    </tr>\n",
              "    <tr>\n",
              "      <th>3</th>\n",
              "      <td>3</td>\n",
              "      <td>How do you know ? All this is their informatio...</td>\n",
              "      <td>Thông tin này thuộc về họ .</td>\n",
              "      <td>0</td>\n",
              "      <td>en</td>\n",
              "      <td>vi</td>\n",
              "      <td>how do you know all this their information again</td>\n",
              "      <td>thông tin này thuộc về họ</td>\n",
              "      <td>9</td>\n",
              "      <td>6</td>\n",
              "      <td>15</td>\n",
              "    </tr>\n",
              "    <tr>\n",
              "      <th>4</th>\n",
              "      <td>4</td>\n",
              "      <td>yeah i tell you what though if you go price so...</td>\n",
              "      <td>Đôi giày tennis có một tầm giá .</td>\n",
              "      <td>1</td>\n",
              "      <td>en</td>\n",
              "      <td>vi</td>\n",
              "      <td>i tell you what though if you go price some of...</td>\n",
              "      <td>đôi giày tennis có một tầm giá</td>\n",
              "      <td>29</td>\n",
              "      <td>7</td>\n",
              "      <td>36</td>\n",
              "    </tr>\n",
              "    <tr>\n",
              "      <th>5</th>\n",
              "      <td>5</td>\n",
              "      <td>my walkman broke so i 'm upset now i just have...</td>\n",
              "      <td>Tôi đang buồn vì cái walkman của tôi bị gãy và...</td>\n",
              "      <td>0</td>\n",
              "      <td>en</td>\n",
              "      <td>vi</td>\n",
              "      <td>my walkman broke so i am upset now i just have...</td>\n",
              "      <td>tôi đang buồn vì cái walkman của tôi bị gãy và...</td>\n",
              "      <td>21</td>\n",
              "      <td>23</td>\n",
              "      <td>44</td>\n",
              "    </tr>\n",
              "    <tr>\n",
              "      <th>...</th>\n",
              "      <td>...</td>\n",
              "      <td>...</td>\n",
              "      <td>...</td>\n",
              "      <td>...</td>\n",
              "      <td>...</td>\n",
              "      <td>...</td>\n",
              "      <td>...</td>\n",
              "      <td>...</td>\n",
              "      <td>...</td>\n",
              "      <td>...</td>\n",
              "      <td>...</td>\n",
              "    </tr>\n",
              "    <tr>\n",
              "      <th>392696</th>\n",
              "      <td>392696</td>\n",
              "      <td>Legacy , predicting that he will keep custody ...</td>\n",
              "      <td>Con của ông ấy yêu cha của họ và đó là một điề...</td>\n",
              "      <td>1</td>\n",
              "      <td>en</td>\n",
              "      <td>vi</td>\n",
              "      <td>legacy predicting that he will keep custody of...</td>\n",
              "      <td>con của ông ấy yêu cha của họ và đó là một điề...</td>\n",
              "      <td>22</td>\n",
              "      <td>20</td>\n",
              "      <td>42</td>\n",
              "    </tr>\n",
              "    <tr>\n",
              "      <th>392697</th>\n",
              "      <td>392697</td>\n",
              "      <td>Clearly , California can - and must - do better .</td>\n",
              "      <td>California không thể làm được gì tốt hơn .</td>\n",
              "      <td>2</td>\n",
              "      <td>en</td>\n",
              "      <td>vi</td>\n",
              "      <td>clearly california can and must do better</td>\n",
              "      <td>california không thể làm được gì tốt hơn</td>\n",
              "      <td>9</td>\n",
              "      <td>10</td>\n",
              "      <td>19</td>\n",
              "    </tr>\n",
              "    <tr>\n",
              "      <th>392698</th>\n",
              "      <td>392698</td>\n",
              "      <td>It was once regarded as the most beautiful str...</td>\n",
              "      <td>Rất nhiều các tòa nhà gốc đã được thay thế bởi...</td>\n",
              "      <td>1</td>\n",
              "      <td>en</td>\n",
              "      <td>vi</td>\n",
              "      <td>it was once regarded as most beautiful street ...</td>\n",
              "      <td>rất nhiều các tòa nhà gốc đã được thay thế bởi...</td>\n",
              "      <td>30</td>\n",
              "      <td>16</td>\n",
              "      <td>46</td>\n",
              "    </tr>\n",
              "    <tr>\n",
              "      <th>392699</th>\n",
              "      <td>392699</td>\n",
              "      <td>Houseboats are a beautifully preserved traditi...</td>\n",
              "      <td>Truyền thống của houseboats có nguồn gốc trong...</td>\n",
              "      <td>0</td>\n",
              "      <td>en</td>\n",
              "      <td>vi</td>\n",
              "      <td>houseboats are beautifully preserved tradition...</td>\n",
              "      <td>truyền thống của houseboats có nguồn gốc trong...</td>\n",
              "      <td>17</td>\n",
              "      <td>18</td>\n",
              "      <td>35</td>\n",
              "    </tr>\n",
              "    <tr>\n",
              "      <th>392700</th>\n",
              "      <td>392700</td>\n",
              "      <td>Obituaries fondly recalled his on-air debates ...</td>\n",
              "      <td>Các cáo phó rất đẹp và được viết về những thàn...</td>\n",
              "      <td>1</td>\n",
              "      <td>en</td>\n",
              "      <td>vi</td>\n",
              "      <td>obituaries fondly recalled his on air debates ...</td>\n",
              "      <td>các cáo phó rất đẹp và được viết về những thàn...</td>\n",
              "      <td>38</td>\n",
              "      <td>20</td>\n",
              "      <td>58</td>\n",
              "    </tr>\n",
              "  </tbody>\n",
              "</table>\n",
              "<p>351621 rows × 11 columns</p>\n",
              "</div>\n",
              "      <button class=\"colab-df-convert\" onclick=\"convertToInteractive('df-956adc5f-61a5-411f-abca-7a9deb399a40')\"\n",
              "              title=\"Convert this dataframe to an interactive table.\"\n",
              "              style=\"display:none;\">\n",
              "        \n",
              "  <svg xmlns=\"http://www.w3.org/2000/svg\" height=\"24px\"viewBox=\"0 0 24 24\"\n",
              "       width=\"24px\">\n",
              "    <path d=\"M0 0h24v24H0V0z\" fill=\"none\"/>\n",
              "    <path d=\"M18.56 5.44l.94 2.06.94-2.06 2.06-.94-2.06-.94-.94-2.06-.94 2.06-2.06.94zm-11 1L8.5 8.5l.94-2.06 2.06-.94-2.06-.94L8.5 2.5l-.94 2.06-2.06.94zm10 10l.94 2.06.94-2.06 2.06-.94-2.06-.94-.94-2.06-.94 2.06-2.06.94z\"/><path d=\"M17.41 7.96l-1.37-1.37c-.4-.4-.92-.59-1.43-.59-.52 0-1.04.2-1.43.59L10.3 9.45l-7.72 7.72c-.78.78-.78 2.05 0 2.83L4 21.41c.39.39.9.59 1.41.59.51 0 1.02-.2 1.41-.59l7.78-7.78 2.81-2.81c.8-.78.8-2.07 0-2.86zM5.41 20L4 18.59l7.72-7.72 1.47 1.35L5.41 20z\"/>\n",
              "  </svg>\n",
              "      </button>\n",
              "      \n",
              "  <style>\n",
              "    .colab-df-container {\n",
              "      display:flex;\n",
              "      flex-wrap:wrap;\n",
              "      gap: 12px;\n",
              "    }\n",
              "\n",
              "    .colab-df-convert {\n",
              "      background-color: #E8F0FE;\n",
              "      border: none;\n",
              "      border-radius: 50%;\n",
              "      cursor: pointer;\n",
              "      display: none;\n",
              "      fill: #1967D2;\n",
              "      height: 32px;\n",
              "      padding: 0 0 0 0;\n",
              "      width: 32px;\n",
              "    }\n",
              "\n",
              "    .colab-df-convert:hover {\n",
              "      background-color: #E2EBFA;\n",
              "      box-shadow: 0px 1px 2px rgba(60, 64, 67, 0.3), 0px 1px 3px 1px rgba(60, 64, 67, 0.15);\n",
              "      fill: #174EA6;\n",
              "    }\n",
              "\n",
              "    [theme=dark] .colab-df-convert {\n",
              "      background-color: #3B4455;\n",
              "      fill: #D2E3FC;\n",
              "    }\n",
              "\n",
              "    [theme=dark] .colab-df-convert:hover {\n",
              "      background-color: #434B5C;\n",
              "      box-shadow: 0px 1px 3px 1px rgba(0, 0, 0, 0.15);\n",
              "      filter: drop-shadow(0px 1px 2px rgba(0, 0, 0, 0.3));\n",
              "      fill: #FFFFFF;\n",
              "    }\n",
              "  </style>\n",
              "\n",
              "      <script>\n",
              "        const buttonEl =\n",
              "          document.querySelector('#df-956adc5f-61a5-411f-abca-7a9deb399a40 button.colab-df-convert');\n",
              "        buttonEl.style.display =\n",
              "          google.colab.kernel.accessAllowed ? 'block' : 'none';\n",
              "\n",
              "        async function convertToInteractive(key) {\n",
              "          const element = document.querySelector('#df-956adc5f-61a5-411f-abca-7a9deb399a40');\n",
              "          const dataTable =\n",
              "            await google.colab.kernel.invokeFunction('convertToInteractive',\n",
              "                                                     [key], {});\n",
              "          if (!dataTable) return;\n",
              "\n",
              "          const docLinkHtml = 'Like what you see? Visit the ' +\n",
              "            '<a target=\"_blank\" href=https://colab.research.google.com/notebooks/data_table.ipynb>data table notebook</a>'\n",
              "            + ' to learn more about interactive tables.';\n",
              "          element.innerHTML = '';\n",
              "          dataTable['output_type'] = 'display_data';\n",
              "          await google.colab.output.renderOutput(dataTable, element);\n",
              "          const docLink = document.createElement('div');\n",
              "          docLink.innerHTML = docLinkHtml;\n",
              "          element.appendChild(docLink);\n",
              "        }\n",
              "      </script>\n",
              "    </div>\n",
              "  </div>\n",
              "  "
            ],
            "text/plain": [
              "        Unnamed: 0                                            premise  \\\n",
              "0                0  Conceptually cream skimming has two basic dime...   \n",
              "2                2  One of our number will carry out your instruct...   \n",
              "3                3  How do you know ? All this is their informatio...   \n",
              "4                4  yeah i tell you what though if you go price so...   \n",
              "5                5  my walkman broke so i 'm upset now i just have...   \n",
              "...            ...                                                ...   \n",
              "392696      392696  Legacy , predicting that he will keep custody ...   \n",
              "392697      392697  Clearly , California can - and must - do better .   \n",
              "392698      392698  It was once regarded as the most beautiful str...   \n",
              "392699      392699  Houseboats are a beautifully preserved traditi...   \n",
              "392700      392700  Obituaries fondly recalled his on-air debates ...   \n",
              "\n",
              "                                               hypothesis  label  \\\n",
              "0       Sản phẩm và địa lý là những gì làm cho kem ski...      1   \n",
              "2       Một thành viên trong đội của tôi sẽ thực hiện ...      0   \n",
              "3                             Thông tin này thuộc về họ .      0   \n",
              "4                        Đôi giày tennis có một tầm giá .      1   \n",
              "5       Tôi đang buồn vì cái walkman của tôi bị gãy và...      0   \n",
              "...                                                   ...    ...   \n",
              "392696  Con của ông ấy yêu cha của họ và đó là một điề...      1   \n",
              "392697         California không thể làm được gì tốt hơn .      2   \n",
              "392698  Rất nhiều các tòa nhà gốc đã được thay thế bởi...      1   \n",
              "392699  Truyền thống của houseboats có nguồn gốc trong...      0   \n",
              "392700  Các cáo phó rất đẹp và được viết về những thàn...      1   \n",
              "\n",
              "       premise_language hypothesis_language  \\\n",
              "0                    en                  vi   \n",
              "2                    en                  vi   \n",
              "3                    en                  vi   \n",
              "4                    en                  vi   \n",
              "5                    en                  vi   \n",
              "...                 ...                 ...   \n",
              "392696               en                  vi   \n",
              "392697               en                  vi   \n",
              "392698               en                  vi   \n",
              "392699               en                  vi   \n",
              "392700               en                  vi   \n",
              "\n",
              "                                             norm_premise  \\\n",
              "0       conceptually cream skimming has two basic dime...   \n",
              "2       one of our number will carry out your instruct...   \n",
              "3        how do you know all this their information again   \n",
              "4       i tell you what though if you go price some of...   \n",
              "5       my walkman broke so i am upset now i just have...   \n",
              "...                                                   ...   \n",
              "392696  legacy predicting that he will keep custody of...   \n",
              "392697          clearly california can and must do better   \n",
              "392698  it was once regarded as most beautiful street ...   \n",
              "392699  houseboats are beautifully preserved tradition...   \n",
              "392700  obituaries fondly recalled his on air debates ...   \n",
              "\n",
              "                                          norm_hypothesis  \\\n",
              "0       sản phẩm và địa lý là những gì làm cho kem ski...   \n",
              "2       một thành viên trong đội của tôi sẽ thực hiện ...   \n",
              "3                               thông tin này thuộc về họ   \n",
              "4                          đôi giày tennis có một tầm giá   \n",
              "5       tôi đang buồn vì cái walkman của tôi bị gãy và...   \n",
              "...                                                   ...   \n",
              "392696  con của ông ấy yêu cha của họ và đó là một điề...   \n",
              "392697           california không thể làm được gì tốt hơn   \n",
              "392698  rất nhiều các tòa nhà gốc đã được thay thế bởi...   \n",
              "392699  truyền thống của houseboats có nguồn gốc trong...   \n",
              "392700  các cáo phó rất đẹp và được viết về những thàn...   \n",
              "\n",
              "        norm_premise_length  norm_hypothesis_length  total_length  \n",
              "0                        13                      15            28  \n",
              "2                        11                      21            32  \n",
              "3                         9                       6            15  \n",
              "4                        29                       7            36  \n",
              "5                        21                      23            44  \n",
              "...                     ...                     ...           ...  \n",
              "392696                   22                      20            42  \n",
              "392697                    9                      10            19  \n",
              "392698                   30                      16            46  \n",
              "392699                   17                      18            35  \n",
              "392700                   38                      20            58  \n",
              "\n",
              "[351621 rows x 11 columns]"
            ]
          },
          "execution_count": 218,
          "metadata": {},
          "output_type": "execute_result"
        }
      ],
      "source": [
        "en_vi_train"
      ]
    },
    {
      "cell_type": "markdown",
      "metadata": {
        "id": "3Oq9xOZg18EK"
      },
      "source": [
        "#Create pre-dataset with 50k en-vi samples and 50k vi-vi samples"
      ]
    },
    {
      "cell_type": "markdown",
      "metadata": {
        "id": "knv0kxKk9mkh"
      },
      "source": [
        "Although I only get sentences having max length is 60, the system still cant handle them -> I decide to get random 50k sentences from each train set"
      ]
    },
    {
      "cell_type": "code",
      "execution_count": null,
      "metadata": {
        "id": "-8Ao_VTFytZu"
      },
      "outputs": [],
      "source": [
        "import pandas as pd"
      ]
    },
    {
      "cell_type": "code",
      "execution_count": null,
      "metadata": {
        "id": "9LVieoJg2Nhp"
      },
      "outputs": [],
      "source": [
        "pre_dataset_directory=\"/content/drive/MyDrive/en-vi-nli/pre_dataset\""
      ]
    },
    {
      "cell_type": "code",
      "execution_count": null,
      "metadata": {
        "id": "o5YVCJBn2Qfu"
      },
      "outputs": [],
      "source": [
        "en_vi_train=pd.read_csv(f'{pre_dataset_directory}/train/en_vi_60.csv')\n",
        "vi_vi_train=pd.read_csv(f'{pre_dataset_directory}/train/vi_vi_60.csv')"
      ]
    },
    {
      "cell_type": "code",
      "execution_count": null,
      "metadata": {
        "id": "zqpZgwGb3knm"
      },
      "outputs": [],
      "source": [
        "en_vi_valid=pd.read_csv(f'{pre_dataset_directory}/valid/en_vi_60.csv')\n",
        "vi_vi_valid=pd.read_csv(f'{pre_dataset_directory}/valid/vi_vi_60.csv')"
      ]
    },
    {
      "cell_type": "code",
      "execution_count": null,
      "metadata": {
        "id": "P56WI1lI2TQF"
      },
      "outputs": [],
      "source": [
        "en_vi_train=en_vi_train[(en_vi_train['norm_premise_length']!=0)&(en_vi_train['norm_hypothesis_length']!=0)]"
      ]
    },
    {
      "cell_type": "code",
      "execution_count": null,
      "metadata": {
        "id": "ElzDm4Lf2eem"
      },
      "outputs": [],
      "source": [
        "vi_vi_train=vi_vi_train[(vi_vi_train['norm_premise_length']!=0)&(vi_vi_train['norm_hypothesis_length']!=0)]"
      ]
    },
    {
      "cell_type": "code",
      "execution_count": null,
      "metadata": {
        "id": "Y_n8Z1Wx3Ade"
      },
      "outputs": [],
      "source": [
        "en_vi_train=en_vi_train.sample(n=50000)\n",
        "vi_vi_train=vi_vi_train.sample(n=50000)"
      ]
    },
    {
      "cell_type": "code",
      "execution_count": null,
      "metadata": {
        "id": "z0CHGFqa3I-e"
      },
      "outputs": [],
      "source": [
        "train=pd.concat([en_vi_train,vi_vi_train],axis=0)"
      ]
    },
    {
      "cell_type": "code",
      "execution_count": null,
      "metadata": {
        "colab": {
          "base_uri": "https://localhost:8080/"
        },
        "id": "2YR6BNGp3Vlv",
        "outputId": "bb64eee2-a01c-4b92-ae0e-d830a7474c15"
      },
      "outputs": [
        {
          "data": {
            "text/plain": [
              "label\n",
              "2        33638\n",
              "1        33260\n",
              "0        33102\n",
              "dtype: int64"
            ]
          },
          "execution_count": 231,
          "metadata": {},
          "output_type": "execute_result"
        }
      ],
      "source": [
        "train.value_counts(['label'])"
      ]
    },
    {
      "cell_type": "code",
      "execution_count": null,
      "metadata": {
        "id": "Lx3grGMi3WSG"
      },
      "outputs": [],
      "source": [
        "train.to_csv(f'{pre_dataset_directory}/train/train_60_100k.csv',index=False)"
      ]
    },
    {
      "cell_type": "code",
      "execution_count": null,
      "metadata": {
        "id": "fbwepMnE3j8e"
      },
      "outputs": [],
      "source": [
        "valid=pd.concat([en_vi_valid,vi_vi_valid],axis=0)"
      ]
    },
    {
      "cell_type": "code",
      "execution_count": null,
      "metadata": {
        "id": "_cmco_Gv3rBV"
      },
      "outputs": [],
      "source": [
        "valid.to_csv(f'{pre_dataset_directory}/valid/valid.csv',index=False)"
      ]
    },
    {
      "cell_type": "markdown",
      "metadata": {
        "id": "L-ElC-ic36AY"
      },
      "source": [
        "# Create inputs for BERT"
      ]
    },
    {
      "cell_type": "code",
      "execution_count": null,
      "metadata": {
        "id": "qN5MKJTz3yTP"
      },
      "outputs": [],
      "source": [
        "import pandas as pd\n",
        "from transformers import AutoTokenizer, AutoConfig,get_linear_schedule_with_warmup,RobertaModel,RobertaPreTrainedModel\n",
        "from torch.utils.data import DataLoader, Dataset\n",
        "import torch\n",
        "import numpy as np\n",
        "from os.path import join\n",
        "from tqdm.auto import tqdm\n",
        "import os\n",
        "from os.path import join\n",
        "from torch import nn\n",
        "from torch.nn import CrossEntropyLoss\n",
        "from transformers.modeling_outputs import SequenceClassifierOutput"
      ]
    },
    {
      "cell_type": "code",
      "execution_count": null,
      "metadata": {
        "id": "povc-0xqwkD7"
      },
      "outputs": [],
      "source": [
        "pre_dataset_directory=\"/content/drive/MyDrive/en-vi-nli/pre_dataset\""
      ]
    },
    {
      "cell_type": "code",
      "execution_count": null,
      "metadata": {
        "id": "gI7djJnA4Bbl"
      },
      "outputs": [],
      "source": [
        "train=pd.read_csv(f'{pre_dataset_directory}/train/train_60_100k.csv')\n",
        "valid=pd.read_csv(f'{pre_dataset_directory}/valid/valid.csv')"
      ]
    },
    {
      "cell_type": "code",
      "execution_count": null,
      "metadata": {
        "id": "0WbqsJv94P1v"
      },
      "outputs": [],
      "source": [
        "name='xlm-roberta-base'"
      ]
    },
    {
      "cell_type": "code",
      "execution_count": null,
      "metadata": {
        "colab": {
          "base_uri": "https://localhost:8080/"
        },
        "id": "RRzEoBLI4lCe",
        "outputId": "77477152-35d7-4663-e116-c87133b5e304"
      },
      "outputs": [
        {
          "output_type": "execute_result",
          "data": {
            "text/plain": [
              "device(type='cuda')"
            ]
          },
          "metadata": {},
          "execution_count": 8
        }
      ],
      "source": [
        "device = torch.device(\"cuda\" if torch.cuda.is_available() else \"cpu\")\n",
        "device"
      ]
    },
    {
      "cell_type": "code",
      "execution_count": null,
      "metadata": {
        "colab": {
          "base_uri": "https://localhost:8080/"
        },
        "id": "11p92hGm4nhx",
        "outputId": "cf3bcaf9-aee1-4f62-dc85-4491f5de1fd2"
      },
      "outputs": [
        {
          "output_type": "execute_result",
          "data": {
            "text/plain": [
              "(100000, 4980)"
            ]
          },
          "metadata": {},
          "execution_count": 9
        }
      ],
      "source": [
        "len(train),len(valid)"
      ]
    },
    {
      "cell_type": "code",
      "execution_count": null,
      "metadata": {
        "id": "Jwd9zOzx4pTP"
      },
      "outputs": [],
      "source": [
        "class ClassificationDataset(Dataset):\n",
        "    def __init__(self, input_ids, attention_mask,labels,device,token_type_ids=None):\n",
        "        self.labels = labels\n",
        "        self.input_ids=input_ids\n",
        "        self.attention_mask=attention_mask\n",
        "        self.token_type_ids=token_type_ids\n",
        "        self.device=device\n",
        "        \n",
        "    def __len__(self):\n",
        "            return len(self.labels)\n",
        "\n",
        "    def __getitem__(self, idx):\n",
        "        label = self.labels[idx]\n",
        "        input_ids = self.input_ids[idx]\n",
        "        attention_mask = self.attention_mask[idx]\n",
        "        sample = {\"inputs\":{\"input_ids\": input_ids.to(self.device),'attention_mask':attention_mask.to(self.device)}, \"labels\": label.to(self.device)}\n",
        "        if self.token_type_ids!=None:\n",
        "          sample['inputs'].update({'token_type_ids':self.token_type_ids[idx].to(self.device)})\n",
        "        return sample"
      ]
    },
    {
      "cell_type": "code",
      "execution_count": null,
      "metadata": {
        "id": "mwgskdHG4skO"
      },
      "outputs": [],
      "source": [
        "def create_input(tokenizer,token_ids_0,token_ids_1=None,max_length=512,padding=True):\n",
        "  num_tokens_0=len(token_ids_0)\n",
        "  num_tokens_1=len(token_ids_1)\n",
        "  \n",
        "  threshold_num_tokens_0=max_length-4-num_tokens_1\n",
        "  if threshold_num_tokens_0<0:\n",
        "    return None\n",
        "  trade_off=abs(threshold_num_tokens_0-num_tokens_0)\n",
        "  if num_tokens_0>threshold_num_tokens_0:\n",
        "    \n",
        "    head_token_ids_0=token_ids_0[:threshold_num_tokens_0]\n",
        "    tail_token_ids_0=token_ids_0[-threshold_num_tokens_0:]\n",
        "\n",
        "    head_input_ids=tokenizer.build_inputs_with_special_tokens(head_token_ids_0,token_ids_1)\n",
        "    head_attention_mask=[1]*len(head_input_ids)\n",
        "\n",
        "    tail_input_ids=tokenizer.build_inputs_with_special_tokens(tail_token_ids_0,token_ids_1)\n",
        "    tail_attention_mask=[1]*len(tail_input_ids)\n",
        "    \n",
        "    input_ids=[head_input_ids,tail_input_ids]\n",
        "\n",
        "    attention_mask=[head_attention_mask,tail_attention_mask]\n",
        "  else:\n",
        "    input_ids=tokenizer.build_inputs_with_special_tokens(token_ids_0,token_ids_1)\n",
        "    attention_mask=[1]*len(input_ids)\n",
        "    if padding==True:\n",
        "      input_ids=input_ids+[1]*trade_off\n",
        "      attention_mask=attention_mask+[0]*trade_off\n",
        "    input_ids=[input_ids]\n",
        "    attention_mask=[attention_mask]\n",
        "  return input_ids,attention_mask"
      ]
    },
    {
      "cell_type": "code",
      "execution_count": null,
      "metadata": {
        "id": "HdNy9W9I4vQ6"
      },
      "outputs": [],
      "source": [
        "def create_inputs(tokenizer,list_sentences_0,list_sentences_1,list_labels,max_length=512):\n",
        "  \n",
        "  input_ids=[]\n",
        "  labels=[]\n",
        "  bar=tqdm(list_sentences_0)\n",
        "  attention_mask=[]\n",
        "  num_training_samples=len(list_sentences_0)\n",
        "  for i in range(num_training_samples):\n",
        "    token_ids_0=tokenizer.encode(list_sentences_0[i],add_special_tokens=False)\n",
        "    token_ids_1=tokenizer.encode(list_sentences_1[i],add_special_tokens=False)\n",
        "    _input_ids,_attention_mask=create_input(tokenizer,token_ids_0,token_ids_1,max_length)\n",
        "    \n",
        "    _labels=[list_labels[i]]*len(_input_ids)\n",
        "    labels+=_labels\n",
        "    input_ids+=_input_ids\n",
        "    attention_mask+=_attention_mask\n",
        "    bar.update()  \n",
        "  return {\n",
        "    'input_ids':torch.Tensor(input_ids).to(torch.long),\n",
        "    'attention_mask':torch.Tensor(attention_mask).to(torch.int),\n",
        "    'labels':torch.Tensor(labels).to(torch.long)\n",
        "}"
      ]
    },
    {
      "cell_type": "code",
      "execution_count": null,
      "metadata": {
        "id": "oG55EtBx4yIG"
      },
      "outputs": [],
      "source": [
        "max_length=60\n"
      ]
    },
    {
      "cell_type": "code",
      "execution_count": null,
      "metadata": {
        "colab": {
          "base_uri": "https://localhost:8080/",
          "height": 113,
          "referenced_widgets": [
            "42245c9fbe2d46c89936ee72f19f7a03",
            "b0856028e3b64c29af166eaf6500522b",
            "59b86d6f393e4c76ad0c6a65ffb4675f",
            "43968ef18ed344d0b6bff8373895c3f1",
            "0647cb24b22d4a948f32b53037f6bfb6",
            "1efe5a424424465ebedf1ef9a1bef9c4",
            "8f858762548842a98899d9a1b42c3b4f",
            "59b8ff98ac9a4ecbb9485fd10b8a27e2",
            "32c0e2cb345e4f49869529dcb68cbdd5",
            "96654f9d1356464283fb712a680c50c4",
            "0f055bef20aa45268617ca14d5a09bbb",
            "c70506e774134e008dfef79283082e30",
            "22321a46b3e545918fb8eaaab789f619",
            "b92814c9ce2d45048a3f50cbf3177a46",
            "bfd150f994604a0d8815579c7bab69db",
            "938db40ec2e14fe79f13d5f19bed73d7",
            "8f1a1f8189e445b7a6302ccc128e454a",
            "039c8f5a6a694f98b668e97c7d0001e6",
            "b698d10d4a664c70b6346bc95d1b67a4",
            "1841a6eb76474bfd97073d0590bb1a98",
            "4f6b7eef019646d59b3eb9c28a4a0103",
            "53c653b78de649b7824700f2caabadde",
            "0b7926f019074ee686eda01279b0c0b5",
            "bfbef38162364578af44b8efa70b8db6",
            "7d55c4fdc52c4e84a61efe2ed21eee2e",
            "7861322e407242cc931409d1abe7bcee",
            "b646ad1b10fb4a0588f4515dfeaf9847",
            "e9c9a92ed7d4444087ff45af3734727b",
            "5a5330d051444730963019d79afc267b",
            "2fe27034a0334e3cb7eaaa68a7567d84",
            "1ae46b4473e3408da3c73524dbf3f56f",
            "cc47edb146254978b67f1045082720f0",
            "43af4f7cc1594f4884594258d4af396c"
          ]
        },
        "id": "DoKwdQhm4z7m",
        "outputId": "9b4e17a0-dddf-484f-d458-efeb9a360276"
      },
      "outputs": [
        {
          "output_type": "display_data",
          "data": {
            "text/plain": [
              "Downloading:   0%|          | 0.00/615 [00:00<?, ?B/s]"
            ],
            "application/vnd.jupyter.widget-view+json": {
              "version_major": 2,
              "version_minor": 0,
              "model_id": "42245c9fbe2d46c89936ee72f19f7a03"
            }
          },
          "metadata": {}
        },
        {
          "output_type": "display_data",
          "data": {
            "text/plain": [
              "Downloading:   0%|          | 0.00/4.83M [00:00<?, ?B/s]"
            ],
            "application/vnd.jupyter.widget-view+json": {
              "version_major": 2,
              "version_minor": 0,
              "model_id": "c70506e774134e008dfef79283082e30"
            }
          },
          "metadata": {}
        },
        {
          "output_type": "display_data",
          "data": {
            "text/plain": [
              "Downloading:   0%|          | 0.00/8.68M [00:00<?, ?B/s]"
            ],
            "application/vnd.jupyter.widget-view+json": {
              "version_major": 2,
              "version_minor": 0,
              "model_id": "0b7926f019074ee686eda01279b0c0b5"
            }
          },
          "metadata": {}
        }
      ],
      "source": [
        "tokenizer = AutoTokenizer.from_pretrained(name)"
      ]
    },
    {
      "cell_type": "code",
      "execution_count": null,
      "metadata": {
        "id": "iDeWmnNs41ih"
      },
      "outputs": [],
      "source": [
        "def create_dataloader(tokenizer,list_sentences_0,list_sentences_1,list_labels,max_length=512,batch_size=32,drop_last=False,shuffle=True,device='cpu'):\n",
        "  dataloader=create_inputs(tokenizer,list_sentences_0,list_sentences_1,list_labels,max_length)\n",
        "\n",
        "  dataloader=ClassificationDataset(**dataloader,device=device)\n",
        "  dataloader=DataLoader(dataloader,batch_size=batch_size,drop_last=drop_last,shuffle=shuffle)\n",
        "  return dataloader"
      ]
    },
    {
      "cell_type": "code",
      "execution_count": null,
      "metadata": {
        "id": "9fXw_BSc44Py"
      },
      "outputs": [],
      "source": [
        "train_batch_size=32\n",
        "train_premises=train['norm_premise'].tolist()\n",
        "train_hypothesises=train['norm_hypothesis'].tolist()\n",
        "train_labels=train['label'].tolist()"
      ]
    },
    {
      "cell_type": "code",
      "execution_count": null,
      "metadata": {
        "colab": {
          "base_uri": "https://localhost:8080/",
          "height": 49,
          "referenced_widgets": [
            "969c182db473443a855db598f8a94285",
            "e6a34a15f87a4505bd22194b47683f45",
            "2f584f04af5a41049d3d388829e3c4b1",
            "f5608efc7d8244878adbdb9a2025d30b",
            "86bb079f5a47457881a850c38fc80d73",
            "52b74cbe39844919ac7f5e3d2c7009cc",
            "552a0b3e4aff4ad7a2577995509d8de6",
            "a11347898ea64329ac62f3183a240c41",
            "3bed1e2d461646b8ac4909c14cf9bfaa",
            "8e578b976f6a4ace9f12f4ca93c9d76a",
            "6912036163d74db48afbc33bb2821d79"
          ]
        },
        "id": "we4rED1C45yI",
        "outputId": "35d3fd6a-57a6-44db-a038-89f7755f03f6"
      },
      "outputs": [
        {
          "output_type": "display_data",
          "data": {
            "text/plain": [
              "  0%|          | 0/100000 [00:00<?, ?it/s]"
            ],
            "application/vnd.jupyter.widget-view+json": {
              "version_major": 2,
              "version_minor": 0,
              "model_id": "969c182db473443a855db598f8a94285"
            }
          },
          "metadata": {}
        }
      ],
      "source": [
        "train_dataloader=create_dataloader(tokenizer,train_premises,train_hypothesises,train_labels,max_length,train_batch_size,device=device,shuffle=False)"
      ]
    },
    {
      "cell_type": "code",
      "execution_count": null,
      "metadata": {
        "id": "rhTLkJrC47Vs"
      },
      "outputs": [],
      "source": [
        "valid_batch_size=32\n",
        "valid_premises=valid['norm_premise'].tolist()\n",
        "valid_hypothesises=valid['norm_hypothesis'].tolist()\n",
        "valid_labels=valid['label'].tolist()"
      ]
    },
    {
      "cell_type": "code",
      "execution_count": null,
      "metadata": {
        "colab": {
          "base_uri": "https://localhost:8080/",
          "height": 49,
          "referenced_widgets": [
            "73280ac72e874842900b781f9395be53",
            "a679b1a4b373474092ca4f84bb2c91ae",
            "909476598b99491296baf61c95cef6eb",
            "a2792a24710d4399b50778aa0af9741c",
            "8145519b012d451fa97a984e1ab35199",
            "db1c0b689cd140f191af81442bad0fe4",
            "2f9bfca670014b58a147e846d7f84ccc",
            "f185b8fe2ad24e4a9495f3187cd6695c",
            "1d4d63da432143b0a663bbb354cb312d",
            "eca07169f8e64f53aa84a141b31dc3cc",
            "1a6f4a6ae1ea4db6bf93607036924e8c"
          ]
        },
        "id": "FrBfkHTJ49H0",
        "outputId": "94c3ce06-8bdf-4e99-fc40-f2bded6cd658"
      },
      "outputs": [
        {
          "output_type": "display_data",
          "data": {
            "text/plain": [
              "  0%|          | 0/4980 [00:00<?, ?it/s]"
            ],
            "application/vnd.jupyter.widget-view+json": {
              "version_major": 2,
              "version_minor": 0,
              "model_id": "73280ac72e874842900b781f9395be53"
            }
          },
          "metadata": {}
        }
      ],
      "source": [
        "valid_dataloader=create_dataloader(tokenizer,valid_premises,valid_hypothesises,valid_labels,max_length,valid_batch_size,device=device,shuffle=False)"
      ]
    },
    {
      "cell_type": "code",
      "execution_count": null,
      "metadata": {
        "colab": {
          "base_uri": "https://localhost:8080/"
        },
        "id": "DnLK4PFs4-ry",
        "outputId": "b2eac2fd-f01c-40f2-aa5f-e8760c5130a1"
      },
      "outputs": [
        {
          "output_type": "execute_result",
          "data": {
            "text/plain": [
              "[0, 1, 2]"
            ]
          },
          "metadata": {},
          "execution_count": 44
        }
      ],
      "source": [
        "labels=[0,1,2]\n",
        "labels"
      ]
    },
    {
      "cell_type": "markdown",
      "metadata": {
        "id": "CclCmVyI6lqx"
      },
      "source": [
        "#Trainer"
      ]
    },
    {
      "cell_type": "markdown",
      "metadata": {
        "id": "SeNzASiC96ex"
      },
      "source": [
        "Currently, I'm not using schedulers "
      ]
    },
    {
      "cell_type": "code",
      "execution_count": null,
      "metadata": {
        "id": "3HOyvJ8w5FU1"
      },
      "outputs": [],
      "source": [
        "epochs=4\n",
        "num_training_steps=epochs *len(train_dataloader)\n",
        "num_warmup_steps=100\n",
        "init_lr=1e-5\n",
        "eps =1e-8"
      ]
    },
    {
      "cell_type": "code",
      "execution_count": null,
      "metadata": {
        "colab": {
          "base_uri": "https://localhost:8080/"
        },
        "id": "0izu-5DH5Oir",
        "outputId": "20b1ed1c-38d6-46e9-ff25-f0370b5d812c"
      },
      "outputs": [
        {
          "output_type": "execute_result",
          "data": {
            "text/plain": [
              "3"
            ]
          },
          "metadata": {},
          "execution_count": 48
        }
      ],
      "source": [
        "num_labels=len(labels)\n",
        "num_labels"
      ]
    },
    {
      "cell_type": "code",
      "execution_count": null,
      "metadata": {
        "id": "wgM7ccKu5SNh"
      },
      "outputs": [],
      "source": [
        "classifier_dropout=0.1"
      ]
    },
    {
      "cell_type": "code",
      "execution_count": null,
      "metadata": {
        "colab": {
          "base_uri": "https://localhost:8080/"
        },
        "id": "6n_YWRDW5UA7",
        "outputId": "4f44129a-7476-4ac1-d33f-7573423d9636"
      },
      "outputs": [
        {
          "output_type": "execute_result",
          "data": {
            "text/plain": [
              "XLMRobertaConfig {\n",
              "  \"_name_or_path\": \"xlm-roberta-base\",\n",
              "  \"architectures\": [\n",
              "    \"XLMRobertaForMaskedLM\"\n",
              "  ],\n",
              "  \"attention_probs_dropout_prob\": 0.1,\n",
              "  \"bos_token_id\": 0,\n",
              "  \"classifier_dropout\": 0.1,\n",
              "  \"eos_token_id\": 2,\n",
              "  \"hidden_act\": \"gelu\",\n",
              "  \"hidden_dropout_prob\": 0.1,\n",
              "  \"hidden_size\": 768,\n",
              "  \"id2label\": {\n",
              "    \"0\": \"LABEL_0\",\n",
              "    \"1\": \"LABEL_1\",\n",
              "    \"2\": \"LABEL_2\"\n",
              "  },\n",
              "  \"initializer_range\": 0.02,\n",
              "  \"intermediate_size\": 3072,\n",
              "  \"label2id\": {\n",
              "    \"LABEL_0\": 0,\n",
              "    \"LABEL_1\": 1,\n",
              "    \"LABEL_2\": 2\n",
              "  },\n",
              "  \"layer_norm_eps\": 1e-05,\n",
              "  \"max_position_embeddings\": 514,\n",
              "  \"model_type\": \"xlm-roberta\",\n",
              "  \"num_attention_heads\": 12,\n",
              "  \"num_hidden_layers\": 12,\n",
              "  \"output_past\": true,\n",
              "  \"pad_token_id\": 1,\n",
              "  \"position_embedding_type\": \"absolute\",\n",
              "  \"transformers_version\": \"4.19.2\",\n",
              "  \"type_vocab_size\": 1,\n",
              "  \"use_cache\": true,\n",
              "  \"vocab_size\": 250002\n",
              "}"
            ]
          },
          "metadata": {},
          "execution_count": 50
        }
      ],
      "source": [
        "config=AutoConfig.from_pretrained(name)\n",
        "config.classifier_dropout=classifier_dropout\n",
        "config.num_labels=num_labels\n",
        "config"
      ]
    },
    {
      "cell_type": "code",
      "execution_count": null,
      "metadata": {
        "id": "Z-mJD0RG5VWI"
      },
      "outputs": [],
      "source": [
        "model_directory='/content/drive/MyDrive/en-vi-nli/models'\n",
        "os.makedirs(model_directory,exist_ok=True)"
      ]
    },
    {
      "cell_type": "code",
      "execution_count": null,
      "metadata": {
        "id": "1B7TNDAz5XvV"
      },
      "outputs": [],
      "source": [
        "config.save_pretrained(model_directory)"
      ]
    },
    {
      "cell_type": "code",
      "execution_count": null,
      "metadata": {
        "colab": {
          "base_uri": "https://localhost:8080/"
        },
        "id": "0lQt-CDm5Zcv",
        "outputId": "cd98265f-55ce-4409-e37a-fce2d66cfc1d"
      },
      "outputs": [
        {
          "output_type": "execute_result",
          "data": {
            "text/plain": [
              "3"
            ]
          },
          "metadata": {},
          "execution_count": 53
        }
      ],
      "source": [
        "config.num_labels"
      ]
    },
    {
      "cell_type": "markdown",
      "metadata": {
        "id": "buCv0I2c2FyI"
      },
      "source": [
        "##Aproach 1: Fine-tuning last layer BERT"
      ]
    },
    {
      "cell_type": "code",
      "execution_count": null,
      "metadata": {
        "id": "JLMrwXiB2NPf"
      },
      "outputs": [],
      "source": [
        "class XLMRoBERTa4LastLayersForClassification(RobertaPreTrainedModel):\n",
        "    _keys_to_ignore_on_load_missing = [r\"position_ids\"]\n",
        "\n",
        "    def __init__(self, config):\n",
        "        super().__init__(config)\n",
        "        self.num_labels = config.num_labels\n",
        "        self.config = config\n",
        "        self.hidden_size=config.hidden_size\n",
        "        self.roberta = RobertaModel(config, add_pooling_layer=False)\n",
        "\n",
        "        self.dense = nn.Linear(self.config.hidden_size, self.config.hidden_size)\n",
        "        \n",
        "        self.dropout = nn.Dropout(self.config.classifier_dropout)\n",
        "        self.out_proj = nn.Linear(self.config.hidden_size, self.config.num_labels)\n",
        "\n",
        "\n",
        "        # Initialize weights and apply final processing\n",
        "        self.post_init()\n",
        "\n",
        "    \n",
        "    def forward(self,input_ids,attention_mask,labels=None):\n",
        "\n",
        "        outputs = self.roberta(input_ids=input_ids,attention_mask=attention_mask,output_hidden_states=False)\n",
        "        \n",
        "        cls_embedding=outputs[0][:,0,:]\n",
        "        \n",
        "        x = self.dropout(cls_embedding)\n",
        "        x = self.dense(x)\n",
        "        x = torch.tanh(x)\n",
        "        x = self.dropout(x)\n",
        "        logits = self.out_proj(x)\n",
        "\n",
        "        loss=0\n",
        "        if labels!=None:\n",
        "          loss_fct = CrossEntropyLoss()\n",
        "          loss = loss_fct(logits.view(-1, self.config.num_labels), labels.view(-1))\n",
        "\n",
        "        return SequenceClassifierOutput(\n",
        "                loss=loss,\n",
        "                logits=logits)"
      ]
    },
    {
      "cell_type": "markdown",
      "metadata": {
        "id": "8MqrvEbC5dVW"
      },
      "source": [
        "##Approach 2: Fine-tuning 4 last concatenating layers of BERT\n"
      ]
    },
    {
      "cell_type": "code",
      "execution_count": null,
      "metadata": {
        "id": "gkKhx2eW5bBt"
      },
      "outputs": [],
      "source": [
        "class XLMRoBERTa4LastLayersForClassification(RobertaPreTrainedModel):\n",
        "    _keys_to_ignore_on_load_missing = [r\"position_ids\"]\n",
        "\n",
        "    def __init__(self, config):\n",
        "        super().__init__(config)\n",
        "        self.num_labels = config.num_labels\n",
        "        self.config = config\n",
        "        self.hidden_size=config.hidden_size\n",
        "        self.roberta = RobertaModel(config, add_pooling_layer=False)\n",
        "\n",
        "        self.dense = nn.Linear(self.config.hidden_size*4, self.config.hidden_size*4)\n",
        "        \n",
        "        self.dropout = nn.Dropout(self.config.classifier_dropout)\n",
        "        self.out_proj = nn.Linear(self.config.hidden_size*4, self.config.num_labels)\n",
        "\n",
        "\n",
        "        # Initialize weights and apply final processing\n",
        "        self.post_init()\n",
        "\n",
        "    \n",
        "    def forward(self,input_ids,attention_mask,labels=None):\n",
        "\n",
        "        outputs = self.roberta(input_ids=input_ids,attention_mask=attention_mask,output_hidden_states=True)\n",
        "        last_layers=torch.stack(outputs.hidden_states[-4:])\n",
        "        last_layers=last_layers.permute(1,2,0,3)\n",
        "        features=torch.flatten(last_layers,start_dim=2)\n",
        "        cls_embedding=features[:,0,:]\n",
        "        \n",
        "        x = self.dropout(cls_embedding)\n",
        "        x = self.dense(x)\n",
        "        x = torch.tanh(x)\n",
        "        x = self.dropout(x)\n",
        "        logits = self.out_proj(x)\n",
        "\n",
        "        loss=0\n",
        "        if labels!=None:\n",
        "          loss_fct = CrossEntropyLoss()\n",
        "          loss = loss_fct(logits.view(-1, self.config.num_labels), labels.view(-1))\n",
        "\n",
        "        return SequenceClassifierOutput(\n",
        "                loss=loss,\n",
        "                logits=logits)"
      ]
    },
    {
      "cell_type": "markdown",
      "metadata": {
        "id": "MJuQ2LlZ8BoD"
      },
      "source": [
        "##Approach 3: Fine-tuning 4 last concatenating layers of BERT + mean-max pooling"
      ]
    },
    {
      "cell_type": "code",
      "execution_count": null,
      "metadata": {
        "id": "58pMM9OXw4nc"
      },
      "outputs": [],
      "source": [
        "from transformers import RobertaModel,RobertaPreTrainedModel\n",
        "from transformers.models.roberta.modeling_roberta import RobertaClassificationHead\n",
        "class XLMRoBERTa4LastLayersForClassification(RobertaPreTrainedModel):\n",
        "    _keys_to_ignore_on_load_missing = [r\"position_ids\"]\n",
        "\n",
        "    def __init__(self, config):\n",
        "        super().__init__(config)\n",
        "        self.num_labels = config.num_labels\n",
        "        self.config = config\n",
        "        # self.hidden_size=config.hidden_size\n",
        "        self.roberta = RobertaModel(self.config, add_pooling_layer=False)\n",
        "\n",
        "        self.bilstm_layer=torch.nn.LSTM(input_size=self.config.hidden_size*4,hidden_size=self.config.hidden_size,bidirectional=True,batch_first=True)        \n",
        "\n",
        "        ## classifier head\n",
        "        self.dense = nn.Linear(self.config.hidden_size*4, self.config.hidden_size*4)\n",
        "        \n",
        "        self.dropout = nn.Dropout(self.config.classifier_dropout)\n",
        "        self.out_proj = nn.Linear(self.config.hidden_size*4, self.config.num_labels)\n",
        "\n",
        "        # Initialize weights and apply final processing\n",
        "        self.post_init()\n",
        "\n",
        "    def init_hidden(self,batch_size):\n",
        "        return (torch.randn(2, batch_size, self.config.hidden_size ).to(device),\n",
        "                torch.randn(2, batch_size, self.config.hidden_size ).to(device))\n",
        "\n",
        "    \n",
        "    def forward(self,input_ids,attention_mask,labels=None):\n",
        "\n",
        "        bs=input_ids.shape[0]\n",
        "\n",
        "        outputs = self.roberta(input_ids=input_ids,attention_mask=attention_mask,output_hidden_states=True)\n",
        "        last_layers=torch.stack(outputs.hidden_states[-4:])\n",
        "        last_layers=last_layers.permute(1,2,0,3)\n",
        "        features=torch.flatten(last_layers,start_dim=2)\n",
        "        cls_embedding=features[:,0,:]\n",
        "\n",
        "        hidden = self.init_hidden(bs)\n",
        "    \n",
        "        _features,hidden=self.bilstm_layer(features,hidden)\n",
        "        avg_pool = torch.mean(_features, 1)\n",
        "        max_pool, _ = torch.max(_features, 1)\n",
        "        concat = torch.cat(( avg_pool, max_pool), 1)\n",
        "\n",
        "        cls_embedding=cls_embedding+concat\n",
        "\n",
        "        # sequence_output = features\n",
        "        x = self.dropout(cls_embedding)\n",
        "        x = self.dense(x)\n",
        "        x = torch.tanh(x)\n",
        "        x = self.dropout(x)\n",
        "        logits = self.out_proj(x)\n",
        "\n",
        "        loss=0\n",
        "        if labels!=None:\n",
        "          loss_fct = CrossEntropyLoss()\n",
        "          loss = loss_fct(logits.view(-1, self.config.num_labels), labels.view(-1))\n",
        "\n",
        "        return SequenceClassifierOutput(\n",
        "                loss=loss,\n",
        "                logits=logits)\n",
        "      "
      ]
    },
    {
      "cell_type": "markdown",
      "metadata": {
        "id": "SklUPxLW8IYL"
      },
      "source": [
        "##Train"
      ]
    },
    {
      "cell_type": "code",
      "execution_count": null,
      "metadata": {
        "colab": {
          "base_uri": "https://localhost:8080/"
        },
        "id": "5c0HCyYW5g-8",
        "outputId": "5126cddb-8783-4800-e124-8eed5f8c495b"
      },
      "outputs": [
        {
          "output_type": "stream",
          "name": "stderr",
          "text": [
            "Some weights of the model checkpoint at xlm-roberta-base were not used when initializing XLMRoBERTa4LastLayersForClassification: ['lm_head.dense.bias', 'roberta.pooler.dense.weight', 'lm_head.decoder.weight', 'lm_head.layer_norm.weight', 'lm_head.layer_norm.bias', 'lm_head.dense.weight', 'roberta.pooler.dense.bias', 'lm_head.bias']\n",
            "- This IS expected if you are initializing XLMRoBERTa4LastLayersForClassification from the checkpoint of a model trained on another task or with another architecture (e.g. initializing a BertForSequenceClassification model from a BertForPreTraining model).\n",
            "- This IS NOT expected if you are initializing XLMRoBERTa4LastLayersForClassification from the checkpoint of a model that you expect to be exactly identical (initializing a BertForSequenceClassification model from a BertForSequenceClassification model).\n",
            "Some weights of XLMRoBERTa4LastLayersForClassification were not initialized from the model checkpoint at xlm-roberta-base and are newly initialized: ['out_proj.weight', 'out_proj.bias', 'dense.weight', 'dense.bias']\n",
            "You should probably TRAIN this model on a down-stream task to be able to use it for predictions and inference.\n"
          ]
        }
      ],
      "source": [
        "model=XLMRoBERTa4LastLayersForClassification.from_pretrained(name,config=config).to(device)"
      ]
    },
    {
      "cell_type": "code",
      "execution_count": null,
      "metadata": {
        "id": "P-I2LeQj5kdj"
      },
      "outputs": [],
      "source": [
        "optimizer=torch.optim.AdamW(model.parameters(),lr=init_lr,weight_decay =0.01,eps=eps)"
      ]
    },
    {
      "cell_type": "code",
      "source": [
        "lr_scheduler=get_linear_schedule_with_warmup(optimizer,num_warmup_steps=num_warmup_steps,num_training_steps=num_training_steps,)"
      ],
      "metadata": {
        "id": "AWUW7lfzjR1S"
      },
      "execution_count": null,
      "outputs": []
    },
    {
      "cell_type": "code",
      "execution_count": null,
      "metadata": {
        "id": "h1adGgwl5mG8"
      },
      "outputs": [],
      "source": [
        "def save_model(epoch,model,optimizer,scheduler,training_loss,valid_loss,train_acc,valid_acc,path,step=None):\n",
        "  torch.save({\n",
        "          'epoch': epoch,\n",
        "          'model_state_dict': model,\n",
        "          'optimizer_state_dict': optimizer,\n",
        "          'scheduler_state_dict': scheduler,\n",
        "          'training_loss': training_loss,\n",
        "          'valid_loss': valid_loss,\n",
        "          'train_acc': train_acc,\n",
        "          'valid_acc': valid_acc,\n",
        "          'step':step\n",
        "          }, join(path,f'ckpt{epoch}.pt'))"
      ]
    },
    {
      "cell_type": "code",
      "execution_count": null,
      "metadata": {
        "id": "4x3Imy1ee-Ao"
      },
      "outputs": [],
      "source": [
        "from sklearn.metrics import *"
      ]
    },
    {
      "cell_type": "code",
      "execution_count": null,
      "metadata": {
        "id": "MRprAR2P5yWl"
      },
      "outputs": [],
      "source": [
        "def run_train(optimizer,dataloader,lr_scheduler=None):\n",
        "  model.train(True)\n",
        "  loop = tqdm(dataloader)\n",
        "  loss=0\n",
        "  true=[]\n",
        "  pred=[]\n",
        "  for batch in dataloader:\n",
        "    optimizer.zero_grad()\n",
        "    inputs=batch['inputs']\n",
        "    inputs.update({\"labels\":batch['labels']})\n",
        "    true+=batch['labels'].tolist()\n",
        "    outputs=model(**inputs)\n",
        "    outputs.loss.backward()\n",
        "\n",
        "    loss+=outputs.loss.item()\n",
        "    probs=torch.nn.functional.softmax(outputs.logits,dim=-1)\n",
        "    _pred=torch.argmax(probs,dim=-1).tolist()\n",
        "    pred+=_pred\n",
        "    optimizer.step()\n",
        "    # if lr_scheduler!=None:\n",
        "    lr_scheduler.step()\n",
        "    loop.set_postfix({f'train_loss_per_batch':outputs.loss.item()})\n",
        "    loop.update()      \n",
        "  acc=accuracy_score(true,pred)\n",
        "  return loss/len(dataloader),acc"
      ]
    },
    {
      "cell_type": "code",
      "execution_count": null,
      "metadata": {
        "id": "Pg7W2jRR56Ui"
      },
      "outputs": [],
      "source": [
        "def run_valid(dataloader):\n",
        "  model.eval()\n",
        "  loss=0\n",
        "  pred=[]\n",
        "  true=[]\n",
        "  with torch.no_grad():\n",
        "    for batch in dataloader:\n",
        "      inputs=batch['inputs']\n",
        "      inputs.update({\"labels\":batch['labels']})\n",
        "      true+=batch['labels'].tolist()\n",
        "      \n",
        "      outputs=model(**inputs)\n",
        "      probs=torch.nn.functional.softmax(outputs.logits,dim=-1)\n",
        "      _pred=torch.argmax(probs,dim=-1).tolist()\n",
        "      pred+=_pred\n",
        "      loss+=outputs.loss.item()\n",
        "\n",
        "  acc=accuracy_score(true,pred)\n",
        "\n",
        "  return loss/len(dataloader),acc"
      ]
    },
    {
      "cell_type": "code",
      "execution_count": null,
      "metadata": {
        "colab": {
          "base_uri": "https://localhost:8080/",
          "height": 34
        },
        "id": "ZL9uumjQ581l",
        "outputId": "0d8f8f70-8709-45f7-c73b-cb5d6ab5ee76"
      },
      "outputs": [
        {
          "output_type": "execute_result",
          "data": {
            "text/plain": [
              "821"
            ]
          },
          "metadata": {},
          "execution_count": 62
        }
      ],
      "source": [
        "import gc\n",
        "gc.collect()"
      ]
    },
    {
      "cell_type": "code",
      "execution_count": null,
      "metadata": {
        "id": "CWnUhiig6EPH",
        "colab": {
          "base_uri": "https://localhost:8080/"
        },
        "outputId": "becacdd5-b23d-497a-fe64-64061e79d69a"
      },
      "outputs": [
        {
          "output_type": "execute_result",
          "data": {
            "text/plain": [
              "<torch.optim.lr_scheduler.LambdaLR at 0x7fccd783e6d0>"
            ]
          },
          "metadata": {},
          "execution_count": 63
        }
      ],
      "source": [
        "lr_scheduler"
      ]
    },
    {
      "cell_type": "code",
      "execution_count": null,
      "metadata": {
        "colab": {
          "base_uri": "https://localhost:8080/",
          "height": 35
        },
        "id": "enm-6AS-8Ztt",
        "outputId": "e055f39b-2577-4dd6-b4ea-bbf718edd027"
      },
      "outputs": [
        {
          "output_type": "execute_result",
          "data": {
            "text/plain": [
              "'/content/drive/MyDrive/en-vi-nli/models/last-layer'"
            ],
            "application/vnd.google.colaboratory.intrinsic+json": {
              "type": "string"
            }
          },
          "metadata": {},
          "execution_count": 64
        }
      ],
      "source": [
        "model_directory='/content/drive/MyDrive/en-vi-nli/models/last-layer'\n",
        "os.makedirs(model_directory,exist_ok=True)\n",
        "model_directory"
      ]
    },
    {
      "cell_type": "code",
      "execution_count": null,
      "metadata": {
        "id": "nCMIwj2O5-Za"
      },
      "outputs": [],
      "source": [
        "train_loss_per_step=[]\n",
        "valid_loss_per_step=[]\n",
        "train_acc_per_step=[]\n",
        "valid_acc_per_step=[]\n",
        "# min_loss=np.inf\n",
        "best_acc=0\n",
        "count_stopping=0\n",
        "for epoch in range(epochs):\n",
        "\n",
        "  train_loss,train_acc=run_train(optimizer,train_dataloader,lr_scheduler)\n",
        "  \n",
        "  valid_loss,valid_acc=run_valid(valid_dataloader)\n",
        "\n",
        "  train_loss_per_step.append(train_loss)\n",
        "  valid_loss_per_step.append(valid_loss)\n",
        "\n",
        "  train_acc_per_step.append(train_acc)\n",
        "  valid_acc_per_step.append(valid_acc)\n",
        "  \n",
        "  print(f'epoch: {epoch} train_loss: {train_loss} valid_loss: {valid_loss} train_acc: {train_acc} valid_acc: {valid_acc}')\n",
        "  # if valid_loss<min_loss:\n",
        "  if best_acc<valid_acc:\n",
        "    # min_loss=valid_loss\n",
        "    best_acc=valid_acc\n",
        "    save_model(epoch,model.state_dict(),optimizer.state_dict(),lr_scheduler.state_dict(),train_loss,valid_loss,train_acc,valid_acc,model_directory)\n",
        "    count_stopping=0\n",
        "  else:\n",
        "    count_stopping+=1\n",
        "  \n",
        "  if count_stopping>5:\n",
        "    break\n"
      ]
    },
    {
      "cell_type": "markdown",
      "metadata": {
        "id": "Y4UmxgTG6kAA"
      },
      "source": [
        "try Siamese bert"
      ]
    },
    {
      "cell_type": "markdown",
      "metadata": {
        "id": "-DCUjQlhNNvn"
      },
      "source": [
        "#Inference"
      ]
    },
    {
      "cell_type": "code",
      "execution_count": null,
      "metadata": {
        "id": "ee3Be1NyvRkl"
      },
      "outputs": [],
      "source": [
        "import pandas as pd\n",
        "en_vi_test=pd.read_csv('/content/drive/MyDrive/en-vi-nli/pairs_dataset/test/en_vi.csv')\n",
        "vi_vi_test=pd.read_csv('/content/drive/MyDrive/en-vi-nli/pairs_dataset/test/vi_vi.csv')"
      ]
    },
    {
      "cell_type": "code",
      "execution_count": null,
      "metadata": {
        "colab": {
          "base_uri": "https://localhost:8080/",
          "height": 424
        },
        "id": "944JvCIu65_H",
        "outputId": "8ac3d727-2506-4d01-8e59-f81b216af7d9"
      },
      "outputs": [
        {
          "data": {
            "text/html": [
              "\n",
              "  <div id=\"df-68df4e64-17cf-4179-b04e-1a2d43ee3005\">\n",
              "    <div class=\"colab-df-container\">\n",
              "      <div>\n",
              "<style scoped>\n",
              "    .dataframe tbody tr th:only-of-type {\n",
              "        vertical-align: middle;\n",
              "    }\n",
              "\n",
              "    .dataframe tbody tr th {\n",
              "        vertical-align: top;\n",
              "    }\n",
              "\n",
              "    .dataframe thead th {\n",
              "        text-align: right;\n",
              "    }\n",
              "</style>\n",
              "<table border=\"1\" class=\"dataframe\">\n",
              "  <thead>\n",
              "    <tr style=\"text-align: right;\">\n",
              "      <th></th>\n",
              "      <th>Unnamed: 0</th>\n",
              "      <th>premise</th>\n",
              "      <th>hypothesis</th>\n",
              "      <th>label</th>\n",
              "      <th>premise_language</th>\n",
              "      <th>hypothesis_language</th>\n",
              "    </tr>\n",
              "  </thead>\n",
              "  <tbody>\n",
              "    <tr>\n",
              "      <th>0</th>\n",
              "      <td>0</td>\n",
              "      <td>Well, I wasn't even thinking about that, but I...</td>\n",
              "      <td>Tôi đã không nói chuyện với anh ta nữa.</td>\n",
              "      <td>2</td>\n",
              "      <td>en</td>\n",
              "      <td>vi</td>\n",
              "    </tr>\n",
              "    <tr>\n",
              "      <th>1</th>\n",
              "      <td>1</td>\n",
              "      <td>Well, I wasn't even thinking about that, but I...</td>\n",
              "      <td>Tôi buồn tới mức tôi lại bắt đầu nói chuyện lạ...</td>\n",
              "      <td>0</td>\n",
              "      <td>en</td>\n",
              "      <td>vi</td>\n",
              "    </tr>\n",
              "    <tr>\n",
              "      <th>2</th>\n",
              "      <td>2</td>\n",
              "      <td>Well, I wasn't even thinking about that, but I...</td>\n",
              "      <td>Chúng tôi có buổi nói chuyện tuyệt vời.</td>\n",
              "      <td>1</td>\n",
              "      <td>en</td>\n",
              "      <td>vi</td>\n",
              "    </tr>\n",
              "    <tr>\n",
              "      <th>3</th>\n",
              "      <td>3</td>\n",
              "      <td>And I thought that was a privilege, and it's s...</td>\n",
              "      <td>Tôi không nhận ra rằng tôi không phải là người...</td>\n",
              "      <td>1</td>\n",
              "      <td>en</td>\n",
              "      <td>vi</td>\n",
              "    </tr>\n",
              "    <tr>\n",
              "      <th>4</th>\n",
              "      <td>4</td>\n",
              "      <td>And I thought that was a privilege, and it's s...</td>\n",
              "      <td>Tôi có ấn tượng là tôi là người duy nhất có số...</td>\n",
              "      <td>0</td>\n",
              "      <td>en</td>\n",
              "      <td>vi</td>\n",
              "    </tr>\n",
              "    <tr>\n",
              "      <th>...</th>\n",
              "      <td>...</td>\n",
              "      <td>...</td>\n",
              "      <td>...</td>\n",
              "      <td>...</td>\n",
              "      <td>...</td>\n",
              "      <td>...</td>\n",
              "    </tr>\n",
              "    <tr>\n",
              "      <th>5005</th>\n",
              "      <td>5005</td>\n",
              "      <td>Davidson không nên áp dụng cách phát âm chữ sc...</td>\n",
              "      <td>Davidson không nên nói theo cách mà xương và â...</td>\n",
              "      <td>0</td>\n",
              "      <td>vi</td>\n",
              "      <td>vi</td>\n",
              "    </tr>\n",
              "    <tr>\n",
              "      <th>5006</th>\n",
              "      <td>5006</td>\n",
              "      <td>Davidson không nên áp dụng cách phát âm chữ sc...</td>\n",
              "      <td>Sẽ tốt hơn nếu Davidson vần các từ và xương.</td>\n",
              "      <td>2</td>\n",
              "      <td>vi</td>\n",
              "      <td>vi</td>\n",
              "    </tr>\n",
              "    <tr>\n",
              "      <th>5007</th>\n",
              "      <td>5007</td>\n",
              "      <td>Tiểu thuyết trung bình có 200.000 từ giá khoản...</td>\n",
              "      <td>Một cuốn tiểu thuyết 200.000 từ với giá 25 đô ...</td>\n",
              "      <td>1</td>\n",
              "      <td>vi</td>\n",
              "      <td>vi</td>\n",
              "    </tr>\n",
              "    <tr>\n",
              "      <th>5008</th>\n",
              "      <td>5008</td>\n",
              "      <td>Tiểu thuyết trung bình có 200.000 từ giá khoản...</td>\n",
              "      <td>Một cuốn tiểu thuyết 200.000 từ với giá 25 USD...</td>\n",
              "      <td>2</td>\n",
              "      <td>vi</td>\n",
              "      <td>vi</td>\n",
              "    </tr>\n",
              "    <tr>\n",
              "      <th>5009</th>\n",
              "      <td>5009</td>\n",
              "      <td>Tiểu thuyết trung bình có 200.000 từ giá khoản...</td>\n",
              "      <td>Một cuốn tiểu thuyết 200.000 từ với giá 25 đôl...</td>\n",
              "      <td>0</td>\n",
              "      <td>vi</td>\n",
              "      <td>vi</td>\n",
              "    </tr>\n",
              "  </tbody>\n",
              "</table>\n",
              "<p>10020 rows × 6 columns</p>\n",
              "</div>\n",
              "      <button class=\"colab-df-convert\" onclick=\"convertToInteractive('df-68df4e64-17cf-4179-b04e-1a2d43ee3005')\"\n",
              "              title=\"Convert this dataframe to an interactive table.\"\n",
              "              style=\"display:none;\">\n",
              "        \n",
              "  <svg xmlns=\"http://www.w3.org/2000/svg\" height=\"24px\"viewBox=\"0 0 24 24\"\n",
              "       width=\"24px\">\n",
              "    <path d=\"M0 0h24v24H0V0z\" fill=\"none\"/>\n",
              "    <path d=\"M18.56 5.44l.94 2.06.94-2.06 2.06-.94-2.06-.94-.94-2.06-.94 2.06-2.06.94zm-11 1L8.5 8.5l.94-2.06 2.06-.94-2.06-.94L8.5 2.5l-.94 2.06-2.06.94zm10 10l.94 2.06.94-2.06 2.06-.94-2.06-.94-.94-2.06-.94 2.06-2.06.94z\"/><path d=\"M17.41 7.96l-1.37-1.37c-.4-.4-.92-.59-1.43-.59-.52 0-1.04.2-1.43.59L10.3 9.45l-7.72 7.72c-.78.78-.78 2.05 0 2.83L4 21.41c.39.39.9.59 1.41.59.51 0 1.02-.2 1.41-.59l7.78-7.78 2.81-2.81c.8-.78.8-2.07 0-2.86zM5.41 20L4 18.59l7.72-7.72 1.47 1.35L5.41 20z\"/>\n",
              "  </svg>\n",
              "      </button>\n",
              "      \n",
              "  <style>\n",
              "    .colab-df-container {\n",
              "      display:flex;\n",
              "      flex-wrap:wrap;\n",
              "      gap: 12px;\n",
              "    }\n",
              "\n",
              "    .colab-df-convert {\n",
              "      background-color: #E8F0FE;\n",
              "      border: none;\n",
              "      border-radius: 50%;\n",
              "      cursor: pointer;\n",
              "      display: none;\n",
              "      fill: #1967D2;\n",
              "      height: 32px;\n",
              "      padding: 0 0 0 0;\n",
              "      width: 32px;\n",
              "    }\n",
              "\n",
              "    .colab-df-convert:hover {\n",
              "      background-color: #E2EBFA;\n",
              "      box-shadow: 0px 1px 2px rgba(60, 64, 67, 0.3), 0px 1px 3px 1px rgba(60, 64, 67, 0.15);\n",
              "      fill: #174EA6;\n",
              "    }\n",
              "\n",
              "    [theme=dark] .colab-df-convert {\n",
              "      background-color: #3B4455;\n",
              "      fill: #D2E3FC;\n",
              "    }\n",
              "\n",
              "    [theme=dark] .colab-df-convert:hover {\n",
              "      background-color: #434B5C;\n",
              "      box-shadow: 0px 1px 3px 1px rgba(0, 0, 0, 0.15);\n",
              "      filter: drop-shadow(0px 1px 2px rgba(0, 0, 0, 0.3));\n",
              "      fill: #FFFFFF;\n",
              "    }\n",
              "  </style>\n",
              "\n",
              "      <script>\n",
              "        const buttonEl =\n",
              "          document.querySelector('#df-68df4e64-17cf-4179-b04e-1a2d43ee3005 button.colab-df-convert');\n",
              "        buttonEl.style.display =\n",
              "          google.colab.kernel.accessAllowed ? 'block' : 'none';\n",
              "\n",
              "        async function convertToInteractive(key) {\n",
              "          const element = document.querySelector('#df-68df4e64-17cf-4179-b04e-1a2d43ee3005');\n",
              "          const dataTable =\n",
              "            await google.colab.kernel.invokeFunction('convertToInteractive',\n",
              "                                                     [key], {});\n",
              "          if (!dataTable) return;\n",
              "\n",
              "          const docLinkHtml = 'Like what you see? Visit the ' +\n",
              "            '<a target=\"_blank\" href=https://colab.research.google.com/notebooks/data_table.ipynb>data table notebook</a>'\n",
              "            + ' to learn more about interactive tables.';\n",
              "          element.innerHTML = '';\n",
              "          dataTable['output_type'] = 'display_data';\n",
              "          await google.colab.output.renderOutput(dataTable, element);\n",
              "          const docLink = document.createElement('div');\n",
              "          docLink.innerHTML = docLinkHtml;\n",
              "          element.appendChild(docLink);\n",
              "        }\n",
              "      </script>\n",
              "    </div>\n",
              "  </div>\n",
              "  "
            ],
            "text/plain": [
              "      Unnamed: 0                                            premise  \\\n",
              "0              0  Well, I wasn't even thinking about that, but I...   \n",
              "1              1  Well, I wasn't even thinking about that, but I...   \n",
              "2              2  Well, I wasn't even thinking about that, but I...   \n",
              "3              3  And I thought that was a privilege, and it's s...   \n",
              "4              4  And I thought that was a privilege, and it's s...   \n",
              "...          ...                                                ...   \n",
              "5005        5005  Davidson không nên áp dụng cách phát âm chữ sc...   \n",
              "5006        5006  Davidson không nên áp dụng cách phát âm chữ sc...   \n",
              "5007        5007  Tiểu thuyết trung bình có 200.000 từ giá khoản...   \n",
              "5008        5008  Tiểu thuyết trung bình có 200.000 từ giá khoản...   \n",
              "5009        5009  Tiểu thuyết trung bình có 200.000 từ giá khoản...   \n",
              "\n",
              "                                             hypothesis  label  \\\n",
              "0               Tôi đã không nói chuyện với anh ta nữa.      2   \n",
              "1     Tôi buồn tới mức tôi lại bắt đầu nói chuyện lạ...      0   \n",
              "2               Chúng tôi có buổi nói chuyện tuyệt vời.      1   \n",
              "3     Tôi không nhận ra rằng tôi không phải là người...      1   \n",
              "4     Tôi có ấn tượng là tôi là người duy nhất có số...      0   \n",
              "...                                                 ...    ...   \n",
              "5005  Davidson không nên nói theo cách mà xương và â...      0   \n",
              "5006       Sẽ tốt hơn nếu Davidson vần các từ và xương.      2   \n",
              "5007  Một cuốn tiểu thuyết 200.000 từ với giá 25 đô ...      1   \n",
              "5008  Một cuốn tiểu thuyết 200.000 từ với giá 25 USD...      2   \n",
              "5009  Một cuốn tiểu thuyết 200.000 từ với giá 25 đôl...      0   \n",
              "\n",
              "     premise_language hypothesis_language  \n",
              "0                  en                  vi  \n",
              "1                  en                  vi  \n",
              "2                  en                  vi  \n",
              "3                  en                  vi  \n",
              "4                  en                  vi  \n",
              "...               ...                 ...  \n",
              "5005               vi                  vi  \n",
              "5006               vi                  vi  \n",
              "5007               vi                  vi  \n",
              "5008               vi                  vi  \n",
              "5009               vi                  vi  \n",
              "\n",
              "[10020 rows x 6 columns]"
            ]
          },
          "execution_count": 45,
          "metadata": {},
          "output_type": "execute_result"
        }
      ],
      "source": [
        "test=pd.concat([en_vi_test,vi_vi_test],axis=0)\n",
        "test"
      ]
    },
    {
      "cell_type": "code",
      "execution_count": null,
      "metadata": {
        "id": "KuLIcjZpvTKr"
      },
      "outputs": [],
      "source": [
        "config = AutoConfig.from_pretrained('/content/drive/MyDrive/en-vi-nli/models')\n",
        "config._name_or_path=name"
      ]
    },
    {
      "cell_type": "code",
      "execution_count": null,
      "metadata": {
        "id": "Hk6TFMgVNXCS"
      },
      "outputs": [],
      "source": [
        "config\n"
      ]
    },
    {
      "cell_type": "code",
      "execution_count": null,
      "metadata": {
        "id": "p5ZKdYVsNYiT"
      },
      "outputs": [],
      "source": [
        "model=XLMRoBERTa4LastLayersForClassification(config=config).to(device)"
      ]
    },
    {
      "cell_type": "code",
      "execution_count": null,
      "metadata": {
        "id": "n-gBJ91zNc47"
      },
      "outputs": [],
      "source": [
        "checkpoint = torch.load(\"/content/drive/MyDrive/en-vi-nli/models/last-layer/ckpt2.pt\",map_location=device)"
      ]
    },
    {
      "cell_type": "code",
      "execution_count": null,
      "metadata": {
        "colab": {
          "base_uri": "https://localhost:8080/"
        },
        "id": "kg4DFG7bNkK9",
        "outputId": "5b2ebda9-f195-48c5-82e3-ef9bffb5510f"
      },
      "outputs": [
        {
          "data": {
            "text/plain": [
              "<All keys matched successfully>"
            ]
          },
          "execution_count": 85,
          "metadata": {},
          "output_type": "execute_result"
        }
      ],
      "source": [
        "model.load_state_dict(checkpoint['model_state_dict'])"
      ]
    },
    {
      "cell_type": "code",
      "execution_count": null,
      "metadata": {
        "id": "EUuaIhrINlNw"
      },
      "outputs": [],
      "source": [
        "en_vi_y_true=en_vi_test['label'].tolist()\n",
        "vi_vi_y_true=vi_vi_test['label'].tolist()"
      ]
    },
    {
      "cell_type": "code",
      "execution_count": null,
      "metadata": {
        "id": "0wZcNw4ENl-N"
      },
      "outputs": [],
      "source": [
        "max_length=60"
      ]
    },
    {
      "cell_type": "code",
      "execution_count": null,
      "metadata": {
        "id": "s5A3xwfZNmxT"
      },
      "outputs": [],
      "source": [
        "def predict(premises,hypothesises,max_length,return_tensors='pt',device='cpu',normalizer=None):\n",
        "  #premises: list of texts\n",
        "  #hypothesises: list of texts\n",
        "  #normalizer: function -> clean dataset and return a new input with the same format\n",
        "  model.eval()\n",
        "  y_pred=[]\n",
        "  with torch.no_grad():\n",
        "    loop = tqdm(range(len(premises)))\n",
        "    for idx,sample in enumerate(zip(premises,hypothesises)):\n",
        "      if normalizer!=None:\n",
        "        premise=normalizer(sample[0])\n",
        "        hypothesis=normalizer(sample[1])\n",
        "      token_ids_0=tokenizer.encode(premise,add_special_tokens=False)\n",
        "      token_ids_1=tokenizer.encode(hypothesis,add_special_tokens=False)\n",
        "      input_ids,attention_mask=create_input(tokenizer,token_ids_0,token_ids_1,max_length=max_length,padding=False)\n",
        "      input_ids=torch.Tensor(input_ids).to(torch.long).to(device)\n",
        "      attention_mask=torch.Tensor(attention_mask).to(torch.int).to(device)\n",
        "      _inputs={\n",
        "          'input_ids':input_ids,\n",
        "          'attention_mask':attention_mask\n",
        "      }\n",
        "      outputs=model(**_inputs)\n",
        "\n",
        "      logits=torch.sum(outputs.logits,dim=0,keepdim=True)\n",
        "\n",
        "      probs=torch.nn.functional.softmax(logits,dim=-1)\n",
        "      preds=torch.argmax(probs,dim=-1)\n",
        "      y_pred.append(preds)\n",
        "      loop.update()\n",
        "  return torch.Tensor(y_pred)"
      ]
    },
    {
      "cell_type": "code",
      "execution_count": null,
      "metadata": {
        "colab": {
          "base_uri": "https://localhost:8080/",
          "height": 49,
          "referenced_widgets": [
            "bb7bbcb3a8bc49f486dcd524257713d6",
            "e091419f48f54a0f9230539022372500",
            "b766408c12ac4829bc9e0db7d7409a91",
            "bed627bc96914ee4ba19043dcac8e27e",
            "495ef735a5934e19ace994c6eda60efe",
            "527da3b0ce564d4e9f42b4021668bfb4",
            "b5ca5b6839c14f39bbb2ade6521853d7",
            "177fe7bf266d4e959c6c435cb7174a39",
            "8fe0c3927c5f4f449b75272a2208fa1a",
            "ae476c29c6b8449ebc6e27997666b388",
            "ea2ae7a2236d40808df13ca6923d7d73"
          ]
        },
        "id": "Ed9SUwEVNngd",
        "outputId": "80674846-173d-4841-8838-953a12565c45"
      },
      "outputs": [
        {
          "data": {
            "application/vnd.jupyter.widget-view+json": {
              "model_id": "bb7bbcb3a8bc49f486dcd524257713d6",
              "version_major": 2,
              "version_minor": 0
            },
            "text/plain": [
              "  0%|          | 0/5010 [00:00<?, ?it/s]"
            ]
          },
          "metadata": {},
          "output_type": "display_data"
        }
      ],
      "source": [
        "en_vi_y_pred=predict(en_vi_test['premise'].tolist(),en_vi_test['hypothesis'].tolist(),max_length,device=device,normalizer=normalizer)"
      ]
    },
    {
      "cell_type": "code",
      "execution_count": null,
      "metadata": {
        "id": "8vIffUVONor2"
      },
      "outputs": [],
      "source": [
        "en_vi_y_pred=en_vi_y_pred.tolist()"
      ]
    },
    {
      "cell_type": "code",
      "execution_count": null,
      "metadata": {
        "id": "1IEWLALNOOhW"
      },
      "outputs": [],
      "source": [
        "from sklearn.metrics import *"
      ]
    },
    {
      "cell_type": "code",
      "execution_count": null,
      "metadata": {
        "id": "fjW2UJW8Ozk0"
      },
      "outputs": [],
      "source": [
        "#1\n",
        "print(classification_report(en_vi_y_true,en_vi_y_pred,digits=5))"
      ]
    },
    {
      "cell_type": "code",
      "execution_count": null,
      "metadata": {
        "colab": {
          "background_save": true,
          "referenced_widgets": [
            "83b76381f7f34d20b65efba6cede602c"
          ]
        },
        "id": "dj4vgaAONpwO",
        "outputId": "c4058ec9-67f2-4901-f27e-fdf26b8aa8b1"
      },
      "outputs": [
        {
          "data": {
            "application/vnd.jupyter.widget-view+json": {
              "model_id": "83b76381f7f34d20b65efba6cede602c",
              "version_major": 2,
              "version_minor": 0
            },
            "text/plain": [
              "  0%|          | 0/5010 [00:00<?, ?it/s]"
            ]
          },
          "metadata": {},
          "output_type": "display_data"
        }
      ],
      "source": [
        "vi_vi_y_pred=predict(vi_vi_test['premise'].tolist(),vi_vi_test['hypothesis'].tolist(),max_length,device=device,normalizer=normalizer)"
      ]
    },
    {
      "cell_type": "code",
      "execution_count": null,
      "metadata": {
        "colab": {
          "background_save": true
        },
        "id": "DLrnfKiVNql7"
      },
      "outputs": [],
      "source": [
        "vi_vi_y_pred=vi_vi_y_pred.tolist()"
      ]
    },
    {
      "cell_type": "code",
      "execution_count": null,
      "metadata": {
        "colab": {
          "background_save": true
        },
        "id": "f-17dB9FRz76"
      },
      "outputs": [],
      "source": [
        "#1\n",
        "print(classification_report(vi_vi_y_true,vi_vi_y_pred,digits=5))"
      ]
    },
    {
      "cell_type": "code",
      "execution_count": null,
      "metadata": {
        "id": "waHS0FB1R0sJ"
      },
      "outputs": [],
      "source": [
        ""
      ]
    }
  ],
  "metadata": {
    "accelerator": "GPU",
    "colab": {
      "collapsed_sections": [],
      "name": "en_vi_xnli.ipynb",
      "provenance": []
    },
    "kernelspec": {
      "display_name": "Python 3",
      "name": "python3"
    },
    "language_info": {
      "name": "python"
    },
    "widgets": {
      "application/vnd.jupyter.widget-state+json": {
        "058421c188d44bc482bb60c724382fb5": {
          "model_module": "@jupyter-widgets/base",
          "model_module_version": "1.2.0",
          "model_name": "LayoutModel",
          "state": {
            "_model_module": "@jupyter-widgets/base",
            "_model_module_version": "1.2.0",
            "_model_name": "LayoutModel",
            "_view_count": null,
            "_view_module": "@jupyter-widgets/base",
            "_view_module_version": "1.2.0",
            "_view_name": "LayoutView",
            "align_content": null,
            "align_items": null,
            "align_self": null,
            "border": null,
            "bottom": null,
            "display": null,
            "flex": null,
            "flex_flow": null,
            "grid_area": null,
            "grid_auto_columns": null,
            "grid_auto_flow": null,
            "grid_auto_rows": null,
            "grid_column": null,
            "grid_gap": null,
            "grid_row": null,
            "grid_template_areas": null,
            "grid_template_columns": null,
            "grid_template_rows": null,
            "height": null,
            "justify_content": null,
            "justify_items": null,
            "left": null,
            "margin": null,
            "max_height": null,
            "max_width": null,
            "min_height": null,
            "min_width": null,
            "object_fit": null,
            "object_position": null,
            "order": null,
            "overflow": null,
            "overflow_x": null,
            "overflow_y": null,
            "padding": null,
            "right": null,
            "top": null,
            "visibility": null,
            "width": null
          }
        },
        "07324970981a494cbe8d50f1de412caf": {
          "model_module": "@jupyter-widgets/controls",
          "model_module_version": "1.5.0",
          "model_name": "DescriptionStyleModel",
          "state": {
            "_model_module": "@jupyter-widgets/controls",
            "_model_module_version": "1.5.0",
            "_model_name": "DescriptionStyleModel",
            "_view_count": null,
            "_view_module": "@jupyter-widgets/base",
            "_view_module_version": "1.2.0",
            "_view_name": "StyleView",
            "description_width": ""
          }
        },
        "08d0ebc8ad1c4d1a80138dbd502c25a4": {
          "model_module": "@jupyter-widgets/base",
          "model_module_version": "1.2.0",
          "model_name": "LayoutModel",
          "state": {
            "_model_module": "@jupyter-widgets/base",
            "_model_module_version": "1.2.0",
            "_model_name": "LayoutModel",
            "_view_count": null,
            "_view_module": "@jupyter-widgets/base",
            "_view_module_version": "1.2.0",
            "_view_name": "LayoutView",
            "align_content": null,
            "align_items": null,
            "align_self": null,
            "border": null,
            "bottom": null,
            "display": null,
            "flex": null,
            "flex_flow": null,
            "grid_area": null,
            "grid_auto_columns": null,
            "grid_auto_flow": null,
            "grid_auto_rows": null,
            "grid_column": null,
            "grid_gap": null,
            "grid_row": null,
            "grid_template_areas": null,
            "grid_template_columns": null,
            "grid_template_rows": null,
            "height": null,
            "justify_content": null,
            "justify_items": null,
            "left": null,
            "margin": null,
            "max_height": null,
            "max_width": null,
            "min_height": null,
            "min_width": null,
            "object_fit": null,
            "object_position": null,
            "order": null,
            "overflow": null,
            "overflow_x": null,
            "overflow_y": null,
            "padding": null,
            "right": null,
            "top": null,
            "visibility": null,
            "width": null
          }
        },
        "0926f66c11be4202a5f8faa06501ccc0": {
          "model_module": "@jupyter-widgets/controls",
          "model_module_version": "1.5.0",
          "model_name": "HTMLModel",
          "state": {
            "_dom_classes": [],
            "_model_module": "@jupyter-widgets/controls",
            "_model_module_version": "1.5.0",
            "_model_name": "HTMLModel",
            "_view_count": null,
            "_view_module": "@jupyter-widgets/controls",
            "_view_module_version": "1.5.0",
            "_view_name": "HTMLView",
            "description": "",
            "description_tooltip": null,
            "layout": "IPY_MODEL_0940291f5440408483763639db321adb",
            "placeholder": "​",
            "style": "IPY_MODEL_a32b5854d7294f48b5dad4745f18bae3",
            "value": " 2490/2490 [00:33&lt;00:00, 705.77it/s]"
          }
        },
        "0940291f5440408483763639db321adb": {
          "model_module": "@jupyter-widgets/base",
          "model_module_version": "1.2.0",
          "model_name": "LayoutModel",
          "state": {
            "_model_module": "@jupyter-widgets/base",
            "_model_module_version": "1.2.0",
            "_model_name": "LayoutModel",
            "_view_count": null,
            "_view_module": "@jupyter-widgets/base",
            "_view_module_version": "1.2.0",
            "_view_name": "LayoutView",
            "align_content": null,
            "align_items": null,
            "align_self": null,
            "border": null,
            "bottom": null,
            "display": null,
            "flex": null,
            "flex_flow": null,
            "grid_area": null,
            "grid_auto_columns": null,
            "grid_auto_flow": null,
            "grid_auto_rows": null,
            "grid_column": null,
            "grid_gap": null,
            "grid_row": null,
            "grid_template_areas": null,
            "grid_template_columns": null,
            "grid_template_rows": null,
            "height": null,
            "justify_content": null,
            "justify_items": null,
            "left": null,
            "margin": null,
            "max_height": null,
            "max_width": null,
            "min_height": null,
            "min_width": null,
            "object_fit": null,
            "object_position": null,
            "order": null,
            "overflow": null,
            "overflow_x": null,
            "overflow_y": null,
            "padding": null,
            "right": null,
            "top": null,
            "visibility": null,
            "width": null
          }
        },
        "0b8e13b73d67473cb8d8587e33efb29b": {
          "model_module": "@jupyter-widgets/base",
          "model_module_version": "1.2.0",
          "model_name": "LayoutModel",
          "state": {
            "_model_module": "@jupyter-widgets/base",
            "_model_module_version": "1.2.0",
            "_model_name": "LayoutModel",
            "_view_count": null,
            "_view_module": "@jupyter-widgets/base",
            "_view_module_version": "1.2.0",
            "_view_name": "LayoutView",
            "align_content": null,
            "align_items": null,
            "align_self": null,
            "border": null,
            "bottom": null,
            "display": null,
            "flex": null,
            "flex_flow": null,
            "grid_area": null,
            "grid_auto_columns": null,
            "grid_auto_flow": null,
            "grid_auto_rows": null,
            "grid_column": null,
            "grid_gap": null,
            "grid_row": null,
            "grid_template_areas": null,
            "grid_template_columns": null,
            "grid_template_rows": null,
            "height": null,
            "justify_content": null,
            "justify_items": null,
            "left": null,
            "margin": null,
            "max_height": null,
            "max_width": null,
            "min_height": null,
            "min_width": null,
            "object_fit": null,
            "object_position": null,
            "order": null,
            "overflow": null,
            "overflow_x": null,
            "overflow_y": null,
            "padding": null,
            "right": null,
            "top": null,
            "visibility": null,
            "width": null
          }
        },
        "0f4c26379b0346448bdd112ff9e9c6fb": {
          "model_module": "@jupyter-widgets/controls",
          "model_module_version": "1.5.0",
          "model_name": "HBoxModel",
          "state": {
            "_dom_classes": [],
            "_model_module": "@jupyter-widgets/controls",
            "_model_module_version": "1.5.0",
            "_model_name": "HBoxModel",
            "_view_count": null,
            "_view_module": "@jupyter-widgets/controls",
            "_view_module_version": "1.5.0",
            "_view_name": "HBoxView",
            "box_style": "",
            "children": [
              "IPY_MODEL_52abea01d37c4392b1a9b0ca3ec8a64a",
              "IPY_MODEL_8ae334adbf3f4e2580c1f72b021e25a5",
              "IPY_MODEL_d1439d49b7734478ad70c83718614428"
            ],
            "layout": "IPY_MODEL_4529338daf7a47f4a9a5d984736b5cf8"
          }
        },
        "13eb14a160da45cf871aa880a33f6e8c": {
          "model_module": "@jupyter-widgets/controls",
          "model_module_version": "1.5.0",
          "model_name": "DescriptionStyleModel",
          "state": {
            "_model_module": "@jupyter-widgets/controls",
            "_model_module_version": "1.5.0",
            "_model_name": "DescriptionStyleModel",
            "_view_count": null,
            "_view_module": "@jupyter-widgets/base",
            "_view_module_version": "1.2.0",
            "_view_name": "StyleView",
            "description_width": ""
          }
        },
        "147aac500766481987373461eaac946e": {
          "model_module": "@jupyter-widgets/controls",
          "model_module_version": "1.5.0",
          "model_name": "DescriptionStyleModel",
          "state": {
            "_model_module": "@jupyter-widgets/controls",
            "_model_module_version": "1.5.0",
            "_model_name": "DescriptionStyleModel",
            "_view_count": null,
            "_view_module": "@jupyter-widgets/base",
            "_view_module_version": "1.2.0",
            "_view_name": "StyleView",
            "description_width": ""
          }
        },
        "177fe7bf266d4e959c6c435cb7174a39": {
          "model_module": "@jupyter-widgets/base",
          "model_module_version": "1.2.0",
          "model_name": "LayoutModel",
          "state": {
            "_model_module": "@jupyter-widgets/base",
            "_model_module_version": "1.2.0",
            "_model_name": "LayoutModel",
            "_view_count": null,
            "_view_module": "@jupyter-widgets/base",
            "_view_module_version": "1.2.0",
            "_view_name": "LayoutView",
            "align_content": null,
            "align_items": null,
            "align_self": null,
            "border": null,
            "bottom": null,
            "display": null,
            "flex": null,
            "flex_flow": null,
            "grid_area": null,
            "grid_auto_columns": null,
            "grid_auto_flow": null,
            "grid_auto_rows": null,
            "grid_column": null,
            "grid_gap": null,
            "grid_row": null,
            "grid_template_areas": null,
            "grid_template_columns": null,
            "grid_template_rows": null,
            "height": null,
            "justify_content": null,
            "justify_items": null,
            "left": null,
            "margin": null,
            "max_height": null,
            "max_width": null,
            "min_height": null,
            "min_width": null,
            "object_fit": null,
            "object_position": null,
            "order": null,
            "overflow": null,
            "overflow_x": null,
            "overflow_y": null,
            "padding": null,
            "right": null,
            "top": null,
            "visibility": null,
            "width": null
          }
        },
        "187baee128594fcfb2f29d364fc13f8d": {
          "model_module": "@jupyter-widgets/base",
          "model_module_version": "1.2.0",
          "model_name": "LayoutModel",
          "state": {
            "_model_module": "@jupyter-widgets/base",
            "_model_module_version": "1.2.0",
            "_model_name": "LayoutModel",
            "_view_count": null,
            "_view_module": "@jupyter-widgets/base",
            "_view_module_version": "1.2.0",
            "_view_name": "LayoutView",
            "align_content": null,
            "align_items": null,
            "align_self": null,
            "border": null,
            "bottom": null,
            "display": null,
            "flex": null,
            "flex_flow": null,
            "grid_area": null,
            "grid_auto_columns": null,
            "grid_auto_flow": null,
            "grid_auto_rows": null,
            "grid_column": null,
            "grid_gap": null,
            "grid_row": null,
            "grid_template_areas": null,
            "grid_template_columns": null,
            "grid_template_rows": null,
            "height": null,
            "justify_content": null,
            "justify_items": null,
            "left": null,
            "margin": null,
            "max_height": null,
            "max_width": null,
            "min_height": null,
            "min_width": null,
            "object_fit": null,
            "object_position": null,
            "order": null,
            "overflow": null,
            "overflow_x": null,
            "overflow_y": null,
            "padding": null,
            "right": null,
            "top": null,
            "visibility": null,
            "width": null
          }
        },
        "1ac25f32a5dc4ef592ca4d2482c76cfe": {
          "model_module": "@jupyter-widgets/controls",
          "model_module_version": "1.5.0",
          "model_name": "FloatProgressModel",
          "state": {
            "_dom_classes": [],
            "_model_module": "@jupyter-widgets/controls",
            "_model_module_version": "1.5.0",
            "_model_name": "FloatProgressModel",
            "_view_count": null,
            "_view_module": "@jupyter-widgets/controls",
            "_view_module_version": "1.5.0",
            "_view_name": "ProgressView",
            "bar_style": "success",
            "description": "",
            "description_tooltip": null,
            "layout": "IPY_MODEL_08d0ebc8ad1c4d1a80138dbd502c25a4",
            "max": 5010,
            "min": 0,
            "orientation": "horizontal",
            "style": "IPY_MODEL_49eb131386d542018d4eb406568691c9",
            "value": 5010
          }
        },
        "1d4e62a7c6f843c3a6f06f7551b1ed5e": {
          "model_module": "@jupyter-widgets/controls",
          "model_module_version": "1.5.0",
          "model_name": "DescriptionStyleModel",
          "state": {
            "_model_module": "@jupyter-widgets/controls",
            "_model_module_version": "1.5.0",
            "_model_name": "DescriptionStyleModel",
            "_view_count": null,
            "_view_module": "@jupyter-widgets/base",
            "_view_module_version": "1.2.0",
            "_view_name": "StyleView",
            "description_width": ""
          }
        },
        "210c2e5cc04b4bba9d56634e7f0ade46": {
          "model_module": "@jupyter-widgets/controls",
          "model_module_version": "1.5.0",
          "model_name": "ProgressStyleModel",
          "state": {
            "_model_module": "@jupyter-widgets/controls",
            "_model_module_version": "1.5.0",
            "_model_name": "ProgressStyleModel",
            "_view_count": null,
            "_view_module": "@jupyter-widgets/base",
            "_view_module_version": "1.2.0",
            "_view_name": "StyleView",
            "bar_color": null,
            "description_width": ""
          }
        },
        "23254f669de348349976e77b3cd99e68": {
          "model_module": "@jupyter-widgets/controls",
          "model_module_version": "1.5.0",
          "model_name": "ProgressStyleModel",
          "state": {
            "_model_module": "@jupyter-widgets/controls",
            "_model_module_version": "1.5.0",
            "_model_name": "ProgressStyleModel",
            "_view_count": null,
            "_view_module": "@jupyter-widgets/base",
            "_view_module_version": "1.2.0",
            "_view_name": "StyleView",
            "bar_color": null,
            "description_width": ""
          }
        },
        "24df29114b0d458eb83a8df1fb64c452": {
          "model_module": "@jupyter-widgets/controls",
          "model_module_version": "1.5.0",
          "model_name": "FloatProgressModel",
          "state": {
            "_dom_classes": [],
            "_model_module": "@jupyter-widgets/controls",
            "_model_module_version": "1.5.0",
            "_model_name": "FloatProgressModel",
            "_view_count": null,
            "_view_module": "@jupyter-widgets/controls",
            "_view_module_version": "1.5.0",
            "_view_name": "ProgressView",
            "bar_style": "success",
            "description": "",
            "description_tooltip": null,
            "layout": "IPY_MODEL_add35cd1eb0240459a10bf226d7cbf71",
            "max": 2490,
            "min": 0,
            "orientation": "horizontal",
            "style": "IPY_MODEL_70976b58458f4376b2e61ccedcfd63ce",
            "value": 2490
          }
        },
        "296765bfdc8d4984a25b8ced2622885c": {
          "model_module": "@jupyter-widgets/controls",
          "model_module_version": "1.5.0",
          "model_name": "HTMLModel",
          "state": {
            "_dom_classes": [],
            "_model_module": "@jupyter-widgets/controls",
            "_model_module_version": "1.5.0",
            "_model_name": "HTMLModel",
            "_view_count": null,
            "_view_module": "@jupyter-widgets/controls",
            "_view_module_version": "1.5.0",
            "_view_name": "HTMLView",
            "description": "",
            "description_tooltip": null,
            "layout": "IPY_MODEL_651ca79bdd7c4627a6759d1eb57166a8",
            "placeholder": "​",
            "style": "IPY_MODEL_b56cebb630424d8fab43c04b4a834cd5",
            "value": " 5010/5010 [1:56:03&lt;00:00, 17867.08it/s]"
          }
        },
        "2d7178528697431fb7d3b0852a730505": {
          "model_module": "@jupyter-widgets/controls",
          "model_module_version": "1.5.0",
          "model_name": "DescriptionStyleModel",
          "state": {
            "_model_module": "@jupyter-widgets/controls",
            "_model_module_version": "1.5.0",
            "_model_name": "DescriptionStyleModel",
            "_view_count": null,
            "_view_module": "@jupyter-widgets/base",
            "_view_module_version": "1.2.0",
            "_view_name": "StyleView",
            "description_width": ""
          }
        },
        "3168fa0c67694469a686597709396620": {
          "model_module": "@jupyter-widgets/controls",
          "model_module_version": "1.5.0",
          "model_name": "HTMLModel",
          "state": {
            "_dom_classes": [],
            "_model_module": "@jupyter-widgets/controls",
            "_model_module_version": "1.5.0",
            "_model_name": "HTMLModel",
            "_view_count": null,
            "_view_module": "@jupyter-widgets/controls",
            "_view_module_version": "1.5.0",
            "_view_name": "HTMLView",
            "description": "",
            "description_tooltip": null,
            "layout": "IPY_MODEL_9762bdc8fdbf4209a19ff6d4bbe673a6",
            "placeholder": "​",
            "style": "IPY_MODEL_2d7178528697431fb7d3b0852a730505",
            "value": "100%"
          }
        },
        "3280f8a5d102433287bdf7528c3cc5a1": {
          "model_module": "@jupyter-widgets/base",
          "model_module_version": "1.2.0",
          "model_name": "LayoutModel",
          "state": {
            "_model_module": "@jupyter-widgets/base",
            "_model_module_version": "1.2.0",
            "_model_name": "LayoutModel",
            "_view_count": null,
            "_view_module": "@jupyter-widgets/base",
            "_view_module_version": "1.2.0",
            "_view_name": "LayoutView",
            "align_content": null,
            "align_items": null,
            "align_self": null,
            "border": null,
            "bottom": null,
            "display": null,
            "flex": null,
            "flex_flow": null,
            "grid_area": null,
            "grid_auto_columns": null,
            "grid_auto_flow": null,
            "grid_auto_rows": null,
            "grid_column": null,
            "grid_gap": null,
            "grid_row": null,
            "grid_template_areas": null,
            "grid_template_columns": null,
            "grid_template_rows": null,
            "height": null,
            "justify_content": null,
            "justify_items": null,
            "left": null,
            "margin": null,
            "max_height": null,
            "max_width": null,
            "min_height": null,
            "min_width": null,
            "object_fit": null,
            "object_position": null,
            "order": null,
            "overflow": null,
            "overflow_x": null,
            "overflow_y": null,
            "padding": null,
            "right": null,
            "top": null,
            "visibility": null,
            "width": null
          }
        },
        "39b94cc6a1314fe393bd960e248c3183": {
          "model_module": "@jupyter-widgets/base",
          "model_module_version": "1.2.0",
          "model_name": "LayoutModel",
          "state": {
            "_model_module": "@jupyter-widgets/base",
            "_model_module_version": "1.2.0",
            "_model_name": "LayoutModel",
            "_view_count": null,
            "_view_module": "@jupyter-widgets/base",
            "_view_module_version": "1.2.0",
            "_view_name": "LayoutView",
            "align_content": null,
            "align_items": null,
            "align_self": null,
            "border": null,
            "bottom": null,
            "display": null,
            "flex": null,
            "flex_flow": null,
            "grid_area": null,
            "grid_auto_columns": null,
            "grid_auto_flow": null,
            "grid_auto_rows": null,
            "grid_column": null,
            "grid_gap": null,
            "grid_row": null,
            "grid_template_areas": null,
            "grid_template_columns": null,
            "grid_template_rows": null,
            "height": null,
            "justify_content": null,
            "justify_items": null,
            "left": null,
            "margin": null,
            "max_height": null,
            "max_width": null,
            "min_height": null,
            "min_width": null,
            "object_fit": null,
            "object_position": null,
            "order": null,
            "overflow": null,
            "overflow_x": null,
            "overflow_y": null,
            "padding": null,
            "right": null,
            "top": null,
            "visibility": null,
            "width": null
          }
        },
        "4021ae345b28494284a172814663e88b": {
          "model_module": "@jupyter-widgets/controls",
          "model_module_version": "1.5.0",
          "model_name": "HTMLModel",
          "state": {
            "_dom_classes": [],
            "_model_module": "@jupyter-widgets/controls",
            "_model_module_version": "1.5.0",
            "_model_name": "HTMLModel",
            "_view_count": null,
            "_view_module": "@jupyter-widgets/controls",
            "_view_module_version": "1.5.0",
            "_view_name": "HTMLView",
            "description": "",
            "description_tooltip": null,
            "layout": "IPY_MODEL_b22040e53a4c4a49a207581a5ec27972",
            "placeholder": "​",
            "style": "IPY_MODEL_d1e7cab96a4b46d99ce2ad4ac1226b16",
            "value": " 392702/392702 [1:57:23&lt;00:00, 38137.90it/s]"
          }
        },
        "4029282391a74cc4aff4784549a20616": {
          "model_module": "@jupyter-widgets/controls",
          "model_module_version": "1.5.0",
          "model_name": "HBoxModel",
          "state": {
            "_dom_classes": [],
            "_model_module": "@jupyter-widgets/controls",
            "_model_module_version": "1.5.0",
            "_model_name": "HBoxModel",
            "_view_count": null,
            "_view_module": "@jupyter-widgets/controls",
            "_view_module_version": "1.5.0",
            "_view_name": "HBoxView",
            "box_style": "",
            "children": [
              "IPY_MODEL_3168fa0c67694469a686597709396620",
              "IPY_MODEL_1ac25f32a5dc4ef592ca4d2482c76cfe",
              "IPY_MODEL_296765bfdc8d4984a25b8ced2622885c"
            ],
            "layout": "IPY_MODEL_913eb437ec1841b4886c59be4e28127d"
          }
        },
        "4529338daf7a47f4a9a5d984736b5cf8": {
          "model_module": "@jupyter-widgets/base",
          "model_module_version": "1.2.0",
          "model_name": "LayoutModel",
          "state": {
            "_model_module": "@jupyter-widgets/base",
            "_model_module_version": "1.2.0",
            "_model_name": "LayoutModel",
            "_view_count": null,
            "_view_module": "@jupyter-widgets/base",
            "_view_module_version": "1.2.0",
            "_view_name": "LayoutView",
            "align_content": null,
            "align_items": null,
            "align_self": null,
            "border": null,
            "bottom": null,
            "display": null,
            "flex": null,
            "flex_flow": null,
            "grid_area": null,
            "grid_auto_columns": null,
            "grid_auto_flow": null,
            "grid_auto_rows": null,
            "grid_column": null,
            "grid_gap": null,
            "grid_row": null,
            "grid_template_areas": null,
            "grid_template_columns": null,
            "grid_template_rows": null,
            "height": null,
            "justify_content": null,
            "justify_items": null,
            "left": null,
            "margin": null,
            "max_height": null,
            "max_width": null,
            "min_height": null,
            "min_width": null,
            "object_fit": null,
            "object_position": null,
            "order": null,
            "overflow": null,
            "overflow_x": null,
            "overflow_y": null,
            "padding": null,
            "right": null,
            "top": null,
            "visibility": null,
            "width": null
          }
        },
        "495ef735a5934e19ace994c6eda60efe": {
          "model_module": "@jupyter-widgets/base",
          "model_module_version": "1.2.0",
          "model_name": "LayoutModel",
          "state": {
            "_model_module": "@jupyter-widgets/base",
            "_model_module_version": "1.2.0",
            "_model_name": "LayoutModel",
            "_view_count": null,
            "_view_module": "@jupyter-widgets/base",
            "_view_module_version": "1.2.0",
            "_view_name": "LayoutView",
            "align_content": null,
            "align_items": null,
            "align_self": null,
            "border": null,
            "bottom": null,
            "display": null,
            "flex": null,
            "flex_flow": null,
            "grid_area": null,
            "grid_auto_columns": null,
            "grid_auto_flow": null,
            "grid_auto_rows": null,
            "grid_column": null,
            "grid_gap": null,
            "grid_row": null,
            "grid_template_areas": null,
            "grid_template_columns": null,
            "grid_template_rows": null,
            "height": null,
            "justify_content": null,
            "justify_items": null,
            "left": null,
            "margin": null,
            "max_height": null,
            "max_width": null,
            "min_height": null,
            "min_width": null,
            "object_fit": null,
            "object_position": null,
            "order": null,
            "overflow": null,
            "overflow_x": null,
            "overflow_y": null,
            "padding": null,
            "right": null,
            "top": null,
            "visibility": null,
            "width": null
          }
        },
        "497396f8b90c49258a3e7f2265d73145": {
          "model_module": "@jupyter-widgets/controls",
          "model_module_version": "1.5.0",
          "model_name": "ProgressStyleModel",
          "state": {
            "_model_module": "@jupyter-widgets/controls",
            "_model_module_version": "1.5.0",
            "_model_name": "ProgressStyleModel",
            "_view_count": null,
            "_view_module": "@jupyter-widgets/base",
            "_view_module_version": "1.2.0",
            "_view_name": "StyleView",
            "bar_color": null,
            "description_width": ""
          }
        },
        "497c18ae41d04e82ad04e7bf153b6169": {
          "model_module": "@jupyter-widgets/controls",
          "model_module_version": "1.5.0",
          "model_name": "HTMLModel",
          "state": {
            "_dom_classes": [],
            "_model_module": "@jupyter-widgets/controls",
            "_model_module_version": "1.5.0",
            "_model_name": "HTMLModel",
            "_view_count": null,
            "_view_module": "@jupyter-widgets/controls",
            "_view_module_version": "1.5.0",
            "_view_name": "HTMLView",
            "description": "",
            "description_tooltip": null,
            "layout": "IPY_MODEL_3280f8a5d102433287bdf7528c3cc5a1",
            "placeholder": "​",
            "style": "IPY_MODEL_1d4e62a7c6f843c3a6f06f7551b1ed5e",
            "value": " 392702/392702 [05:40&lt;00:00, 1233.93it/s]"
          }
        },
        "49eb131386d542018d4eb406568691c9": {
          "model_module": "@jupyter-widgets/controls",
          "model_module_version": "1.5.0",
          "model_name": "ProgressStyleModel",
          "state": {
            "_model_module": "@jupyter-widgets/controls",
            "_model_module_version": "1.5.0",
            "_model_name": "ProgressStyleModel",
            "_view_count": null,
            "_view_module": "@jupyter-widgets/base",
            "_view_module_version": "1.2.0",
            "_view_name": "StyleView",
            "bar_color": null,
            "description_width": ""
          }
        },
        "4c650fb665f7434d8c07f11e5dc7630d": {
          "model_module": "@jupyter-widgets/controls",
          "model_module_version": "1.5.0",
          "model_name": "HBoxModel",
          "state": {
            "_dom_classes": [],
            "_model_module": "@jupyter-widgets/controls",
            "_model_module_version": "1.5.0",
            "_model_name": "HBoxModel",
            "_view_count": null,
            "_view_module": "@jupyter-widgets/controls",
            "_view_module_version": "1.5.0",
            "_view_name": "HBoxView",
            "box_style": "",
            "children": [
              "IPY_MODEL_559af1590b9a4b2da309ea664554af0b",
              "IPY_MODEL_6d816f486c6548b9a411e34f07d32aff",
              "IPY_MODEL_0926f66c11be4202a5f8faa06501ccc0"
            ],
            "layout": "IPY_MODEL_53b1252bbb07411db0bdfef40475d8ff"
          }
        },
        "527da3b0ce564d4e9f42b4021668bfb4": {
          "model_module": "@jupyter-widgets/base",
          "model_module_version": "1.2.0",
          "model_name": "LayoutModel",
          "state": {
            "_model_module": "@jupyter-widgets/base",
            "_model_module_version": "1.2.0",
            "_model_name": "LayoutModel",
            "_view_count": null,
            "_view_module": "@jupyter-widgets/base",
            "_view_module_version": "1.2.0",
            "_view_name": "LayoutView",
            "align_content": null,
            "align_items": null,
            "align_self": null,
            "border": null,
            "bottom": null,
            "display": null,
            "flex": null,
            "flex_flow": null,
            "grid_area": null,
            "grid_auto_columns": null,
            "grid_auto_flow": null,
            "grid_auto_rows": null,
            "grid_column": null,
            "grid_gap": null,
            "grid_row": null,
            "grid_template_areas": null,
            "grid_template_columns": null,
            "grid_template_rows": null,
            "height": null,
            "justify_content": null,
            "justify_items": null,
            "left": null,
            "margin": null,
            "max_height": null,
            "max_width": null,
            "min_height": null,
            "min_width": null,
            "object_fit": null,
            "object_position": null,
            "order": null,
            "overflow": null,
            "overflow_x": null,
            "overflow_y": null,
            "padding": null,
            "right": null,
            "top": null,
            "visibility": null,
            "width": null
          }
        },
        "52abea01d37c4392b1a9b0ca3ec8a64a": {
          "model_module": "@jupyter-widgets/controls",
          "model_module_version": "1.5.0",
          "model_name": "HTMLModel",
          "state": {
            "_dom_classes": [],
            "_model_module": "@jupyter-widgets/controls",
            "_model_module_version": "1.5.0",
            "_model_name": "HTMLModel",
            "_view_count": null,
            "_view_module": "@jupyter-widgets/controls",
            "_view_module_version": "1.5.0",
            "_view_name": "HTMLView",
            "description": "",
            "description_tooltip": null,
            "layout": "IPY_MODEL_058421c188d44bc482bb60c724382fb5",
            "placeholder": "​",
            "style": "IPY_MODEL_f8265cf57d2949ee85f111e8303d5261",
            "value": "100%"
          }
        },
        "53b1252bbb07411db0bdfef40475d8ff": {
          "model_module": "@jupyter-widgets/base",
          "model_module_version": "1.2.0",
          "model_name": "LayoutModel",
          "state": {
            "_model_module": "@jupyter-widgets/base",
            "_model_module_version": "1.2.0",
            "_model_name": "LayoutModel",
            "_view_count": null,
            "_view_module": "@jupyter-widgets/base",
            "_view_module_version": "1.2.0",
            "_view_name": "LayoutView",
            "align_content": null,
            "align_items": null,
            "align_self": null,
            "border": null,
            "bottom": null,
            "display": null,
            "flex": null,
            "flex_flow": null,
            "grid_area": null,
            "grid_auto_columns": null,
            "grid_auto_flow": null,
            "grid_auto_rows": null,
            "grid_column": null,
            "grid_gap": null,
            "grid_row": null,
            "grid_template_areas": null,
            "grid_template_columns": null,
            "grid_template_rows": null,
            "height": null,
            "justify_content": null,
            "justify_items": null,
            "left": null,
            "margin": null,
            "max_height": null,
            "max_width": null,
            "min_height": null,
            "min_width": null,
            "object_fit": null,
            "object_position": null,
            "order": null,
            "overflow": null,
            "overflow_x": null,
            "overflow_y": null,
            "padding": null,
            "right": null,
            "top": null,
            "visibility": null,
            "width": null
          }
        },
        "559af1590b9a4b2da309ea664554af0b": {
          "model_module": "@jupyter-widgets/controls",
          "model_module_version": "1.5.0",
          "model_name": "HTMLModel",
          "state": {
            "_dom_classes": [],
            "_model_module": "@jupyter-widgets/controls",
            "_model_module_version": "1.5.0",
            "_model_name": "HTMLModel",
            "_view_count": null,
            "_view_module": "@jupyter-widgets/controls",
            "_view_module_version": "1.5.0",
            "_view_name": "HTMLView",
            "description": "",
            "description_tooltip": null,
            "layout": "IPY_MODEL_70541c8fcbd24b6a8f396be6b528caa4",
            "placeholder": "​",
            "style": "IPY_MODEL_07324970981a494cbe8d50f1de412caf",
            "value": "100%"
          }
        },
        "5956a21421e64c4883ba75c63a496979": {
          "model_module": "@jupyter-widgets/controls",
          "model_module_version": "1.5.0",
          "model_name": "HTMLModel",
          "state": {
            "_dom_classes": [],
            "_model_module": "@jupyter-widgets/controls",
            "_model_module_version": "1.5.0",
            "_model_name": "HTMLModel",
            "_view_count": null,
            "_view_module": "@jupyter-widgets/controls",
            "_view_module_version": "1.5.0",
            "_view_name": "HTMLView",
            "description": "",
            "description_tooltip": null,
            "layout": "IPY_MODEL_187baee128594fcfb2f29d364fc13f8d",
            "placeholder": "​",
            "style": "IPY_MODEL_aefad9bf0be54eacac78db01b86535d5",
            "value": "100%"
          }
        },
        "5b2efb450b654d368ee3e94dc77d4a83": {
          "model_module": "@jupyter-widgets/controls",
          "model_module_version": "1.5.0",
          "model_name": "ProgressStyleModel",
          "state": {
            "_model_module": "@jupyter-widgets/controls",
            "_model_module_version": "1.5.0",
            "_model_name": "ProgressStyleModel",
            "_view_count": null,
            "_view_module": "@jupyter-widgets/base",
            "_view_module_version": "1.2.0",
            "_view_name": "StyleView",
            "bar_color": null,
            "description_width": ""
          }
        },
        "5d94074d63144abea66bc4ad696deb2c": {
          "model_module": "@jupyter-widgets/controls",
          "model_module_version": "1.5.0",
          "model_name": "HTMLModel",
          "state": {
            "_dom_classes": [],
            "_model_module": "@jupyter-widgets/controls",
            "_model_module_version": "1.5.0",
            "_model_name": "HTMLModel",
            "_view_count": null,
            "_view_module": "@jupyter-widgets/controls",
            "_view_module_version": "1.5.0",
            "_view_name": "HTMLView",
            "description": "",
            "description_tooltip": null,
            "layout": "IPY_MODEL_6e50f8840454426f93b6bf102e73d889",
            "placeholder": "​",
            "style": "IPY_MODEL_6c23823c2a984830ae75100077971a72",
            "value": " 2490/2490 [03:52&lt;00:00, 1015.31it/s]"
          }
        },
        "5eb303fe66b14584a96b26a4b45b2f44": {
          "model_module": "@jupyter-widgets/controls",
          "model_module_version": "1.5.0",
          "model_name": "HBoxModel",
          "state": {
            "_dom_classes": [],
            "_model_module": "@jupyter-widgets/controls",
            "_model_module_version": "1.5.0",
            "_model_name": "HBoxModel",
            "_view_count": null,
            "_view_module": "@jupyter-widgets/controls",
            "_view_module_version": "1.5.0",
            "_view_name": "HBoxView",
            "box_style": "",
            "children": [
              "IPY_MODEL_a32b5c624adc4acf9e9338b212bd12ae",
              "IPY_MODEL_b01dace8974047658b90c78381605b26",
              "IPY_MODEL_497c18ae41d04e82ad04e7bf153b6169"
            ],
            "layout": "IPY_MODEL_88874ddb5d994a6c8d252cc5937dc81e"
          }
        },
        "62c7083bb26641ddad9088b4b0bac1cf": {
          "model_module": "@jupyter-widgets/base",
          "model_module_version": "1.2.0",
          "model_name": "LayoutModel",
          "state": {
            "_model_module": "@jupyter-widgets/base",
            "_model_module_version": "1.2.0",
            "_model_name": "LayoutModel",
            "_view_count": null,
            "_view_module": "@jupyter-widgets/base",
            "_view_module_version": "1.2.0",
            "_view_name": "LayoutView",
            "align_content": null,
            "align_items": null,
            "align_self": null,
            "border": null,
            "bottom": null,
            "display": null,
            "flex": null,
            "flex_flow": null,
            "grid_area": null,
            "grid_auto_columns": null,
            "grid_auto_flow": null,
            "grid_auto_rows": null,
            "grid_column": null,
            "grid_gap": null,
            "grid_row": null,
            "grid_template_areas": null,
            "grid_template_columns": null,
            "grid_template_rows": null,
            "height": null,
            "justify_content": null,
            "justify_items": null,
            "left": null,
            "margin": null,
            "max_height": null,
            "max_width": null,
            "min_height": null,
            "min_width": null,
            "object_fit": null,
            "object_position": null,
            "order": null,
            "overflow": null,
            "overflow_x": null,
            "overflow_y": null,
            "padding": null,
            "right": null,
            "top": null,
            "visibility": null,
            "width": null
          }
        },
        "651ca79bdd7c4627a6759d1eb57166a8": {
          "model_module": "@jupyter-widgets/base",
          "model_module_version": "1.2.0",
          "model_name": "LayoutModel",
          "state": {
            "_model_module": "@jupyter-widgets/base",
            "_model_module_version": "1.2.0",
            "_model_name": "LayoutModel",
            "_view_count": null,
            "_view_module": "@jupyter-widgets/base",
            "_view_module_version": "1.2.0",
            "_view_name": "LayoutView",
            "align_content": null,
            "align_items": null,
            "align_self": null,
            "border": null,
            "bottom": null,
            "display": null,
            "flex": null,
            "flex_flow": null,
            "grid_area": null,
            "grid_auto_columns": null,
            "grid_auto_flow": null,
            "grid_auto_rows": null,
            "grid_column": null,
            "grid_gap": null,
            "grid_row": null,
            "grid_template_areas": null,
            "grid_template_columns": null,
            "grid_template_rows": null,
            "height": null,
            "justify_content": null,
            "justify_items": null,
            "left": null,
            "margin": null,
            "max_height": null,
            "max_width": null,
            "min_height": null,
            "min_width": null,
            "object_fit": null,
            "object_position": null,
            "order": null,
            "overflow": null,
            "overflow_x": null,
            "overflow_y": null,
            "padding": null,
            "right": null,
            "top": null,
            "visibility": null,
            "width": null
          }
        },
        "682d4e7c9528494d84e3271c754e8bc0": {
          "model_module": "@jupyter-widgets/controls",
          "model_module_version": "1.5.0",
          "model_name": "HBoxModel",
          "state": {
            "_dom_classes": [],
            "_model_module": "@jupyter-widgets/controls",
            "_model_module_version": "1.5.0",
            "_model_name": "HBoxModel",
            "_view_count": null,
            "_view_module": "@jupyter-widgets/controls",
            "_view_module_version": "1.5.0",
            "_view_name": "HBoxView",
            "box_style": "",
            "children": [
              "IPY_MODEL_e31c06fe9ef5474f912f5b9aa13559b0",
              "IPY_MODEL_a196c42187ba4ce3ba442de077383295",
              "IPY_MODEL_5d94074d63144abea66bc4ad696deb2c"
            ],
            "layout": "IPY_MODEL_8d92ef4d3d82443ba0e15bccd918b528"
          }
        },
        "6893e7db76684650838550b0ca253eea": {
          "model_module": "@jupyter-widgets/base",
          "model_module_version": "1.2.0",
          "model_name": "LayoutModel",
          "state": {
            "_model_module": "@jupyter-widgets/base",
            "_model_module_version": "1.2.0",
            "_model_name": "LayoutModel",
            "_view_count": null,
            "_view_module": "@jupyter-widgets/base",
            "_view_module_version": "1.2.0",
            "_view_name": "LayoutView",
            "align_content": null,
            "align_items": null,
            "align_self": null,
            "border": null,
            "bottom": null,
            "display": null,
            "flex": null,
            "flex_flow": null,
            "grid_area": null,
            "grid_auto_columns": null,
            "grid_auto_flow": null,
            "grid_auto_rows": null,
            "grid_column": null,
            "grid_gap": null,
            "grid_row": null,
            "grid_template_areas": null,
            "grid_template_columns": null,
            "grid_template_rows": null,
            "height": null,
            "justify_content": null,
            "justify_items": null,
            "left": null,
            "margin": null,
            "max_height": null,
            "max_width": null,
            "min_height": null,
            "min_width": null,
            "object_fit": null,
            "object_position": null,
            "order": null,
            "overflow": null,
            "overflow_x": null,
            "overflow_y": null,
            "padding": null,
            "right": null,
            "top": null,
            "visibility": null,
            "width": null
          }
        },
        "6c23823c2a984830ae75100077971a72": {
          "model_module": "@jupyter-widgets/controls",
          "model_module_version": "1.5.0",
          "model_name": "DescriptionStyleModel",
          "state": {
            "_model_module": "@jupyter-widgets/controls",
            "_model_module_version": "1.5.0",
            "_model_name": "DescriptionStyleModel",
            "_view_count": null,
            "_view_module": "@jupyter-widgets/base",
            "_view_module_version": "1.2.0",
            "_view_name": "StyleView",
            "description_width": ""
          }
        },
        "6d816f486c6548b9a411e34f07d32aff": {
          "model_module": "@jupyter-widgets/controls",
          "model_module_version": "1.5.0",
          "model_name": "FloatProgressModel",
          "state": {
            "_dom_classes": [],
            "_model_module": "@jupyter-widgets/controls",
            "_model_module_version": "1.5.0",
            "_model_name": "FloatProgressModel",
            "_view_count": null,
            "_view_module": "@jupyter-widgets/controls",
            "_view_module_version": "1.5.0",
            "_view_name": "ProgressView",
            "bar_style": "success",
            "description": "",
            "description_tooltip": null,
            "layout": "IPY_MODEL_62c7083bb26641ddad9088b4b0bac1cf",
            "max": 2490,
            "min": 0,
            "orientation": "horizontal",
            "style": "IPY_MODEL_497396f8b90c49258a3e7f2265d73145",
            "value": 2490
          }
        },
        "6e50f8840454426f93b6bf102e73d889": {
          "model_module": "@jupyter-widgets/base",
          "model_module_version": "1.2.0",
          "model_name": "LayoutModel",
          "state": {
            "_model_module": "@jupyter-widgets/base",
            "_model_module_version": "1.2.0",
            "_model_name": "LayoutModel",
            "_view_count": null,
            "_view_module": "@jupyter-widgets/base",
            "_view_module_version": "1.2.0",
            "_view_name": "LayoutView",
            "align_content": null,
            "align_items": null,
            "align_self": null,
            "border": null,
            "bottom": null,
            "display": null,
            "flex": null,
            "flex_flow": null,
            "grid_area": null,
            "grid_auto_columns": null,
            "grid_auto_flow": null,
            "grid_auto_rows": null,
            "grid_column": null,
            "grid_gap": null,
            "grid_row": null,
            "grid_template_areas": null,
            "grid_template_columns": null,
            "grid_template_rows": null,
            "height": null,
            "justify_content": null,
            "justify_items": null,
            "left": null,
            "margin": null,
            "max_height": null,
            "max_width": null,
            "min_height": null,
            "min_width": null,
            "object_fit": null,
            "object_position": null,
            "order": null,
            "overflow": null,
            "overflow_x": null,
            "overflow_y": null,
            "padding": null,
            "right": null,
            "top": null,
            "visibility": null,
            "width": null
          }
        },
        "70541c8fcbd24b6a8f396be6b528caa4": {
          "model_module": "@jupyter-widgets/base",
          "model_module_version": "1.2.0",
          "model_name": "LayoutModel",
          "state": {
            "_model_module": "@jupyter-widgets/base",
            "_model_module_version": "1.2.0",
            "_model_name": "LayoutModel",
            "_view_count": null,
            "_view_module": "@jupyter-widgets/base",
            "_view_module_version": "1.2.0",
            "_view_name": "LayoutView",
            "align_content": null,
            "align_items": null,
            "align_self": null,
            "border": null,
            "bottom": null,
            "display": null,
            "flex": null,
            "flex_flow": null,
            "grid_area": null,
            "grid_auto_columns": null,
            "grid_auto_flow": null,
            "grid_auto_rows": null,
            "grid_column": null,
            "grid_gap": null,
            "grid_row": null,
            "grid_template_areas": null,
            "grid_template_columns": null,
            "grid_template_rows": null,
            "height": null,
            "justify_content": null,
            "justify_items": null,
            "left": null,
            "margin": null,
            "max_height": null,
            "max_width": null,
            "min_height": null,
            "min_width": null,
            "object_fit": null,
            "object_position": null,
            "order": null,
            "overflow": null,
            "overflow_x": null,
            "overflow_y": null,
            "padding": null,
            "right": null,
            "top": null,
            "visibility": null,
            "width": null
          }
        },
        "70976b58458f4376b2e61ccedcfd63ce": {
          "model_module": "@jupyter-widgets/controls",
          "model_module_version": "1.5.0",
          "model_name": "ProgressStyleModel",
          "state": {
            "_model_module": "@jupyter-widgets/controls",
            "_model_module_version": "1.5.0",
            "_model_name": "ProgressStyleModel",
            "_view_count": null,
            "_view_module": "@jupyter-widgets/base",
            "_view_module_version": "1.2.0",
            "_view_name": "StyleView",
            "bar_color": null,
            "description_width": ""
          }
        },
        "71b242a446164ae0ad9745f89bc605aa": {
          "model_module": "@jupyter-widgets/base",
          "model_module_version": "1.2.0",
          "model_name": "LayoutModel",
          "state": {
            "_model_module": "@jupyter-widgets/base",
            "_model_module_version": "1.2.0",
            "_model_name": "LayoutModel",
            "_view_count": null,
            "_view_module": "@jupyter-widgets/base",
            "_view_module_version": "1.2.0",
            "_view_name": "LayoutView",
            "align_content": null,
            "align_items": null,
            "align_self": null,
            "border": null,
            "bottom": null,
            "display": null,
            "flex": null,
            "flex_flow": null,
            "grid_area": null,
            "grid_auto_columns": null,
            "grid_auto_flow": null,
            "grid_auto_rows": null,
            "grid_column": null,
            "grid_gap": null,
            "grid_row": null,
            "grid_template_areas": null,
            "grid_template_columns": null,
            "grid_template_rows": null,
            "height": null,
            "justify_content": null,
            "justify_items": null,
            "left": null,
            "margin": null,
            "max_height": null,
            "max_width": null,
            "min_height": null,
            "min_width": null,
            "object_fit": null,
            "object_position": null,
            "order": null,
            "overflow": null,
            "overflow_x": null,
            "overflow_y": null,
            "padding": null,
            "right": null,
            "top": null,
            "visibility": null,
            "width": null
          }
        },
        "76d8c468e52644e09330b21eb931d035": {
          "model_module": "@jupyter-widgets/controls",
          "model_module_version": "1.5.0",
          "model_name": "ProgressStyleModel",
          "state": {
            "_model_module": "@jupyter-widgets/controls",
            "_model_module_version": "1.5.0",
            "_model_name": "ProgressStyleModel",
            "_view_count": null,
            "_view_module": "@jupyter-widgets/base",
            "_view_module_version": "1.2.0",
            "_view_name": "StyleView",
            "bar_color": null,
            "description_width": ""
          }
        },
        "780ea796ba104da183b6d7f67b57b035": {
          "model_module": "@jupyter-widgets/base",
          "model_module_version": "1.2.0",
          "model_name": "LayoutModel",
          "state": {
            "_model_module": "@jupyter-widgets/base",
            "_model_module_version": "1.2.0",
            "_model_name": "LayoutModel",
            "_view_count": null,
            "_view_module": "@jupyter-widgets/base",
            "_view_module_version": "1.2.0",
            "_view_name": "LayoutView",
            "align_content": null,
            "align_items": null,
            "align_self": null,
            "border": null,
            "bottom": null,
            "display": null,
            "flex": null,
            "flex_flow": null,
            "grid_area": null,
            "grid_auto_columns": null,
            "grid_auto_flow": null,
            "grid_auto_rows": null,
            "grid_column": null,
            "grid_gap": null,
            "grid_row": null,
            "grid_template_areas": null,
            "grid_template_columns": null,
            "grid_template_rows": null,
            "height": null,
            "justify_content": null,
            "justify_items": null,
            "left": null,
            "margin": null,
            "max_height": null,
            "max_width": null,
            "min_height": null,
            "min_width": null,
            "object_fit": null,
            "object_position": null,
            "order": null,
            "overflow": null,
            "overflow_x": null,
            "overflow_y": null,
            "padding": null,
            "right": null,
            "top": null,
            "visibility": null,
            "width": null
          }
        },
        "7ac12514fd804acf8f4e1b444c96b938": {
          "model_module": "@jupyter-widgets/controls",
          "model_module_version": "1.5.0",
          "model_name": "HBoxModel",
          "state": {
            "_dom_classes": [],
            "_model_module": "@jupyter-widgets/controls",
            "_model_module_version": "1.5.0",
            "_model_name": "HBoxModel",
            "_view_count": null,
            "_view_module": "@jupyter-widgets/controls",
            "_view_module_version": "1.5.0",
            "_view_name": "HBoxView",
            "box_style": "",
            "children": [
              "IPY_MODEL_8eb2f4fe26664cb094ccba92b0b215af",
              "IPY_MODEL_8ee62c1b4c524faf8e3394a4597b79b1",
              "IPY_MODEL_4021ae345b28494284a172814663e88b"
            ],
            "layout": "IPY_MODEL_a282cbe42c324211b45f3c3e0b1eca7b"
          }
        },
        "7c3cd9a4732a432ab906227fdd9fe6cc": {
          "model_module": "@jupyter-widgets/controls",
          "model_module_version": "1.5.0",
          "model_name": "HBoxModel",
          "state": {
            "_dom_classes": [],
            "_model_module": "@jupyter-widgets/controls",
            "_model_module_version": "1.5.0",
            "_model_name": "HBoxModel",
            "_view_count": null,
            "_view_module": "@jupyter-widgets/controls",
            "_view_module_version": "1.5.0",
            "_view_name": "HBoxView",
            "box_style": "",
            "children": [
              "IPY_MODEL_5956a21421e64c4883ba75c63a496979",
              "IPY_MODEL_24df29114b0d458eb83a8df1fb64c452",
              "IPY_MODEL_f02d64518dd94d03999c56a1d96e44ad"
            ],
            "layout": "IPY_MODEL_9d54bd4753d4414881325d97ad6f7fd8"
          }
        },
        "85169ed2dc3049a19642579cd26b95de": {
          "model_module": "@jupyter-widgets/controls",
          "model_module_version": "1.5.0",
          "model_name": "DescriptionStyleModel",
          "state": {
            "_model_module": "@jupyter-widgets/controls",
            "_model_module_version": "1.5.0",
            "_model_name": "DescriptionStyleModel",
            "_view_count": null,
            "_view_module": "@jupyter-widgets/base",
            "_view_module_version": "1.2.0",
            "_view_name": "StyleView",
            "description_width": ""
          }
        },
        "88874ddb5d994a6c8d252cc5937dc81e": {
          "model_module": "@jupyter-widgets/base",
          "model_module_version": "1.2.0",
          "model_name": "LayoutModel",
          "state": {
            "_model_module": "@jupyter-widgets/base",
            "_model_module_version": "1.2.0",
            "_model_name": "LayoutModel",
            "_view_count": null,
            "_view_module": "@jupyter-widgets/base",
            "_view_module_version": "1.2.0",
            "_view_name": "LayoutView",
            "align_content": null,
            "align_items": null,
            "align_self": null,
            "border": null,
            "bottom": null,
            "display": null,
            "flex": null,
            "flex_flow": null,
            "grid_area": null,
            "grid_auto_columns": null,
            "grid_auto_flow": null,
            "grid_auto_rows": null,
            "grid_column": null,
            "grid_gap": null,
            "grid_row": null,
            "grid_template_areas": null,
            "grid_template_columns": null,
            "grid_template_rows": null,
            "height": null,
            "justify_content": null,
            "justify_items": null,
            "left": null,
            "margin": null,
            "max_height": null,
            "max_width": null,
            "min_height": null,
            "min_width": null,
            "object_fit": null,
            "object_position": null,
            "order": null,
            "overflow": null,
            "overflow_x": null,
            "overflow_y": null,
            "padding": null,
            "right": null,
            "top": null,
            "visibility": null,
            "width": null
          }
        },
        "8ae334adbf3f4e2580c1f72b021e25a5": {
          "model_module": "@jupyter-widgets/controls",
          "model_module_version": "1.5.0",
          "model_name": "FloatProgressModel",
          "state": {
            "_dom_classes": [],
            "_model_module": "@jupyter-widgets/controls",
            "_model_module_version": "1.5.0",
            "_model_name": "FloatProgressModel",
            "_view_count": null,
            "_view_module": "@jupyter-widgets/controls",
            "_view_module_version": "1.5.0",
            "_view_name": "ProgressView",
            "bar_style": "success",
            "description": "",
            "description_tooltip": null,
            "layout": "IPY_MODEL_6893e7db76684650838550b0ca253eea",
            "max": 392702,
            "min": 0,
            "orientation": "horizontal",
            "style": "IPY_MODEL_210c2e5cc04b4bba9d56634e7f0ade46",
            "value": 392702
          }
        },
        "8d92ef4d3d82443ba0e15bccd918b528": {
          "model_module": "@jupyter-widgets/base",
          "model_module_version": "1.2.0",
          "model_name": "LayoutModel",
          "state": {
            "_model_module": "@jupyter-widgets/base",
            "_model_module_version": "1.2.0",
            "_model_name": "LayoutModel",
            "_view_count": null,
            "_view_module": "@jupyter-widgets/base",
            "_view_module_version": "1.2.0",
            "_view_name": "LayoutView",
            "align_content": null,
            "align_items": null,
            "align_self": null,
            "border": null,
            "bottom": null,
            "display": null,
            "flex": null,
            "flex_flow": null,
            "grid_area": null,
            "grid_auto_columns": null,
            "grid_auto_flow": null,
            "grid_auto_rows": null,
            "grid_column": null,
            "grid_gap": null,
            "grid_row": null,
            "grid_template_areas": null,
            "grid_template_columns": null,
            "grid_template_rows": null,
            "height": null,
            "justify_content": null,
            "justify_items": null,
            "left": null,
            "margin": null,
            "max_height": null,
            "max_width": null,
            "min_height": null,
            "min_width": null,
            "object_fit": null,
            "object_position": null,
            "order": null,
            "overflow": null,
            "overflow_x": null,
            "overflow_y": null,
            "padding": null,
            "right": null,
            "top": null,
            "visibility": null,
            "width": null
          }
        },
        "8eb2f4fe26664cb094ccba92b0b215af": {
          "model_module": "@jupyter-widgets/controls",
          "model_module_version": "1.5.0",
          "model_name": "HTMLModel",
          "state": {
            "_dom_classes": [],
            "_model_module": "@jupyter-widgets/controls",
            "_model_module_version": "1.5.0",
            "_model_name": "HTMLModel",
            "_view_count": null,
            "_view_module": "@jupyter-widgets/controls",
            "_view_module_version": "1.5.0",
            "_view_name": "HTMLView",
            "description": "",
            "description_tooltip": null,
            "layout": "IPY_MODEL_71b242a446164ae0ad9745f89bc605aa",
            "placeholder": "​",
            "style": "IPY_MODEL_147aac500766481987373461eaac946e",
            "value": "100%"
          }
        },
        "8ee62c1b4c524faf8e3394a4597b79b1": {
          "model_module": "@jupyter-widgets/controls",
          "model_module_version": "1.5.0",
          "model_name": "FloatProgressModel",
          "state": {
            "_dom_classes": [],
            "_model_module": "@jupyter-widgets/controls",
            "_model_module_version": "1.5.0",
            "_model_name": "FloatProgressModel",
            "_view_count": null,
            "_view_module": "@jupyter-widgets/controls",
            "_view_module_version": "1.5.0",
            "_view_name": "ProgressView",
            "bar_style": "success",
            "description": "",
            "description_tooltip": null,
            "layout": "IPY_MODEL_fc8ea273438f420f881af41bf79a349c",
            "max": 392702,
            "min": 0,
            "orientation": "horizontal",
            "style": "IPY_MODEL_5b2efb450b654d368ee3e94dc77d4a83",
            "value": 392702
          }
        },
        "8fe0c3927c5f4f449b75272a2208fa1a": {
          "model_module": "@jupyter-widgets/controls",
          "model_module_version": "1.5.0",
          "model_name": "ProgressStyleModel",
          "state": {
            "_model_module": "@jupyter-widgets/controls",
            "_model_module_version": "1.5.0",
            "_model_name": "ProgressStyleModel",
            "_view_count": null,
            "_view_module": "@jupyter-widgets/base",
            "_view_module_version": "1.2.0",
            "_view_name": "StyleView",
            "bar_color": null,
            "description_width": ""
          }
        },
        "913eb437ec1841b4886c59be4e28127d": {
          "model_module": "@jupyter-widgets/base",
          "model_module_version": "1.2.0",
          "model_name": "LayoutModel",
          "state": {
            "_model_module": "@jupyter-widgets/base",
            "_model_module_version": "1.2.0",
            "_model_name": "LayoutModel",
            "_view_count": null,
            "_view_module": "@jupyter-widgets/base",
            "_view_module_version": "1.2.0",
            "_view_name": "LayoutView",
            "align_content": null,
            "align_items": null,
            "align_self": null,
            "border": null,
            "bottom": null,
            "display": null,
            "flex": null,
            "flex_flow": null,
            "grid_area": null,
            "grid_auto_columns": null,
            "grid_auto_flow": null,
            "grid_auto_rows": null,
            "grid_column": null,
            "grid_gap": null,
            "grid_row": null,
            "grid_template_areas": null,
            "grid_template_columns": null,
            "grid_template_rows": null,
            "height": null,
            "justify_content": null,
            "justify_items": null,
            "left": null,
            "margin": null,
            "max_height": null,
            "max_width": null,
            "min_height": null,
            "min_width": null,
            "object_fit": null,
            "object_position": null,
            "order": null,
            "overflow": null,
            "overflow_x": null,
            "overflow_y": null,
            "padding": null,
            "right": null,
            "top": null,
            "visibility": null,
            "width": null
          }
        },
        "9762bdc8fdbf4209a19ff6d4bbe673a6": {
          "model_module": "@jupyter-widgets/base",
          "model_module_version": "1.2.0",
          "model_name": "LayoutModel",
          "state": {
            "_model_module": "@jupyter-widgets/base",
            "_model_module_version": "1.2.0",
            "_model_name": "LayoutModel",
            "_view_count": null,
            "_view_module": "@jupyter-widgets/base",
            "_view_module_version": "1.2.0",
            "_view_name": "LayoutView",
            "align_content": null,
            "align_items": null,
            "align_self": null,
            "border": null,
            "bottom": null,
            "display": null,
            "flex": null,
            "flex_flow": null,
            "grid_area": null,
            "grid_auto_columns": null,
            "grid_auto_flow": null,
            "grid_auto_rows": null,
            "grid_column": null,
            "grid_gap": null,
            "grid_row": null,
            "grid_template_areas": null,
            "grid_template_columns": null,
            "grid_template_rows": null,
            "height": null,
            "justify_content": null,
            "justify_items": null,
            "left": null,
            "margin": null,
            "max_height": null,
            "max_width": null,
            "min_height": null,
            "min_width": null,
            "object_fit": null,
            "object_position": null,
            "order": null,
            "overflow": null,
            "overflow_x": null,
            "overflow_y": null,
            "padding": null,
            "right": null,
            "top": null,
            "visibility": null,
            "width": null
          }
        },
        "9d54bd4753d4414881325d97ad6f7fd8": {
          "model_module": "@jupyter-widgets/base",
          "model_module_version": "1.2.0",
          "model_name": "LayoutModel",
          "state": {
            "_model_module": "@jupyter-widgets/base",
            "_model_module_version": "1.2.0",
            "_model_name": "LayoutModel",
            "_view_count": null,
            "_view_module": "@jupyter-widgets/base",
            "_view_module_version": "1.2.0",
            "_view_name": "LayoutView",
            "align_content": null,
            "align_items": null,
            "align_self": null,
            "border": null,
            "bottom": null,
            "display": null,
            "flex": null,
            "flex_flow": null,
            "grid_area": null,
            "grid_auto_columns": null,
            "grid_auto_flow": null,
            "grid_auto_rows": null,
            "grid_column": null,
            "grid_gap": null,
            "grid_row": null,
            "grid_template_areas": null,
            "grid_template_columns": null,
            "grid_template_rows": null,
            "height": null,
            "justify_content": null,
            "justify_items": null,
            "left": null,
            "margin": null,
            "max_height": null,
            "max_width": null,
            "min_height": null,
            "min_width": null,
            "object_fit": null,
            "object_position": null,
            "order": null,
            "overflow": null,
            "overflow_x": null,
            "overflow_y": null,
            "padding": null,
            "right": null,
            "top": null,
            "visibility": null,
            "width": null
          }
        },
        "a196c42187ba4ce3ba442de077383295": {
          "model_module": "@jupyter-widgets/controls",
          "model_module_version": "1.5.0",
          "model_name": "FloatProgressModel",
          "state": {
            "_dom_classes": [],
            "_model_module": "@jupyter-widgets/controls",
            "_model_module_version": "1.5.0",
            "_model_name": "FloatProgressModel",
            "_view_count": null,
            "_view_module": "@jupyter-widgets/controls",
            "_view_module_version": "1.5.0",
            "_view_name": "ProgressView",
            "bar_style": "success",
            "description": "",
            "description_tooltip": null,
            "layout": "IPY_MODEL_780ea796ba104da183b6d7f67b57b035",
            "max": 2490,
            "min": 0,
            "orientation": "horizontal",
            "style": "IPY_MODEL_76d8c468e52644e09330b21eb931d035",
            "value": 2490
          }
        },
        "a282cbe42c324211b45f3c3e0b1eca7b": {
          "model_module": "@jupyter-widgets/base",
          "model_module_version": "1.2.0",
          "model_name": "LayoutModel",
          "state": {
            "_model_module": "@jupyter-widgets/base",
            "_model_module_version": "1.2.0",
            "_model_name": "LayoutModel",
            "_view_count": null,
            "_view_module": "@jupyter-widgets/base",
            "_view_module_version": "1.2.0",
            "_view_name": "LayoutView",
            "align_content": null,
            "align_items": null,
            "align_self": null,
            "border": null,
            "bottom": null,
            "display": null,
            "flex": null,
            "flex_flow": null,
            "grid_area": null,
            "grid_auto_columns": null,
            "grid_auto_flow": null,
            "grid_auto_rows": null,
            "grid_column": null,
            "grid_gap": null,
            "grid_row": null,
            "grid_template_areas": null,
            "grid_template_columns": null,
            "grid_template_rows": null,
            "height": null,
            "justify_content": null,
            "justify_items": null,
            "left": null,
            "margin": null,
            "max_height": null,
            "max_width": null,
            "min_height": null,
            "min_width": null,
            "object_fit": null,
            "object_position": null,
            "order": null,
            "overflow": null,
            "overflow_x": null,
            "overflow_y": null,
            "padding": null,
            "right": null,
            "top": null,
            "visibility": null,
            "width": null
          }
        },
        "a32b5854d7294f48b5dad4745f18bae3": {
          "model_module": "@jupyter-widgets/controls",
          "model_module_version": "1.5.0",
          "model_name": "DescriptionStyleModel",
          "state": {
            "_model_module": "@jupyter-widgets/controls",
            "_model_module_version": "1.5.0",
            "_model_name": "DescriptionStyleModel",
            "_view_count": null,
            "_view_module": "@jupyter-widgets/base",
            "_view_module_version": "1.2.0",
            "_view_name": "StyleView",
            "description_width": ""
          }
        },
        "a32b5c624adc4acf9e9338b212bd12ae": {
          "model_module": "@jupyter-widgets/controls",
          "model_module_version": "1.5.0",
          "model_name": "HTMLModel",
          "state": {
            "_dom_classes": [],
            "_model_module": "@jupyter-widgets/controls",
            "_model_module_version": "1.5.0",
            "_model_name": "HTMLModel",
            "_view_count": null,
            "_view_module": "@jupyter-widgets/controls",
            "_view_module_version": "1.5.0",
            "_view_name": "HTMLView",
            "description": "",
            "description_tooltip": null,
            "layout": "IPY_MODEL_39b94cc6a1314fe393bd960e248c3183",
            "placeholder": "​",
            "style": "IPY_MODEL_e9f2e023608c42d78ee36a2dca379f68",
            "value": "100%"
          }
        },
        "ad0dc9c50f1b4ce28c9505ba905fda6d": {
          "model_module": "@jupyter-widgets/base",
          "model_module_version": "1.2.0",
          "model_name": "LayoutModel",
          "state": {
            "_model_module": "@jupyter-widgets/base",
            "_model_module_version": "1.2.0",
            "_model_name": "LayoutModel",
            "_view_count": null,
            "_view_module": "@jupyter-widgets/base",
            "_view_module_version": "1.2.0",
            "_view_name": "LayoutView",
            "align_content": null,
            "align_items": null,
            "align_self": null,
            "border": null,
            "bottom": null,
            "display": null,
            "flex": null,
            "flex_flow": null,
            "grid_area": null,
            "grid_auto_columns": null,
            "grid_auto_flow": null,
            "grid_auto_rows": null,
            "grid_column": null,
            "grid_gap": null,
            "grid_row": null,
            "grid_template_areas": null,
            "grid_template_columns": null,
            "grid_template_rows": null,
            "height": null,
            "justify_content": null,
            "justify_items": null,
            "left": null,
            "margin": null,
            "max_height": null,
            "max_width": null,
            "min_height": null,
            "min_width": null,
            "object_fit": null,
            "object_position": null,
            "order": null,
            "overflow": null,
            "overflow_x": null,
            "overflow_y": null,
            "padding": null,
            "right": null,
            "top": null,
            "visibility": null,
            "width": null
          }
        },
        "add35cd1eb0240459a10bf226d7cbf71": {
          "model_module": "@jupyter-widgets/base",
          "model_module_version": "1.2.0",
          "model_name": "LayoutModel",
          "state": {
            "_model_module": "@jupyter-widgets/base",
            "_model_module_version": "1.2.0",
            "_model_name": "LayoutModel",
            "_view_count": null,
            "_view_module": "@jupyter-widgets/base",
            "_view_module_version": "1.2.0",
            "_view_name": "LayoutView",
            "align_content": null,
            "align_items": null,
            "align_self": null,
            "border": null,
            "bottom": null,
            "display": null,
            "flex": null,
            "flex_flow": null,
            "grid_area": null,
            "grid_auto_columns": null,
            "grid_auto_flow": null,
            "grid_auto_rows": null,
            "grid_column": null,
            "grid_gap": null,
            "grid_row": null,
            "grid_template_areas": null,
            "grid_template_columns": null,
            "grid_template_rows": null,
            "height": null,
            "justify_content": null,
            "justify_items": null,
            "left": null,
            "margin": null,
            "max_height": null,
            "max_width": null,
            "min_height": null,
            "min_width": null,
            "object_fit": null,
            "object_position": null,
            "order": null,
            "overflow": null,
            "overflow_x": null,
            "overflow_y": null,
            "padding": null,
            "right": null,
            "top": null,
            "visibility": null,
            "width": null
          }
        },
        "ae476c29c6b8449ebc6e27997666b388": {
          "model_module": "@jupyter-widgets/base",
          "model_module_version": "1.2.0",
          "model_name": "LayoutModel",
          "state": {
            "_model_module": "@jupyter-widgets/base",
            "_model_module_version": "1.2.0",
            "_model_name": "LayoutModel",
            "_view_count": null,
            "_view_module": "@jupyter-widgets/base",
            "_view_module_version": "1.2.0",
            "_view_name": "LayoutView",
            "align_content": null,
            "align_items": null,
            "align_self": null,
            "border": null,
            "bottom": null,
            "display": null,
            "flex": null,
            "flex_flow": null,
            "grid_area": null,
            "grid_auto_columns": null,
            "grid_auto_flow": null,
            "grid_auto_rows": null,
            "grid_column": null,
            "grid_gap": null,
            "grid_row": null,
            "grid_template_areas": null,
            "grid_template_columns": null,
            "grid_template_rows": null,
            "height": null,
            "justify_content": null,
            "justify_items": null,
            "left": null,
            "margin": null,
            "max_height": null,
            "max_width": null,
            "min_height": null,
            "min_width": null,
            "object_fit": null,
            "object_position": null,
            "order": null,
            "overflow": null,
            "overflow_x": null,
            "overflow_y": null,
            "padding": null,
            "right": null,
            "top": null,
            "visibility": null,
            "width": null
          }
        },
        "aefad9bf0be54eacac78db01b86535d5": {
          "model_module": "@jupyter-widgets/controls",
          "model_module_version": "1.5.0",
          "model_name": "DescriptionStyleModel",
          "state": {
            "_model_module": "@jupyter-widgets/controls",
            "_model_module_version": "1.5.0",
            "_model_name": "DescriptionStyleModel",
            "_view_count": null,
            "_view_module": "@jupyter-widgets/base",
            "_view_module_version": "1.2.0",
            "_view_name": "StyleView",
            "description_width": ""
          }
        },
        "b01dace8974047658b90c78381605b26": {
          "model_module": "@jupyter-widgets/controls",
          "model_module_version": "1.5.0",
          "model_name": "FloatProgressModel",
          "state": {
            "_dom_classes": [],
            "_model_module": "@jupyter-widgets/controls",
            "_model_module_version": "1.5.0",
            "_model_name": "FloatProgressModel",
            "_view_count": null,
            "_view_module": "@jupyter-widgets/controls",
            "_view_module_version": "1.5.0",
            "_view_name": "ProgressView",
            "bar_style": "success",
            "description": "",
            "description_tooltip": null,
            "layout": "IPY_MODEL_c8b1c9c9a9e649f796f0c7509c659d6c",
            "max": 392702,
            "min": 0,
            "orientation": "horizontal",
            "style": "IPY_MODEL_23254f669de348349976e77b3cd99e68",
            "value": 392702
          }
        },
        "b22040e53a4c4a49a207581a5ec27972": {
          "model_module": "@jupyter-widgets/base",
          "model_module_version": "1.2.0",
          "model_name": "LayoutModel",
          "state": {
            "_model_module": "@jupyter-widgets/base",
            "_model_module_version": "1.2.0",
            "_model_name": "LayoutModel",
            "_view_count": null,
            "_view_module": "@jupyter-widgets/base",
            "_view_module_version": "1.2.0",
            "_view_name": "LayoutView",
            "align_content": null,
            "align_items": null,
            "align_self": null,
            "border": null,
            "bottom": null,
            "display": null,
            "flex": null,
            "flex_flow": null,
            "grid_area": null,
            "grid_auto_columns": null,
            "grid_auto_flow": null,
            "grid_auto_rows": null,
            "grid_column": null,
            "grid_gap": null,
            "grid_row": null,
            "grid_template_areas": null,
            "grid_template_columns": null,
            "grid_template_rows": null,
            "height": null,
            "justify_content": null,
            "justify_items": null,
            "left": null,
            "margin": null,
            "max_height": null,
            "max_width": null,
            "min_height": null,
            "min_width": null,
            "object_fit": null,
            "object_position": null,
            "order": null,
            "overflow": null,
            "overflow_x": null,
            "overflow_y": null,
            "padding": null,
            "right": null,
            "top": null,
            "visibility": null,
            "width": null
          }
        },
        "b56cebb630424d8fab43c04b4a834cd5": {
          "model_module": "@jupyter-widgets/controls",
          "model_module_version": "1.5.0",
          "model_name": "DescriptionStyleModel",
          "state": {
            "_model_module": "@jupyter-widgets/controls",
            "_model_module_version": "1.5.0",
            "_model_name": "DescriptionStyleModel",
            "_view_count": null,
            "_view_module": "@jupyter-widgets/base",
            "_view_module_version": "1.2.0",
            "_view_name": "StyleView",
            "description_width": ""
          }
        },
        "b5ca5b6839c14f39bbb2ade6521853d7": {
          "model_module": "@jupyter-widgets/controls",
          "model_module_version": "1.5.0",
          "model_name": "DescriptionStyleModel",
          "state": {
            "_model_module": "@jupyter-widgets/controls",
            "_model_module_version": "1.5.0",
            "_model_name": "DescriptionStyleModel",
            "_view_count": null,
            "_view_module": "@jupyter-widgets/base",
            "_view_module_version": "1.2.0",
            "_view_name": "StyleView",
            "description_width": ""
          }
        },
        "b766408c12ac4829bc9e0db7d7409a91": {
          "model_module": "@jupyter-widgets/controls",
          "model_module_version": "1.5.0",
          "model_name": "FloatProgressModel",
          "state": {
            "_dom_classes": [],
            "_model_module": "@jupyter-widgets/controls",
            "_model_module_version": "1.5.0",
            "_model_name": "FloatProgressModel",
            "_view_count": null,
            "_view_module": "@jupyter-widgets/controls",
            "_view_module_version": "1.5.0",
            "_view_name": "ProgressView",
            "bar_style": "",
            "description": "",
            "description_tooltip": null,
            "layout": "IPY_MODEL_177fe7bf266d4e959c6c435cb7174a39",
            "max": 5010,
            "min": 0,
            "orientation": "horizontal",
            "style": "IPY_MODEL_8fe0c3927c5f4f449b75272a2208fa1a",
            "value": 1730
          }
        },
        "bb7bbcb3a8bc49f486dcd524257713d6": {
          "model_module": "@jupyter-widgets/controls",
          "model_module_version": "1.5.0",
          "model_name": "HBoxModel",
          "state": {
            "_dom_classes": [],
            "_model_module": "@jupyter-widgets/controls",
            "_model_module_version": "1.5.0",
            "_model_name": "HBoxModel",
            "_view_count": null,
            "_view_module": "@jupyter-widgets/controls",
            "_view_module_version": "1.5.0",
            "_view_name": "HBoxView",
            "box_style": "",
            "children": [
              "IPY_MODEL_e091419f48f54a0f9230539022372500",
              "IPY_MODEL_b766408c12ac4829bc9e0db7d7409a91",
              "IPY_MODEL_bed627bc96914ee4ba19043dcac8e27e"
            ],
            "layout": "IPY_MODEL_495ef735a5934e19ace994c6eda60efe"
          }
        },
        "bed627bc96914ee4ba19043dcac8e27e": {
          "model_module": "@jupyter-widgets/controls",
          "model_module_version": "1.5.0",
          "model_name": "HTMLModel",
          "state": {
            "_dom_classes": [],
            "_model_module": "@jupyter-widgets/controls",
            "_model_module_version": "1.5.0",
            "_model_name": "HTMLModel",
            "_view_count": null,
            "_view_module": "@jupyter-widgets/controls",
            "_view_module_version": "1.5.0",
            "_view_name": "HTMLView",
            "description": "",
            "description_tooltip": null,
            "layout": "IPY_MODEL_ae476c29c6b8449ebc6e27997666b388",
            "placeholder": "​",
            "style": "IPY_MODEL_ea2ae7a2236d40808df13ca6923d7d73",
            "value": " 1730/5010 [00:23&lt;00:43, 74.73it/s]"
          }
        },
        "c8b1c9c9a9e649f796f0c7509c659d6c": {
          "model_module": "@jupyter-widgets/base",
          "model_module_version": "1.2.0",
          "model_name": "LayoutModel",
          "state": {
            "_model_module": "@jupyter-widgets/base",
            "_model_module_version": "1.2.0",
            "_model_name": "LayoutModel",
            "_view_count": null,
            "_view_module": "@jupyter-widgets/base",
            "_view_module_version": "1.2.0",
            "_view_name": "LayoutView",
            "align_content": null,
            "align_items": null,
            "align_self": null,
            "border": null,
            "bottom": null,
            "display": null,
            "flex": null,
            "flex_flow": null,
            "grid_area": null,
            "grid_auto_columns": null,
            "grid_auto_flow": null,
            "grid_auto_rows": null,
            "grid_column": null,
            "grid_gap": null,
            "grid_row": null,
            "grid_template_areas": null,
            "grid_template_columns": null,
            "grid_template_rows": null,
            "height": null,
            "justify_content": null,
            "justify_items": null,
            "left": null,
            "margin": null,
            "max_height": null,
            "max_width": null,
            "min_height": null,
            "min_width": null,
            "object_fit": null,
            "object_position": null,
            "order": null,
            "overflow": null,
            "overflow_x": null,
            "overflow_y": null,
            "padding": null,
            "right": null,
            "top": null,
            "visibility": null,
            "width": null
          }
        },
        "d1439d49b7734478ad70c83718614428": {
          "model_module": "@jupyter-widgets/controls",
          "model_module_version": "1.5.0",
          "model_name": "HTMLModel",
          "state": {
            "_dom_classes": [],
            "_model_module": "@jupyter-widgets/controls",
            "_model_module_version": "1.5.0",
            "_model_name": "HTMLModel",
            "_view_count": null,
            "_view_module": "@jupyter-widgets/controls",
            "_view_module_version": "1.5.0",
            "_view_name": "HTMLView",
            "description": "",
            "description_tooltip": null,
            "layout": "IPY_MODEL_ad0dc9c50f1b4ce28c9505ba905fda6d",
            "placeholder": "​",
            "style": "IPY_MODEL_fe90ce0d3a8146d1980124b6b3102054",
            "value": " 392702/392702 [14:18&lt;00:00, 1012.30it/s]"
          }
        },
        "d1e4f4e9ae3649ca91490a1b6381e9b7": {
          "model_module": "@jupyter-widgets/base",
          "model_module_version": "1.2.0",
          "model_name": "LayoutModel",
          "state": {
            "_model_module": "@jupyter-widgets/base",
            "_model_module_version": "1.2.0",
            "_model_name": "LayoutModel",
            "_view_count": null,
            "_view_module": "@jupyter-widgets/base",
            "_view_module_version": "1.2.0",
            "_view_name": "LayoutView",
            "align_content": null,
            "align_items": null,
            "align_self": null,
            "border": null,
            "bottom": null,
            "display": null,
            "flex": null,
            "flex_flow": null,
            "grid_area": null,
            "grid_auto_columns": null,
            "grid_auto_flow": null,
            "grid_auto_rows": null,
            "grid_column": null,
            "grid_gap": null,
            "grid_row": null,
            "grid_template_areas": null,
            "grid_template_columns": null,
            "grid_template_rows": null,
            "height": null,
            "justify_content": null,
            "justify_items": null,
            "left": null,
            "margin": null,
            "max_height": null,
            "max_width": null,
            "min_height": null,
            "min_width": null,
            "object_fit": null,
            "object_position": null,
            "order": null,
            "overflow": null,
            "overflow_x": null,
            "overflow_y": null,
            "padding": null,
            "right": null,
            "top": null,
            "visibility": null,
            "width": null
          }
        },
        "d1e7cab96a4b46d99ce2ad4ac1226b16": {
          "model_module": "@jupyter-widgets/controls",
          "model_module_version": "1.5.0",
          "model_name": "DescriptionStyleModel",
          "state": {
            "_model_module": "@jupyter-widgets/controls",
            "_model_module_version": "1.5.0",
            "_model_name": "DescriptionStyleModel",
            "_view_count": null,
            "_view_module": "@jupyter-widgets/base",
            "_view_module_version": "1.2.0",
            "_view_name": "StyleView",
            "description_width": ""
          }
        },
        "e091419f48f54a0f9230539022372500": {
          "model_module": "@jupyter-widgets/controls",
          "model_module_version": "1.5.0",
          "model_name": "HTMLModel",
          "state": {
            "_dom_classes": [],
            "_model_module": "@jupyter-widgets/controls",
            "_model_module_version": "1.5.0",
            "_model_name": "HTMLModel",
            "_view_count": null,
            "_view_module": "@jupyter-widgets/controls",
            "_view_module_version": "1.5.0",
            "_view_name": "HTMLView",
            "description": "",
            "description_tooltip": null,
            "layout": "IPY_MODEL_527da3b0ce564d4e9f42b4021668bfb4",
            "placeholder": "​",
            "style": "IPY_MODEL_b5ca5b6839c14f39bbb2ade6521853d7",
            "value": " 35%"
          }
        },
        "e31c06fe9ef5474f912f5b9aa13559b0": {
          "model_module": "@jupyter-widgets/controls",
          "model_module_version": "1.5.0",
          "model_name": "HTMLModel",
          "state": {
            "_dom_classes": [],
            "_model_module": "@jupyter-widgets/controls",
            "_model_module_version": "1.5.0",
            "_model_name": "HTMLModel",
            "_view_count": null,
            "_view_module": "@jupyter-widgets/controls",
            "_view_module_version": "1.5.0",
            "_view_name": "HTMLView",
            "description": "",
            "description_tooltip": null,
            "layout": "IPY_MODEL_d1e4f4e9ae3649ca91490a1b6381e9b7",
            "placeholder": "​",
            "style": "IPY_MODEL_13eb14a160da45cf871aa880a33f6e8c",
            "value": "100%"
          }
        },
        "e9f2e023608c42d78ee36a2dca379f68": {
          "model_module": "@jupyter-widgets/controls",
          "model_module_version": "1.5.0",
          "model_name": "DescriptionStyleModel",
          "state": {
            "_model_module": "@jupyter-widgets/controls",
            "_model_module_version": "1.5.0",
            "_model_name": "DescriptionStyleModel",
            "_view_count": null,
            "_view_module": "@jupyter-widgets/base",
            "_view_module_version": "1.2.0",
            "_view_name": "StyleView",
            "description_width": ""
          }
        },
        "ea2ae7a2236d40808df13ca6923d7d73": {
          "model_module": "@jupyter-widgets/controls",
          "model_module_version": "1.5.0",
          "model_name": "DescriptionStyleModel",
          "state": {
            "_model_module": "@jupyter-widgets/controls",
            "_model_module_version": "1.5.0",
            "_model_name": "DescriptionStyleModel",
            "_view_count": null,
            "_view_module": "@jupyter-widgets/base",
            "_view_module_version": "1.2.0",
            "_view_name": "StyleView",
            "description_width": ""
          }
        },
        "f02d64518dd94d03999c56a1d96e44ad": {
          "model_module": "@jupyter-widgets/controls",
          "model_module_version": "1.5.0",
          "model_name": "HTMLModel",
          "state": {
            "_dom_classes": [],
            "_model_module": "@jupyter-widgets/controls",
            "_model_module_version": "1.5.0",
            "_model_name": "HTMLModel",
            "_view_count": null,
            "_view_module": "@jupyter-widgets/controls",
            "_view_module_version": "1.5.0",
            "_view_name": "HTMLView",
            "description": "",
            "description_tooltip": null,
            "layout": "IPY_MODEL_0b8e13b73d67473cb8d8587e33efb29b",
            "placeholder": "​",
            "style": "IPY_MODEL_85169ed2dc3049a19642579cd26b95de",
            "value": " 2490/2490 [00:00&lt;00:00, 359.81it/s]"
          }
        },
        "f8265cf57d2949ee85f111e8303d5261": {
          "model_module": "@jupyter-widgets/controls",
          "model_module_version": "1.5.0",
          "model_name": "DescriptionStyleModel",
          "state": {
            "_model_module": "@jupyter-widgets/controls",
            "_model_module_version": "1.5.0",
            "_model_name": "DescriptionStyleModel",
            "_view_count": null,
            "_view_module": "@jupyter-widgets/base",
            "_view_module_version": "1.2.0",
            "_view_name": "StyleView",
            "description_width": ""
          }
        },
        "fc8ea273438f420f881af41bf79a349c": {
          "model_module": "@jupyter-widgets/base",
          "model_module_version": "1.2.0",
          "model_name": "LayoutModel",
          "state": {
            "_model_module": "@jupyter-widgets/base",
            "_model_module_version": "1.2.0",
            "_model_name": "LayoutModel",
            "_view_count": null,
            "_view_module": "@jupyter-widgets/base",
            "_view_module_version": "1.2.0",
            "_view_name": "LayoutView",
            "align_content": null,
            "align_items": null,
            "align_self": null,
            "border": null,
            "bottom": null,
            "display": null,
            "flex": null,
            "flex_flow": null,
            "grid_area": null,
            "grid_auto_columns": null,
            "grid_auto_flow": null,
            "grid_auto_rows": null,
            "grid_column": null,
            "grid_gap": null,
            "grid_row": null,
            "grid_template_areas": null,
            "grid_template_columns": null,
            "grid_template_rows": null,
            "height": null,
            "justify_content": null,
            "justify_items": null,
            "left": null,
            "margin": null,
            "max_height": null,
            "max_width": null,
            "min_height": null,
            "min_width": null,
            "object_fit": null,
            "object_position": null,
            "order": null,
            "overflow": null,
            "overflow_x": null,
            "overflow_y": null,
            "padding": null,
            "right": null,
            "top": null,
            "visibility": null,
            "width": null
          }
        },
        "fe90ce0d3a8146d1980124b6b3102054": {
          "model_module": "@jupyter-widgets/controls",
          "model_module_version": "1.5.0",
          "model_name": "DescriptionStyleModel",
          "state": {
            "_model_module": "@jupyter-widgets/controls",
            "_model_module_version": "1.5.0",
            "_model_name": "DescriptionStyleModel",
            "_view_count": null,
            "_view_module": "@jupyter-widgets/base",
            "_view_module_version": "1.2.0",
            "_view_name": "StyleView",
            "description_width": ""
          }
        },
        "42245c9fbe2d46c89936ee72f19f7a03": {
          "model_module": "@jupyter-widgets/controls",
          "model_name": "HBoxModel",
          "model_module_version": "1.5.0",
          "state": {
            "_dom_classes": [],
            "_model_module": "@jupyter-widgets/controls",
            "_model_module_version": "1.5.0",
            "_model_name": "HBoxModel",
            "_view_count": null,
            "_view_module": "@jupyter-widgets/controls",
            "_view_module_version": "1.5.0",
            "_view_name": "HBoxView",
            "box_style": "",
            "children": [
              "IPY_MODEL_b0856028e3b64c29af166eaf6500522b",
              "IPY_MODEL_59b86d6f393e4c76ad0c6a65ffb4675f",
              "IPY_MODEL_43968ef18ed344d0b6bff8373895c3f1"
            ],
            "layout": "IPY_MODEL_0647cb24b22d4a948f32b53037f6bfb6"
          }
        },
        "b0856028e3b64c29af166eaf6500522b": {
          "model_module": "@jupyter-widgets/controls",
          "model_name": "HTMLModel",
          "model_module_version": "1.5.0",
          "state": {
            "_dom_classes": [],
            "_model_module": "@jupyter-widgets/controls",
            "_model_module_version": "1.5.0",
            "_model_name": "HTMLModel",
            "_view_count": null,
            "_view_module": "@jupyter-widgets/controls",
            "_view_module_version": "1.5.0",
            "_view_name": "HTMLView",
            "description": "",
            "description_tooltip": null,
            "layout": "IPY_MODEL_1efe5a424424465ebedf1ef9a1bef9c4",
            "placeholder": "​",
            "style": "IPY_MODEL_8f858762548842a98899d9a1b42c3b4f",
            "value": "Downloading: 100%"
          }
        },
        "59b86d6f393e4c76ad0c6a65ffb4675f": {
          "model_module": "@jupyter-widgets/controls",
          "model_name": "FloatProgressModel",
          "model_module_version": "1.5.0",
          "state": {
            "_dom_classes": [],
            "_model_module": "@jupyter-widgets/controls",
            "_model_module_version": "1.5.0",
            "_model_name": "FloatProgressModel",
            "_view_count": null,
            "_view_module": "@jupyter-widgets/controls",
            "_view_module_version": "1.5.0",
            "_view_name": "ProgressView",
            "bar_style": "success",
            "description": "",
            "description_tooltip": null,
            "layout": "IPY_MODEL_59b8ff98ac9a4ecbb9485fd10b8a27e2",
            "max": 615,
            "min": 0,
            "orientation": "horizontal",
            "style": "IPY_MODEL_32c0e2cb345e4f49869529dcb68cbdd5",
            "value": 615
          }
        },
        "43968ef18ed344d0b6bff8373895c3f1": {
          "model_module": "@jupyter-widgets/controls",
          "model_name": "HTMLModel",
          "model_module_version": "1.5.0",
          "state": {
            "_dom_classes": [],
            "_model_module": "@jupyter-widgets/controls",
            "_model_module_version": "1.5.0",
            "_model_name": "HTMLModel",
            "_view_count": null,
            "_view_module": "@jupyter-widgets/controls",
            "_view_module_version": "1.5.0",
            "_view_name": "HTMLView",
            "description": "",
            "description_tooltip": null,
            "layout": "IPY_MODEL_96654f9d1356464283fb712a680c50c4",
            "placeholder": "​",
            "style": "IPY_MODEL_0f055bef20aa45268617ca14d5a09bbb",
            "value": " 615/615 [00:00&lt;00:00, 7.14kB/s]"
          }
        },
        "0647cb24b22d4a948f32b53037f6bfb6": {
          "model_module": "@jupyter-widgets/base",
          "model_name": "LayoutModel",
          "model_module_version": "1.2.0",
          "state": {
            "_model_module": "@jupyter-widgets/base",
            "_model_module_version": "1.2.0",
            "_model_name": "LayoutModel",
            "_view_count": null,
            "_view_module": "@jupyter-widgets/base",
            "_view_module_version": "1.2.0",
            "_view_name": "LayoutView",
            "align_content": null,
            "align_items": null,
            "align_self": null,
            "border": null,
            "bottom": null,
            "display": null,
            "flex": null,
            "flex_flow": null,
            "grid_area": null,
            "grid_auto_columns": null,
            "grid_auto_flow": null,
            "grid_auto_rows": null,
            "grid_column": null,
            "grid_gap": null,
            "grid_row": null,
            "grid_template_areas": null,
            "grid_template_columns": null,
            "grid_template_rows": null,
            "height": null,
            "justify_content": null,
            "justify_items": null,
            "left": null,
            "margin": null,
            "max_height": null,
            "max_width": null,
            "min_height": null,
            "min_width": null,
            "object_fit": null,
            "object_position": null,
            "order": null,
            "overflow": null,
            "overflow_x": null,
            "overflow_y": null,
            "padding": null,
            "right": null,
            "top": null,
            "visibility": null,
            "width": null
          }
        },
        "1efe5a424424465ebedf1ef9a1bef9c4": {
          "model_module": "@jupyter-widgets/base",
          "model_name": "LayoutModel",
          "model_module_version": "1.2.0",
          "state": {
            "_model_module": "@jupyter-widgets/base",
            "_model_module_version": "1.2.0",
            "_model_name": "LayoutModel",
            "_view_count": null,
            "_view_module": "@jupyter-widgets/base",
            "_view_module_version": "1.2.0",
            "_view_name": "LayoutView",
            "align_content": null,
            "align_items": null,
            "align_self": null,
            "border": null,
            "bottom": null,
            "display": null,
            "flex": null,
            "flex_flow": null,
            "grid_area": null,
            "grid_auto_columns": null,
            "grid_auto_flow": null,
            "grid_auto_rows": null,
            "grid_column": null,
            "grid_gap": null,
            "grid_row": null,
            "grid_template_areas": null,
            "grid_template_columns": null,
            "grid_template_rows": null,
            "height": null,
            "justify_content": null,
            "justify_items": null,
            "left": null,
            "margin": null,
            "max_height": null,
            "max_width": null,
            "min_height": null,
            "min_width": null,
            "object_fit": null,
            "object_position": null,
            "order": null,
            "overflow": null,
            "overflow_x": null,
            "overflow_y": null,
            "padding": null,
            "right": null,
            "top": null,
            "visibility": null,
            "width": null
          }
        },
        "8f858762548842a98899d9a1b42c3b4f": {
          "model_module": "@jupyter-widgets/controls",
          "model_name": "DescriptionStyleModel",
          "model_module_version": "1.5.0",
          "state": {
            "_model_module": "@jupyter-widgets/controls",
            "_model_module_version": "1.5.0",
            "_model_name": "DescriptionStyleModel",
            "_view_count": null,
            "_view_module": "@jupyter-widgets/base",
            "_view_module_version": "1.2.0",
            "_view_name": "StyleView",
            "description_width": ""
          }
        },
        "59b8ff98ac9a4ecbb9485fd10b8a27e2": {
          "model_module": "@jupyter-widgets/base",
          "model_name": "LayoutModel",
          "model_module_version": "1.2.0",
          "state": {
            "_model_module": "@jupyter-widgets/base",
            "_model_module_version": "1.2.0",
            "_model_name": "LayoutModel",
            "_view_count": null,
            "_view_module": "@jupyter-widgets/base",
            "_view_module_version": "1.2.0",
            "_view_name": "LayoutView",
            "align_content": null,
            "align_items": null,
            "align_self": null,
            "border": null,
            "bottom": null,
            "display": null,
            "flex": null,
            "flex_flow": null,
            "grid_area": null,
            "grid_auto_columns": null,
            "grid_auto_flow": null,
            "grid_auto_rows": null,
            "grid_column": null,
            "grid_gap": null,
            "grid_row": null,
            "grid_template_areas": null,
            "grid_template_columns": null,
            "grid_template_rows": null,
            "height": null,
            "justify_content": null,
            "justify_items": null,
            "left": null,
            "margin": null,
            "max_height": null,
            "max_width": null,
            "min_height": null,
            "min_width": null,
            "object_fit": null,
            "object_position": null,
            "order": null,
            "overflow": null,
            "overflow_x": null,
            "overflow_y": null,
            "padding": null,
            "right": null,
            "top": null,
            "visibility": null,
            "width": null
          }
        },
        "32c0e2cb345e4f49869529dcb68cbdd5": {
          "model_module": "@jupyter-widgets/controls",
          "model_name": "ProgressStyleModel",
          "model_module_version": "1.5.0",
          "state": {
            "_model_module": "@jupyter-widgets/controls",
            "_model_module_version": "1.5.0",
            "_model_name": "ProgressStyleModel",
            "_view_count": null,
            "_view_module": "@jupyter-widgets/base",
            "_view_module_version": "1.2.0",
            "_view_name": "StyleView",
            "bar_color": null,
            "description_width": ""
          }
        },
        "96654f9d1356464283fb712a680c50c4": {
          "model_module": "@jupyter-widgets/base",
          "model_name": "LayoutModel",
          "model_module_version": "1.2.0",
          "state": {
            "_model_module": "@jupyter-widgets/base",
            "_model_module_version": "1.2.0",
            "_model_name": "LayoutModel",
            "_view_count": null,
            "_view_module": "@jupyter-widgets/base",
            "_view_module_version": "1.2.0",
            "_view_name": "LayoutView",
            "align_content": null,
            "align_items": null,
            "align_self": null,
            "border": null,
            "bottom": null,
            "display": null,
            "flex": null,
            "flex_flow": null,
            "grid_area": null,
            "grid_auto_columns": null,
            "grid_auto_flow": null,
            "grid_auto_rows": null,
            "grid_column": null,
            "grid_gap": null,
            "grid_row": null,
            "grid_template_areas": null,
            "grid_template_columns": null,
            "grid_template_rows": null,
            "height": null,
            "justify_content": null,
            "justify_items": null,
            "left": null,
            "margin": null,
            "max_height": null,
            "max_width": null,
            "min_height": null,
            "min_width": null,
            "object_fit": null,
            "object_position": null,
            "order": null,
            "overflow": null,
            "overflow_x": null,
            "overflow_y": null,
            "padding": null,
            "right": null,
            "top": null,
            "visibility": null,
            "width": null
          }
        },
        "0f055bef20aa45268617ca14d5a09bbb": {
          "model_module": "@jupyter-widgets/controls",
          "model_name": "DescriptionStyleModel",
          "model_module_version": "1.5.0",
          "state": {
            "_model_module": "@jupyter-widgets/controls",
            "_model_module_version": "1.5.0",
            "_model_name": "DescriptionStyleModel",
            "_view_count": null,
            "_view_module": "@jupyter-widgets/base",
            "_view_module_version": "1.2.0",
            "_view_name": "StyleView",
            "description_width": ""
          }
        },
        "c70506e774134e008dfef79283082e30": {
          "model_module": "@jupyter-widgets/controls",
          "model_name": "HBoxModel",
          "model_module_version": "1.5.0",
          "state": {
            "_dom_classes": [],
            "_model_module": "@jupyter-widgets/controls",
            "_model_module_version": "1.5.0",
            "_model_name": "HBoxModel",
            "_view_count": null,
            "_view_module": "@jupyter-widgets/controls",
            "_view_module_version": "1.5.0",
            "_view_name": "HBoxView",
            "box_style": "",
            "children": [
              "IPY_MODEL_22321a46b3e545918fb8eaaab789f619",
              "IPY_MODEL_b92814c9ce2d45048a3f50cbf3177a46",
              "IPY_MODEL_bfd150f994604a0d8815579c7bab69db"
            ],
            "layout": "IPY_MODEL_938db40ec2e14fe79f13d5f19bed73d7"
          }
        },
        "22321a46b3e545918fb8eaaab789f619": {
          "model_module": "@jupyter-widgets/controls",
          "model_name": "HTMLModel",
          "model_module_version": "1.5.0",
          "state": {
            "_dom_classes": [],
            "_model_module": "@jupyter-widgets/controls",
            "_model_module_version": "1.5.0",
            "_model_name": "HTMLModel",
            "_view_count": null,
            "_view_module": "@jupyter-widgets/controls",
            "_view_module_version": "1.5.0",
            "_view_name": "HTMLView",
            "description": "",
            "description_tooltip": null,
            "layout": "IPY_MODEL_8f1a1f8189e445b7a6302ccc128e454a",
            "placeholder": "​",
            "style": "IPY_MODEL_039c8f5a6a694f98b668e97c7d0001e6",
            "value": "Downloading: 100%"
          }
        },
        "b92814c9ce2d45048a3f50cbf3177a46": {
          "model_module": "@jupyter-widgets/controls",
          "model_name": "FloatProgressModel",
          "model_module_version": "1.5.0",
          "state": {
            "_dom_classes": [],
            "_model_module": "@jupyter-widgets/controls",
            "_model_module_version": "1.5.0",
            "_model_name": "FloatProgressModel",
            "_view_count": null,
            "_view_module": "@jupyter-widgets/controls",
            "_view_module_version": "1.5.0",
            "_view_name": "ProgressView",
            "bar_style": "success",
            "description": "",
            "description_tooltip": null,
            "layout": "IPY_MODEL_b698d10d4a664c70b6346bc95d1b67a4",
            "max": 5069051,
            "min": 0,
            "orientation": "horizontal",
            "style": "IPY_MODEL_1841a6eb76474bfd97073d0590bb1a98",
            "value": 5069051
          }
        },
        "bfd150f994604a0d8815579c7bab69db": {
          "model_module": "@jupyter-widgets/controls",
          "model_name": "HTMLModel",
          "model_module_version": "1.5.0",
          "state": {
            "_dom_classes": [],
            "_model_module": "@jupyter-widgets/controls",
            "_model_module_version": "1.5.0",
            "_model_name": "HTMLModel",
            "_view_count": null,
            "_view_module": "@jupyter-widgets/controls",
            "_view_module_version": "1.5.0",
            "_view_name": "HTMLView",
            "description": "",
            "description_tooltip": null,
            "layout": "IPY_MODEL_4f6b7eef019646d59b3eb9c28a4a0103",
            "placeholder": "​",
            "style": "IPY_MODEL_53c653b78de649b7824700f2caabadde",
            "value": " 4.83M/4.83M [00:00&lt;00:00, 12.0MB/s]"
          }
        },
        "938db40ec2e14fe79f13d5f19bed73d7": {
          "model_module": "@jupyter-widgets/base",
          "model_name": "LayoutModel",
          "model_module_version": "1.2.0",
          "state": {
            "_model_module": "@jupyter-widgets/base",
            "_model_module_version": "1.2.0",
            "_model_name": "LayoutModel",
            "_view_count": null,
            "_view_module": "@jupyter-widgets/base",
            "_view_module_version": "1.2.0",
            "_view_name": "LayoutView",
            "align_content": null,
            "align_items": null,
            "align_self": null,
            "border": null,
            "bottom": null,
            "display": null,
            "flex": null,
            "flex_flow": null,
            "grid_area": null,
            "grid_auto_columns": null,
            "grid_auto_flow": null,
            "grid_auto_rows": null,
            "grid_column": null,
            "grid_gap": null,
            "grid_row": null,
            "grid_template_areas": null,
            "grid_template_columns": null,
            "grid_template_rows": null,
            "height": null,
            "justify_content": null,
            "justify_items": null,
            "left": null,
            "margin": null,
            "max_height": null,
            "max_width": null,
            "min_height": null,
            "min_width": null,
            "object_fit": null,
            "object_position": null,
            "order": null,
            "overflow": null,
            "overflow_x": null,
            "overflow_y": null,
            "padding": null,
            "right": null,
            "top": null,
            "visibility": null,
            "width": null
          }
        },
        "8f1a1f8189e445b7a6302ccc128e454a": {
          "model_module": "@jupyter-widgets/base",
          "model_name": "LayoutModel",
          "model_module_version": "1.2.0",
          "state": {
            "_model_module": "@jupyter-widgets/base",
            "_model_module_version": "1.2.0",
            "_model_name": "LayoutModel",
            "_view_count": null,
            "_view_module": "@jupyter-widgets/base",
            "_view_module_version": "1.2.0",
            "_view_name": "LayoutView",
            "align_content": null,
            "align_items": null,
            "align_self": null,
            "border": null,
            "bottom": null,
            "display": null,
            "flex": null,
            "flex_flow": null,
            "grid_area": null,
            "grid_auto_columns": null,
            "grid_auto_flow": null,
            "grid_auto_rows": null,
            "grid_column": null,
            "grid_gap": null,
            "grid_row": null,
            "grid_template_areas": null,
            "grid_template_columns": null,
            "grid_template_rows": null,
            "height": null,
            "justify_content": null,
            "justify_items": null,
            "left": null,
            "margin": null,
            "max_height": null,
            "max_width": null,
            "min_height": null,
            "min_width": null,
            "object_fit": null,
            "object_position": null,
            "order": null,
            "overflow": null,
            "overflow_x": null,
            "overflow_y": null,
            "padding": null,
            "right": null,
            "top": null,
            "visibility": null,
            "width": null
          }
        },
        "039c8f5a6a694f98b668e97c7d0001e6": {
          "model_module": "@jupyter-widgets/controls",
          "model_name": "DescriptionStyleModel",
          "model_module_version": "1.5.0",
          "state": {
            "_model_module": "@jupyter-widgets/controls",
            "_model_module_version": "1.5.0",
            "_model_name": "DescriptionStyleModel",
            "_view_count": null,
            "_view_module": "@jupyter-widgets/base",
            "_view_module_version": "1.2.0",
            "_view_name": "StyleView",
            "description_width": ""
          }
        },
        "b698d10d4a664c70b6346bc95d1b67a4": {
          "model_module": "@jupyter-widgets/base",
          "model_name": "LayoutModel",
          "model_module_version": "1.2.0",
          "state": {
            "_model_module": "@jupyter-widgets/base",
            "_model_module_version": "1.2.0",
            "_model_name": "LayoutModel",
            "_view_count": null,
            "_view_module": "@jupyter-widgets/base",
            "_view_module_version": "1.2.0",
            "_view_name": "LayoutView",
            "align_content": null,
            "align_items": null,
            "align_self": null,
            "border": null,
            "bottom": null,
            "display": null,
            "flex": null,
            "flex_flow": null,
            "grid_area": null,
            "grid_auto_columns": null,
            "grid_auto_flow": null,
            "grid_auto_rows": null,
            "grid_column": null,
            "grid_gap": null,
            "grid_row": null,
            "grid_template_areas": null,
            "grid_template_columns": null,
            "grid_template_rows": null,
            "height": null,
            "justify_content": null,
            "justify_items": null,
            "left": null,
            "margin": null,
            "max_height": null,
            "max_width": null,
            "min_height": null,
            "min_width": null,
            "object_fit": null,
            "object_position": null,
            "order": null,
            "overflow": null,
            "overflow_x": null,
            "overflow_y": null,
            "padding": null,
            "right": null,
            "top": null,
            "visibility": null,
            "width": null
          }
        },
        "1841a6eb76474bfd97073d0590bb1a98": {
          "model_module": "@jupyter-widgets/controls",
          "model_name": "ProgressStyleModel",
          "model_module_version": "1.5.0",
          "state": {
            "_model_module": "@jupyter-widgets/controls",
            "_model_module_version": "1.5.0",
            "_model_name": "ProgressStyleModel",
            "_view_count": null,
            "_view_module": "@jupyter-widgets/base",
            "_view_module_version": "1.2.0",
            "_view_name": "StyleView",
            "bar_color": null,
            "description_width": ""
          }
        },
        "4f6b7eef019646d59b3eb9c28a4a0103": {
          "model_module": "@jupyter-widgets/base",
          "model_name": "LayoutModel",
          "model_module_version": "1.2.0",
          "state": {
            "_model_module": "@jupyter-widgets/base",
            "_model_module_version": "1.2.0",
            "_model_name": "LayoutModel",
            "_view_count": null,
            "_view_module": "@jupyter-widgets/base",
            "_view_module_version": "1.2.0",
            "_view_name": "LayoutView",
            "align_content": null,
            "align_items": null,
            "align_self": null,
            "border": null,
            "bottom": null,
            "display": null,
            "flex": null,
            "flex_flow": null,
            "grid_area": null,
            "grid_auto_columns": null,
            "grid_auto_flow": null,
            "grid_auto_rows": null,
            "grid_column": null,
            "grid_gap": null,
            "grid_row": null,
            "grid_template_areas": null,
            "grid_template_columns": null,
            "grid_template_rows": null,
            "height": null,
            "justify_content": null,
            "justify_items": null,
            "left": null,
            "margin": null,
            "max_height": null,
            "max_width": null,
            "min_height": null,
            "min_width": null,
            "object_fit": null,
            "object_position": null,
            "order": null,
            "overflow": null,
            "overflow_x": null,
            "overflow_y": null,
            "padding": null,
            "right": null,
            "top": null,
            "visibility": null,
            "width": null
          }
        },
        "53c653b78de649b7824700f2caabadde": {
          "model_module": "@jupyter-widgets/controls",
          "model_name": "DescriptionStyleModel",
          "model_module_version": "1.5.0",
          "state": {
            "_model_module": "@jupyter-widgets/controls",
            "_model_module_version": "1.5.0",
            "_model_name": "DescriptionStyleModel",
            "_view_count": null,
            "_view_module": "@jupyter-widgets/base",
            "_view_module_version": "1.2.0",
            "_view_name": "StyleView",
            "description_width": ""
          }
        },
        "0b7926f019074ee686eda01279b0c0b5": {
          "model_module": "@jupyter-widgets/controls",
          "model_name": "HBoxModel",
          "model_module_version": "1.5.0",
          "state": {
            "_dom_classes": [],
            "_model_module": "@jupyter-widgets/controls",
            "_model_module_version": "1.5.0",
            "_model_name": "HBoxModel",
            "_view_count": null,
            "_view_module": "@jupyter-widgets/controls",
            "_view_module_version": "1.5.0",
            "_view_name": "HBoxView",
            "box_style": "",
            "children": [
              "IPY_MODEL_bfbef38162364578af44b8efa70b8db6",
              "IPY_MODEL_7d55c4fdc52c4e84a61efe2ed21eee2e",
              "IPY_MODEL_7861322e407242cc931409d1abe7bcee"
            ],
            "layout": "IPY_MODEL_b646ad1b10fb4a0588f4515dfeaf9847"
          }
        },
        "bfbef38162364578af44b8efa70b8db6": {
          "model_module": "@jupyter-widgets/controls",
          "model_name": "HTMLModel",
          "model_module_version": "1.5.0",
          "state": {
            "_dom_classes": [],
            "_model_module": "@jupyter-widgets/controls",
            "_model_module_version": "1.5.0",
            "_model_name": "HTMLModel",
            "_view_count": null,
            "_view_module": "@jupyter-widgets/controls",
            "_view_module_version": "1.5.0",
            "_view_name": "HTMLView",
            "description": "",
            "description_tooltip": null,
            "layout": "IPY_MODEL_e9c9a92ed7d4444087ff45af3734727b",
            "placeholder": "​",
            "style": "IPY_MODEL_5a5330d051444730963019d79afc267b",
            "value": "Downloading: 100%"
          }
        },
        "7d55c4fdc52c4e84a61efe2ed21eee2e": {
          "model_module": "@jupyter-widgets/controls",
          "model_name": "FloatProgressModel",
          "model_module_version": "1.5.0",
          "state": {
            "_dom_classes": [],
            "_model_module": "@jupyter-widgets/controls",
            "_model_module_version": "1.5.0",
            "_model_name": "FloatProgressModel",
            "_view_count": null,
            "_view_module": "@jupyter-widgets/controls",
            "_view_module_version": "1.5.0",
            "_view_name": "ProgressView",
            "bar_style": "success",
            "description": "",
            "description_tooltip": null,
            "layout": "IPY_MODEL_2fe27034a0334e3cb7eaaa68a7567d84",
            "max": 9096718,
            "min": 0,
            "orientation": "horizontal",
            "style": "IPY_MODEL_1ae46b4473e3408da3c73524dbf3f56f",
            "value": 9096718
          }
        },
        "7861322e407242cc931409d1abe7bcee": {
          "model_module": "@jupyter-widgets/controls",
          "model_name": "HTMLModel",
          "model_module_version": "1.5.0",
          "state": {
            "_dom_classes": [],
            "_model_module": "@jupyter-widgets/controls",
            "_model_module_version": "1.5.0",
            "_model_name": "HTMLModel",
            "_view_count": null,
            "_view_module": "@jupyter-widgets/controls",
            "_view_module_version": "1.5.0",
            "_view_name": "HTMLView",
            "description": "",
            "description_tooltip": null,
            "layout": "IPY_MODEL_cc47edb146254978b67f1045082720f0",
            "placeholder": "​",
            "style": "IPY_MODEL_43af4f7cc1594f4884594258d4af396c",
            "value": " 8.68M/8.68M [00:00&lt;00:00, 10.6MB/s]"
          }
        },
        "b646ad1b10fb4a0588f4515dfeaf9847": {
          "model_module": "@jupyter-widgets/base",
          "model_name": "LayoutModel",
          "model_module_version": "1.2.0",
          "state": {
            "_model_module": "@jupyter-widgets/base",
            "_model_module_version": "1.2.0",
            "_model_name": "LayoutModel",
            "_view_count": null,
            "_view_module": "@jupyter-widgets/base",
            "_view_module_version": "1.2.0",
            "_view_name": "LayoutView",
            "align_content": null,
            "align_items": null,
            "align_self": null,
            "border": null,
            "bottom": null,
            "display": null,
            "flex": null,
            "flex_flow": null,
            "grid_area": null,
            "grid_auto_columns": null,
            "grid_auto_flow": null,
            "grid_auto_rows": null,
            "grid_column": null,
            "grid_gap": null,
            "grid_row": null,
            "grid_template_areas": null,
            "grid_template_columns": null,
            "grid_template_rows": null,
            "height": null,
            "justify_content": null,
            "justify_items": null,
            "left": null,
            "margin": null,
            "max_height": null,
            "max_width": null,
            "min_height": null,
            "min_width": null,
            "object_fit": null,
            "object_position": null,
            "order": null,
            "overflow": null,
            "overflow_x": null,
            "overflow_y": null,
            "padding": null,
            "right": null,
            "top": null,
            "visibility": null,
            "width": null
          }
        },
        "e9c9a92ed7d4444087ff45af3734727b": {
          "model_module": "@jupyter-widgets/base",
          "model_name": "LayoutModel",
          "model_module_version": "1.2.0",
          "state": {
            "_model_module": "@jupyter-widgets/base",
            "_model_module_version": "1.2.0",
            "_model_name": "LayoutModel",
            "_view_count": null,
            "_view_module": "@jupyter-widgets/base",
            "_view_module_version": "1.2.0",
            "_view_name": "LayoutView",
            "align_content": null,
            "align_items": null,
            "align_self": null,
            "border": null,
            "bottom": null,
            "display": null,
            "flex": null,
            "flex_flow": null,
            "grid_area": null,
            "grid_auto_columns": null,
            "grid_auto_flow": null,
            "grid_auto_rows": null,
            "grid_column": null,
            "grid_gap": null,
            "grid_row": null,
            "grid_template_areas": null,
            "grid_template_columns": null,
            "grid_template_rows": null,
            "height": null,
            "justify_content": null,
            "justify_items": null,
            "left": null,
            "margin": null,
            "max_height": null,
            "max_width": null,
            "min_height": null,
            "min_width": null,
            "object_fit": null,
            "object_position": null,
            "order": null,
            "overflow": null,
            "overflow_x": null,
            "overflow_y": null,
            "padding": null,
            "right": null,
            "top": null,
            "visibility": null,
            "width": null
          }
        },
        "5a5330d051444730963019d79afc267b": {
          "model_module": "@jupyter-widgets/controls",
          "model_name": "DescriptionStyleModel",
          "model_module_version": "1.5.0",
          "state": {
            "_model_module": "@jupyter-widgets/controls",
            "_model_module_version": "1.5.0",
            "_model_name": "DescriptionStyleModel",
            "_view_count": null,
            "_view_module": "@jupyter-widgets/base",
            "_view_module_version": "1.2.0",
            "_view_name": "StyleView",
            "description_width": ""
          }
        },
        "2fe27034a0334e3cb7eaaa68a7567d84": {
          "model_module": "@jupyter-widgets/base",
          "model_name": "LayoutModel",
          "model_module_version": "1.2.0",
          "state": {
            "_model_module": "@jupyter-widgets/base",
            "_model_module_version": "1.2.0",
            "_model_name": "LayoutModel",
            "_view_count": null,
            "_view_module": "@jupyter-widgets/base",
            "_view_module_version": "1.2.0",
            "_view_name": "LayoutView",
            "align_content": null,
            "align_items": null,
            "align_self": null,
            "border": null,
            "bottom": null,
            "display": null,
            "flex": null,
            "flex_flow": null,
            "grid_area": null,
            "grid_auto_columns": null,
            "grid_auto_flow": null,
            "grid_auto_rows": null,
            "grid_column": null,
            "grid_gap": null,
            "grid_row": null,
            "grid_template_areas": null,
            "grid_template_columns": null,
            "grid_template_rows": null,
            "height": null,
            "justify_content": null,
            "justify_items": null,
            "left": null,
            "margin": null,
            "max_height": null,
            "max_width": null,
            "min_height": null,
            "min_width": null,
            "object_fit": null,
            "object_position": null,
            "order": null,
            "overflow": null,
            "overflow_x": null,
            "overflow_y": null,
            "padding": null,
            "right": null,
            "top": null,
            "visibility": null,
            "width": null
          }
        },
        "1ae46b4473e3408da3c73524dbf3f56f": {
          "model_module": "@jupyter-widgets/controls",
          "model_name": "ProgressStyleModel",
          "model_module_version": "1.5.0",
          "state": {
            "_model_module": "@jupyter-widgets/controls",
            "_model_module_version": "1.5.0",
            "_model_name": "ProgressStyleModel",
            "_view_count": null,
            "_view_module": "@jupyter-widgets/base",
            "_view_module_version": "1.2.0",
            "_view_name": "StyleView",
            "bar_color": null,
            "description_width": ""
          }
        },
        "cc47edb146254978b67f1045082720f0": {
          "model_module": "@jupyter-widgets/base",
          "model_name": "LayoutModel",
          "model_module_version": "1.2.0",
          "state": {
            "_model_module": "@jupyter-widgets/base",
            "_model_module_version": "1.2.0",
            "_model_name": "LayoutModel",
            "_view_count": null,
            "_view_module": "@jupyter-widgets/base",
            "_view_module_version": "1.2.0",
            "_view_name": "LayoutView",
            "align_content": null,
            "align_items": null,
            "align_self": null,
            "border": null,
            "bottom": null,
            "display": null,
            "flex": null,
            "flex_flow": null,
            "grid_area": null,
            "grid_auto_columns": null,
            "grid_auto_flow": null,
            "grid_auto_rows": null,
            "grid_column": null,
            "grid_gap": null,
            "grid_row": null,
            "grid_template_areas": null,
            "grid_template_columns": null,
            "grid_template_rows": null,
            "height": null,
            "justify_content": null,
            "justify_items": null,
            "left": null,
            "margin": null,
            "max_height": null,
            "max_width": null,
            "min_height": null,
            "min_width": null,
            "object_fit": null,
            "object_position": null,
            "order": null,
            "overflow": null,
            "overflow_x": null,
            "overflow_y": null,
            "padding": null,
            "right": null,
            "top": null,
            "visibility": null,
            "width": null
          }
        },
        "43af4f7cc1594f4884594258d4af396c": {
          "model_module": "@jupyter-widgets/controls",
          "model_name": "DescriptionStyleModel",
          "model_module_version": "1.5.0",
          "state": {
            "_model_module": "@jupyter-widgets/controls",
            "_model_module_version": "1.5.0",
            "_model_name": "DescriptionStyleModel",
            "_view_count": null,
            "_view_module": "@jupyter-widgets/base",
            "_view_module_version": "1.2.0",
            "_view_name": "StyleView",
            "description_width": ""
          }
        },
        "969c182db473443a855db598f8a94285": {
          "model_module": "@jupyter-widgets/controls",
          "model_name": "HBoxModel",
          "model_module_version": "1.5.0",
          "state": {
            "_dom_classes": [],
            "_model_module": "@jupyter-widgets/controls",
            "_model_module_version": "1.5.0",
            "_model_name": "HBoxModel",
            "_view_count": null,
            "_view_module": "@jupyter-widgets/controls",
            "_view_module_version": "1.5.0",
            "_view_name": "HBoxView",
            "box_style": "",
            "children": [
              "IPY_MODEL_e6a34a15f87a4505bd22194b47683f45",
              "IPY_MODEL_2f584f04af5a41049d3d388829e3c4b1",
              "IPY_MODEL_f5608efc7d8244878adbdb9a2025d30b"
            ],
            "layout": "IPY_MODEL_86bb079f5a47457881a850c38fc80d73"
          }
        },
        "e6a34a15f87a4505bd22194b47683f45": {
          "model_module": "@jupyter-widgets/controls",
          "model_name": "HTMLModel",
          "model_module_version": "1.5.0",
          "state": {
            "_dom_classes": [],
            "_model_module": "@jupyter-widgets/controls",
            "_model_module_version": "1.5.0",
            "_model_name": "HTMLModel",
            "_view_count": null,
            "_view_module": "@jupyter-widgets/controls",
            "_view_module_version": "1.5.0",
            "_view_name": "HTMLView",
            "description": "",
            "description_tooltip": null,
            "layout": "IPY_MODEL_52b74cbe39844919ac7f5e3d2c7009cc",
            "placeholder": "​",
            "style": "IPY_MODEL_552a0b3e4aff4ad7a2577995509d8de6",
            "value": "100%"
          }
        },
        "2f584f04af5a41049d3d388829e3c4b1": {
          "model_module": "@jupyter-widgets/controls",
          "model_name": "FloatProgressModel",
          "model_module_version": "1.5.0",
          "state": {
            "_dom_classes": [],
            "_model_module": "@jupyter-widgets/controls",
            "_model_module_version": "1.5.0",
            "_model_name": "FloatProgressModel",
            "_view_count": null,
            "_view_module": "@jupyter-widgets/controls",
            "_view_module_version": "1.5.0",
            "_view_name": "ProgressView",
            "bar_style": "success",
            "description": "",
            "description_tooltip": null,
            "layout": "IPY_MODEL_a11347898ea64329ac62f3183a240c41",
            "max": 100000,
            "min": 0,
            "orientation": "horizontal",
            "style": "IPY_MODEL_3bed1e2d461646b8ac4909c14cf9bfaa",
            "value": 100000
          }
        },
        "f5608efc7d8244878adbdb9a2025d30b": {
          "model_module": "@jupyter-widgets/controls",
          "model_name": "HTMLModel",
          "model_module_version": "1.5.0",
          "state": {
            "_dom_classes": [],
            "_model_module": "@jupyter-widgets/controls",
            "_model_module_version": "1.5.0",
            "_model_name": "HTMLModel",
            "_view_count": null,
            "_view_module": "@jupyter-widgets/controls",
            "_view_module_version": "1.5.0",
            "_view_name": "HTMLView",
            "description": "",
            "description_tooltip": null,
            "layout": "IPY_MODEL_8e578b976f6a4ace9f12f4ca93c9d76a",
            "placeholder": "​",
            "style": "IPY_MODEL_6912036163d74db48afbc33bb2821d79",
            "value": " 100000/100000 [01:10&lt;00:00, 3001.10it/s]"
          }
        },
        "86bb079f5a47457881a850c38fc80d73": {
          "model_module": "@jupyter-widgets/base",
          "model_name": "LayoutModel",
          "model_module_version": "1.2.0",
          "state": {
            "_model_module": "@jupyter-widgets/base",
            "_model_module_version": "1.2.0",
            "_model_name": "LayoutModel",
            "_view_count": null,
            "_view_module": "@jupyter-widgets/base",
            "_view_module_version": "1.2.0",
            "_view_name": "LayoutView",
            "align_content": null,
            "align_items": null,
            "align_self": null,
            "border": null,
            "bottom": null,
            "display": null,
            "flex": null,
            "flex_flow": null,
            "grid_area": null,
            "grid_auto_columns": null,
            "grid_auto_flow": null,
            "grid_auto_rows": null,
            "grid_column": null,
            "grid_gap": null,
            "grid_row": null,
            "grid_template_areas": null,
            "grid_template_columns": null,
            "grid_template_rows": null,
            "height": null,
            "justify_content": null,
            "justify_items": null,
            "left": null,
            "margin": null,
            "max_height": null,
            "max_width": null,
            "min_height": null,
            "min_width": null,
            "object_fit": null,
            "object_position": null,
            "order": null,
            "overflow": null,
            "overflow_x": null,
            "overflow_y": null,
            "padding": null,
            "right": null,
            "top": null,
            "visibility": null,
            "width": null
          }
        },
        "52b74cbe39844919ac7f5e3d2c7009cc": {
          "model_module": "@jupyter-widgets/base",
          "model_name": "LayoutModel",
          "model_module_version": "1.2.0",
          "state": {
            "_model_module": "@jupyter-widgets/base",
            "_model_module_version": "1.2.0",
            "_model_name": "LayoutModel",
            "_view_count": null,
            "_view_module": "@jupyter-widgets/base",
            "_view_module_version": "1.2.0",
            "_view_name": "LayoutView",
            "align_content": null,
            "align_items": null,
            "align_self": null,
            "border": null,
            "bottom": null,
            "display": null,
            "flex": null,
            "flex_flow": null,
            "grid_area": null,
            "grid_auto_columns": null,
            "grid_auto_flow": null,
            "grid_auto_rows": null,
            "grid_column": null,
            "grid_gap": null,
            "grid_row": null,
            "grid_template_areas": null,
            "grid_template_columns": null,
            "grid_template_rows": null,
            "height": null,
            "justify_content": null,
            "justify_items": null,
            "left": null,
            "margin": null,
            "max_height": null,
            "max_width": null,
            "min_height": null,
            "min_width": null,
            "object_fit": null,
            "object_position": null,
            "order": null,
            "overflow": null,
            "overflow_x": null,
            "overflow_y": null,
            "padding": null,
            "right": null,
            "top": null,
            "visibility": null,
            "width": null
          }
        },
        "552a0b3e4aff4ad7a2577995509d8de6": {
          "model_module": "@jupyter-widgets/controls",
          "model_name": "DescriptionStyleModel",
          "model_module_version": "1.5.0",
          "state": {
            "_model_module": "@jupyter-widgets/controls",
            "_model_module_version": "1.5.0",
            "_model_name": "DescriptionStyleModel",
            "_view_count": null,
            "_view_module": "@jupyter-widgets/base",
            "_view_module_version": "1.2.0",
            "_view_name": "StyleView",
            "description_width": ""
          }
        },
        "a11347898ea64329ac62f3183a240c41": {
          "model_module": "@jupyter-widgets/base",
          "model_name": "LayoutModel",
          "model_module_version": "1.2.0",
          "state": {
            "_model_module": "@jupyter-widgets/base",
            "_model_module_version": "1.2.0",
            "_model_name": "LayoutModel",
            "_view_count": null,
            "_view_module": "@jupyter-widgets/base",
            "_view_module_version": "1.2.0",
            "_view_name": "LayoutView",
            "align_content": null,
            "align_items": null,
            "align_self": null,
            "border": null,
            "bottom": null,
            "display": null,
            "flex": null,
            "flex_flow": null,
            "grid_area": null,
            "grid_auto_columns": null,
            "grid_auto_flow": null,
            "grid_auto_rows": null,
            "grid_column": null,
            "grid_gap": null,
            "grid_row": null,
            "grid_template_areas": null,
            "grid_template_columns": null,
            "grid_template_rows": null,
            "height": null,
            "justify_content": null,
            "justify_items": null,
            "left": null,
            "margin": null,
            "max_height": null,
            "max_width": null,
            "min_height": null,
            "min_width": null,
            "object_fit": null,
            "object_position": null,
            "order": null,
            "overflow": null,
            "overflow_x": null,
            "overflow_y": null,
            "padding": null,
            "right": null,
            "top": null,
            "visibility": null,
            "width": null
          }
        },
        "3bed1e2d461646b8ac4909c14cf9bfaa": {
          "model_module": "@jupyter-widgets/controls",
          "model_name": "ProgressStyleModel",
          "model_module_version": "1.5.0",
          "state": {
            "_model_module": "@jupyter-widgets/controls",
            "_model_module_version": "1.5.0",
            "_model_name": "ProgressStyleModel",
            "_view_count": null,
            "_view_module": "@jupyter-widgets/base",
            "_view_module_version": "1.2.0",
            "_view_name": "StyleView",
            "bar_color": null,
            "description_width": ""
          }
        },
        "8e578b976f6a4ace9f12f4ca93c9d76a": {
          "model_module": "@jupyter-widgets/base",
          "model_name": "LayoutModel",
          "model_module_version": "1.2.0",
          "state": {
            "_model_module": "@jupyter-widgets/base",
            "_model_module_version": "1.2.0",
            "_model_name": "LayoutModel",
            "_view_count": null,
            "_view_module": "@jupyter-widgets/base",
            "_view_module_version": "1.2.0",
            "_view_name": "LayoutView",
            "align_content": null,
            "align_items": null,
            "align_self": null,
            "border": null,
            "bottom": null,
            "display": null,
            "flex": null,
            "flex_flow": null,
            "grid_area": null,
            "grid_auto_columns": null,
            "grid_auto_flow": null,
            "grid_auto_rows": null,
            "grid_column": null,
            "grid_gap": null,
            "grid_row": null,
            "grid_template_areas": null,
            "grid_template_columns": null,
            "grid_template_rows": null,
            "height": null,
            "justify_content": null,
            "justify_items": null,
            "left": null,
            "margin": null,
            "max_height": null,
            "max_width": null,
            "min_height": null,
            "min_width": null,
            "object_fit": null,
            "object_position": null,
            "order": null,
            "overflow": null,
            "overflow_x": null,
            "overflow_y": null,
            "padding": null,
            "right": null,
            "top": null,
            "visibility": null,
            "width": null
          }
        },
        "6912036163d74db48afbc33bb2821d79": {
          "model_module": "@jupyter-widgets/controls",
          "model_name": "DescriptionStyleModel",
          "model_module_version": "1.5.0",
          "state": {
            "_model_module": "@jupyter-widgets/controls",
            "_model_module_version": "1.5.0",
            "_model_name": "DescriptionStyleModel",
            "_view_count": null,
            "_view_module": "@jupyter-widgets/base",
            "_view_module_version": "1.2.0",
            "_view_name": "StyleView",
            "description_width": ""
          }
        },
        "73280ac72e874842900b781f9395be53": {
          "model_module": "@jupyter-widgets/controls",
          "model_name": "HBoxModel",
          "model_module_version": "1.5.0",
          "state": {
            "_dom_classes": [],
            "_model_module": "@jupyter-widgets/controls",
            "_model_module_version": "1.5.0",
            "_model_name": "HBoxModel",
            "_view_count": null,
            "_view_module": "@jupyter-widgets/controls",
            "_view_module_version": "1.5.0",
            "_view_name": "HBoxView",
            "box_style": "",
            "children": [
              "IPY_MODEL_a679b1a4b373474092ca4f84bb2c91ae",
              "IPY_MODEL_909476598b99491296baf61c95cef6eb",
              "IPY_MODEL_a2792a24710d4399b50778aa0af9741c"
            ],
            "layout": "IPY_MODEL_8145519b012d451fa97a984e1ab35199"
          }
        },
        "a679b1a4b373474092ca4f84bb2c91ae": {
          "model_module": "@jupyter-widgets/controls",
          "model_name": "HTMLModel",
          "model_module_version": "1.5.0",
          "state": {
            "_dom_classes": [],
            "_model_module": "@jupyter-widgets/controls",
            "_model_module_version": "1.5.0",
            "_model_name": "HTMLModel",
            "_view_count": null,
            "_view_module": "@jupyter-widgets/controls",
            "_view_module_version": "1.5.0",
            "_view_name": "HTMLView",
            "description": "",
            "description_tooltip": null,
            "layout": "IPY_MODEL_db1c0b689cd140f191af81442bad0fe4",
            "placeholder": "​",
            "style": "IPY_MODEL_2f9bfca670014b58a147e846d7f84ccc",
            "value": "100%"
          }
        },
        "909476598b99491296baf61c95cef6eb": {
          "model_module": "@jupyter-widgets/controls",
          "model_name": "FloatProgressModel",
          "model_module_version": "1.5.0",
          "state": {
            "_dom_classes": [],
            "_model_module": "@jupyter-widgets/controls",
            "_model_module_version": "1.5.0",
            "_model_name": "FloatProgressModel",
            "_view_count": null,
            "_view_module": "@jupyter-widgets/controls",
            "_view_module_version": "1.5.0",
            "_view_name": "ProgressView",
            "bar_style": "success",
            "description": "",
            "description_tooltip": null,
            "layout": "IPY_MODEL_f185b8fe2ad24e4a9495f3187cd6695c",
            "max": 4980,
            "min": 0,
            "orientation": "horizontal",
            "style": "IPY_MODEL_1d4d63da432143b0a663bbb354cb312d",
            "value": 4980
          }
        },
        "a2792a24710d4399b50778aa0af9741c": {
          "model_module": "@jupyter-widgets/controls",
          "model_name": "HTMLModel",
          "model_module_version": "1.5.0",
          "state": {
            "_dom_classes": [],
            "_model_module": "@jupyter-widgets/controls",
            "_model_module_version": "1.5.0",
            "_model_name": "HTMLModel",
            "_view_count": null,
            "_view_module": "@jupyter-widgets/controls",
            "_view_module_version": "1.5.0",
            "_view_name": "HTMLView",
            "description": "",
            "description_tooltip": null,
            "layout": "IPY_MODEL_eca07169f8e64f53aa84a141b31dc3cc",
            "placeholder": "​",
            "style": "IPY_MODEL_1a6f4a6ae1ea4db6bf93607036924e8c",
            "value": " 4980/4980 [00:31&lt;00:00, 4119.62it/s]"
          }
        },
        "8145519b012d451fa97a984e1ab35199": {
          "model_module": "@jupyter-widgets/base",
          "model_name": "LayoutModel",
          "model_module_version": "1.2.0",
          "state": {
            "_model_module": "@jupyter-widgets/base",
            "_model_module_version": "1.2.0",
            "_model_name": "LayoutModel",
            "_view_count": null,
            "_view_module": "@jupyter-widgets/base",
            "_view_module_version": "1.2.0",
            "_view_name": "LayoutView",
            "align_content": null,
            "align_items": null,
            "align_self": null,
            "border": null,
            "bottom": null,
            "display": null,
            "flex": null,
            "flex_flow": null,
            "grid_area": null,
            "grid_auto_columns": null,
            "grid_auto_flow": null,
            "grid_auto_rows": null,
            "grid_column": null,
            "grid_gap": null,
            "grid_row": null,
            "grid_template_areas": null,
            "grid_template_columns": null,
            "grid_template_rows": null,
            "height": null,
            "justify_content": null,
            "justify_items": null,
            "left": null,
            "margin": null,
            "max_height": null,
            "max_width": null,
            "min_height": null,
            "min_width": null,
            "object_fit": null,
            "object_position": null,
            "order": null,
            "overflow": null,
            "overflow_x": null,
            "overflow_y": null,
            "padding": null,
            "right": null,
            "top": null,
            "visibility": null,
            "width": null
          }
        },
        "db1c0b689cd140f191af81442bad0fe4": {
          "model_module": "@jupyter-widgets/base",
          "model_name": "LayoutModel",
          "model_module_version": "1.2.0",
          "state": {
            "_model_module": "@jupyter-widgets/base",
            "_model_module_version": "1.2.0",
            "_model_name": "LayoutModel",
            "_view_count": null,
            "_view_module": "@jupyter-widgets/base",
            "_view_module_version": "1.2.0",
            "_view_name": "LayoutView",
            "align_content": null,
            "align_items": null,
            "align_self": null,
            "border": null,
            "bottom": null,
            "display": null,
            "flex": null,
            "flex_flow": null,
            "grid_area": null,
            "grid_auto_columns": null,
            "grid_auto_flow": null,
            "grid_auto_rows": null,
            "grid_column": null,
            "grid_gap": null,
            "grid_row": null,
            "grid_template_areas": null,
            "grid_template_columns": null,
            "grid_template_rows": null,
            "height": null,
            "justify_content": null,
            "justify_items": null,
            "left": null,
            "margin": null,
            "max_height": null,
            "max_width": null,
            "min_height": null,
            "min_width": null,
            "object_fit": null,
            "object_position": null,
            "order": null,
            "overflow": null,
            "overflow_x": null,
            "overflow_y": null,
            "padding": null,
            "right": null,
            "top": null,
            "visibility": null,
            "width": null
          }
        },
        "2f9bfca670014b58a147e846d7f84ccc": {
          "model_module": "@jupyter-widgets/controls",
          "model_name": "DescriptionStyleModel",
          "model_module_version": "1.5.0",
          "state": {
            "_model_module": "@jupyter-widgets/controls",
            "_model_module_version": "1.5.0",
            "_model_name": "DescriptionStyleModel",
            "_view_count": null,
            "_view_module": "@jupyter-widgets/base",
            "_view_module_version": "1.2.0",
            "_view_name": "StyleView",
            "description_width": ""
          }
        },
        "f185b8fe2ad24e4a9495f3187cd6695c": {
          "model_module": "@jupyter-widgets/base",
          "model_name": "LayoutModel",
          "model_module_version": "1.2.0",
          "state": {
            "_model_module": "@jupyter-widgets/base",
            "_model_module_version": "1.2.0",
            "_model_name": "LayoutModel",
            "_view_count": null,
            "_view_module": "@jupyter-widgets/base",
            "_view_module_version": "1.2.0",
            "_view_name": "LayoutView",
            "align_content": null,
            "align_items": null,
            "align_self": null,
            "border": null,
            "bottom": null,
            "display": null,
            "flex": null,
            "flex_flow": null,
            "grid_area": null,
            "grid_auto_columns": null,
            "grid_auto_flow": null,
            "grid_auto_rows": null,
            "grid_column": null,
            "grid_gap": null,
            "grid_row": null,
            "grid_template_areas": null,
            "grid_template_columns": null,
            "grid_template_rows": null,
            "height": null,
            "justify_content": null,
            "justify_items": null,
            "left": null,
            "margin": null,
            "max_height": null,
            "max_width": null,
            "min_height": null,
            "min_width": null,
            "object_fit": null,
            "object_position": null,
            "order": null,
            "overflow": null,
            "overflow_x": null,
            "overflow_y": null,
            "padding": null,
            "right": null,
            "top": null,
            "visibility": null,
            "width": null
          }
        },
        "1d4d63da432143b0a663bbb354cb312d": {
          "model_module": "@jupyter-widgets/controls",
          "model_name": "ProgressStyleModel",
          "model_module_version": "1.5.0",
          "state": {
            "_model_module": "@jupyter-widgets/controls",
            "_model_module_version": "1.5.0",
            "_model_name": "ProgressStyleModel",
            "_view_count": null,
            "_view_module": "@jupyter-widgets/base",
            "_view_module_version": "1.2.0",
            "_view_name": "StyleView",
            "bar_color": null,
            "description_width": ""
          }
        },
        "eca07169f8e64f53aa84a141b31dc3cc": {
          "model_module": "@jupyter-widgets/base",
          "model_name": "LayoutModel",
          "model_module_version": "1.2.0",
          "state": {
            "_model_module": "@jupyter-widgets/base",
            "_model_module_version": "1.2.0",
            "_model_name": "LayoutModel",
            "_view_count": null,
            "_view_module": "@jupyter-widgets/base",
            "_view_module_version": "1.2.0",
            "_view_name": "LayoutView",
            "align_content": null,
            "align_items": null,
            "align_self": null,
            "border": null,
            "bottom": null,
            "display": null,
            "flex": null,
            "flex_flow": null,
            "grid_area": null,
            "grid_auto_columns": null,
            "grid_auto_flow": null,
            "grid_auto_rows": null,
            "grid_column": null,
            "grid_gap": null,
            "grid_row": null,
            "grid_template_areas": null,
            "grid_template_columns": null,
            "grid_template_rows": null,
            "height": null,
            "justify_content": null,
            "justify_items": null,
            "left": null,
            "margin": null,
            "max_height": null,
            "max_width": null,
            "min_height": null,
            "min_width": null,
            "object_fit": null,
            "object_position": null,
            "order": null,
            "overflow": null,
            "overflow_x": null,
            "overflow_y": null,
            "padding": null,
            "right": null,
            "top": null,
            "visibility": null,
            "width": null
          }
        },
        "1a6f4a6ae1ea4db6bf93607036924e8c": {
          "model_module": "@jupyter-widgets/controls",
          "model_name": "DescriptionStyleModel",
          "model_module_version": "1.5.0",
          "state": {
            "_model_module": "@jupyter-widgets/controls",
            "_model_module_version": "1.5.0",
            "_model_name": "DescriptionStyleModel",
            "_view_count": null,
            "_view_module": "@jupyter-widgets/base",
            "_view_module_version": "1.2.0",
            "_view_name": "StyleView",
            "description_width": ""
          }
        }
      }
    }
  },
  "nbformat": 4,
  "nbformat_minor": 0
}